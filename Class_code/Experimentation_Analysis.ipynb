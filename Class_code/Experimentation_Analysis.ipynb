{
 "cells": [
  {
   "cell_type": "code",
   "execution_count": 2,
   "metadata": {},
   "outputs": [
    {
     "name": "stdout",
     "output_type": "stream",
     "text": [
      "Requirement already satisfied: scipy in /Library/Frameworks/Python.framework/Versions/3.7/lib/python3.7/site-packages (1.7.3)\n",
      "Requirement already satisfied: numpy<1.23.0,>=1.16.5 in /Library/Frameworks/Python.framework/Versions/3.7/lib/python3.7/site-packages (from scipy) (1.21.6)\n",
      "\u001b[33mYou are using pip version 18.1, however version 23.1.2 is available.\n",
      "You should consider upgrading via the 'pip install --upgrade pip' command.\u001b[0m\n",
      "Note: you may need to restart the kernel to use updated packages.\n"
     ]
    }
   ],
   "source": [
    "pip install scipy"
   ]
  },
  {
   "cell_type": "code",
   "execution_count": 3,
   "metadata": {},
   "outputs": [
    {
     "name": "stdout",
     "output_type": "stream",
     "text": [
      "Requirement already satisfied: stats in /Library/Frameworks/Python.framework/Versions/3.7/lib/python3.7/site-packages (0.1.2a0)\n",
      "\u001b[33mYou are using pip version 18.1, however version 23.1.2 is available.\n",
      "You should consider upgrading via the 'pip install --upgrade pip' command.\u001b[0m\n",
      "Note: you may need to restart the kernel to use updated packages.\n"
     ]
    }
   ],
   "source": [
    "pip install stats"
   ]
  },
  {
   "cell_type": "code",
   "execution_count": 2,
   "metadata": {},
   "outputs": [],
   "source": [
    "#Import libraries for analysis\n",
    "import pandas as pd \n",
    "from scipy import stats"
   ]
  },
  {
   "attachments": {},
   "cell_type": "markdown",
   "metadata": {},
   "source": [
    "We conducted a test on the customer's likelyhood to move through different parts of a feature. With the data from the experiment results, we need to determine which of the features has the most time spent and click through rate (CTR). The first step to do that is to import the results from the experiment into a dataframe"
   ]
  },
  {
   "cell_type": "code",
   "execution_count": 3,
   "metadata": {},
   "outputs": [
    {
     "data": {
      "text/html": [
       "<div>\n",
       "<style scoped>\n",
       "    .dataframe tbody tr th:only-of-type {\n",
       "        vertical-align: middle;\n",
       "    }\n",
       "\n",
       "    .dataframe tbody tr th {\n",
       "        vertical-align: top;\n",
       "    }\n",
       "\n",
       "    .dataframe thead th {\n",
       "        text-align: right;\n",
       "    }\n",
       "</style>\n",
       "<table border=\"1\" class=\"dataframe\">\n",
       "  <thead>\n",
       "    <tr style=\"text-align: right;\">\n",
       "      <th></th>\n",
       "      <th>Unnamed: 0</th>\n",
       "      <th>Age</th>\n",
       "      <th>Location</th>\n",
       "      <th>Device</th>\n",
       "      <th>Variant</th>\n",
       "      <th>Time Spent</th>\n",
       "      <th>CTR</th>\n",
       "    </tr>\n",
       "  </thead>\n",
       "  <tbody>\n",
       "    <tr>\n",
       "      <th>0</th>\n",
       "      <td>0</td>\n",
       "      <td>62</td>\n",
       "      <td>Location2</td>\n",
       "      <td>Device2</td>\n",
       "      <td>Control</td>\n",
       "      <td>13.928669</td>\n",
       "      <td>0.084776</td>\n",
       "    </tr>\n",
       "    <tr>\n",
       "      <th>1</th>\n",
       "      <td>1</td>\n",
       "      <td>18</td>\n",
       "      <td>Location1</td>\n",
       "      <td>Device1</td>\n",
       "      <td>Variant B</td>\n",
       "      <td>11.310518</td>\n",
       "      <td>0.096859</td>\n",
       "    </tr>\n",
       "    <tr>\n",
       "      <th>2</th>\n",
       "      <td>2</td>\n",
       "      <td>21</td>\n",
       "      <td>Location2</td>\n",
       "      <td>Device1</td>\n",
       "      <td>Variant B</td>\n",
       "      <td>24.842100</td>\n",
       "      <td>0.097630</td>\n",
       "    </tr>\n",
       "    <tr>\n",
       "      <th>3</th>\n",
       "      <td>3</td>\n",
       "      <td>21</td>\n",
       "      <td>Location1</td>\n",
       "      <td>Device3</td>\n",
       "      <td>Variant B</td>\n",
       "      <td>20.061300</td>\n",
       "      <td>0.109783</td>\n",
       "    </tr>\n",
       "    <tr>\n",
       "      <th>4</th>\n",
       "      <td>4</td>\n",
       "      <td>57</td>\n",
       "      <td>Location1</td>\n",
       "      <td>Device2</td>\n",
       "      <td>Variant B</td>\n",
       "      <td>34.495503</td>\n",
       "      <td>0.068579</td>\n",
       "    </tr>\n",
       "  </tbody>\n",
       "</table>\n",
       "</div>"
      ],
      "text/plain": [
       "   Unnamed: 0  Age   Location   Device    Variant  Time Spent       CTR\n",
       "0           0   62  Location2  Device2    Control   13.928669  0.084776\n",
       "1           1   18  Location1  Device1  Variant B   11.310518  0.096859\n",
       "2           2   21  Location2  Device1  Variant B   24.842100  0.097630\n",
       "3           3   21  Location1  Device3  Variant B   20.061300  0.109783\n",
       "4           4   57  Location1  Device2  Variant B   34.495503  0.068579"
      ]
     },
     "execution_count": 3,
     "metadata": {},
     "output_type": "execute_result"
    }
   ],
   "source": [
    "#import the dataset and view it \n",
    "df = pd.read_csv('https://github.com/Pelumioluwa/MBAN6110Class/blob/main/Class_code/experiment_dataset.csv?raw=true')\n",
    "df.head()"
   ]
  },
  {
   "attachments": {},
   "cell_type": "markdown",
   "metadata": {},
   "source": [
    "The second step is some data cleaning. The data is clean, we just need to remove the unnamed column and check the data info to confirm that the data is clean"
   ]
  },
  {
   "cell_type": "code",
   "execution_count": 4,
   "metadata": {},
   "outputs": [
    {
     "name": "stdout",
     "output_type": "stream",
     "text": [
      "<class 'pandas.core.frame.DataFrame'>\n",
      "RangeIndex: 1000 entries, 0 to 999\n",
      "Data columns (total 6 columns):\n",
      " #   Column      Non-Null Count  Dtype  \n",
      "---  ------      --------------  -----  \n",
      " 0   Age         1000 non-null   int64  \n",
      " 1   Location    1000 non-null   object \n",
      " 2   Device      1000 non-null   object \n",
      " 3   Variant     1000 non-null   object \n",
      " 4   Time Spent  1000 non-null   float64\n",
      " 5   CTR         1000 non-null   float64\n",
      "dtypes: float64(2), int64(1), object(3)\n",
      "memory usage: 47.0+ KB\n"
     ]
    }
   ],
   "source": [
    "df.drop('Unnamed: 0', axis=1, inplace = True)\n",
    "df.info()"
   ]
  },
  {
   "cell_type": "code",
   "execution_count": 5,
   "metadata": {},
   "outputs": [
    {
     "data": {
      "text/html": [
       "<div>\n",
       "<style scoped>\n",
       "    .dataframe tbody tr th:only-of-type {\n",
       "        vertical-align: middle;\n",
       "    }\n",
       "\n",
       "    .dataframe tbody tr th {\n",
       "        vertical-align: top;\n",
       "    }\n",
       "\n",
       "    .dataframe thead th {\n",
       "        text-align: right;\n",
       "    }\n",
       "</style>\n",
       "<table border=\"1\" class=\"dataframe\">\n",
       "  <thead>\n",
       "    <tr style=\"text-align: right;\">\n",
       "      <th></th>\n",
       "      <th>Age</th>\n",
       "      <th>Location</th>\n",
       "      <th>Device</th>\n",
       "      <th>Variant</th>\n",
       "      <th>Time Spent</th>\n",
       "      <th>CTR</th>\n",
       "    </tr>\n",
       "  </thead>\n",
       "  <tbody>\n",
       "    <tr>\n",
       "      <th>0</th>\n",
       "      <td>62</td>\n",
       "      <td>Location2</td>\n",
       "      <td>Device2</td>\n",
       "      <td>Control</td>\n",
       "      <td>13.928669</td>\n",
       "      <td>0.084776</td>\n",
       "    </tr>\n",
       "    <tr>\n",
       "      <th>1</th>\n",
       "      <td>18</td>\n",
       "      <td>Location1</td>\n",
       "      <td>Device1</td>\n",
       "      <td>Variant B</td>\n",
       "      <td>11.310518</td>\n",
       "      <td>0.096859</td>\n",
       "    </tr>\n",
       "    <tr>\n",
       "      <th>2</th>\n",
       "      <td>21</td>\n",
       "      <td>Location2</td>\n",
       "      <td>Device1</td>\n",
       "      <td>Variant B</td>\n",
       "      <td>24.842100</td>\n",
       "      <td>0.097630</td>\n",
       "    </tr>\n",
       "    <tr>\n",
       "      <th>3</th>\n",
       "      <td>21</td>\n",
       "      <td>Location1</td>\n",
       "      <td>Device3</td>\n",
       "      <td>Variant B</td>\n",
       "      <td>20.061300</td>\n",
       "      <td>0.109783</td>\n",
       "    </tr>\n",
       "    <tr>\n",
       "      <th>4</th>\n",
       "      <td>57</td>\n",
       "      <td>Location1</td>\n",
       "      <td>Device2</td>\n",
       "      <td>Variant B</td>\n",
       "      <td>34.495503</td>\n",
       "      <td>0.068579</td>\n",
       "    </tr>\n",
       "  </tbody>\n",
       "</table>\n",
       "</div>"
      ],
      "text/plain": [
       "   Age   Location   Device    Variant  Time Spent       CTR\n",
       "0   62  Location2  Device2    Control   13.928669  0.084776\n",
       "1   18  Location1  Device1  Variant B   11.310518  0.096859\n",
       "2   21  Location2  Device1  Variant B   24.842100  0.097630\n",
       "3   21  Location1  Device3  Variant B   20.061300  0.109783\n",
       "4   57  Location1  Device2  Variant B   34.495503  0.068579"
      ]
     },
     "execution_count": 5,
     "metadata": {},
     "output_type": "execute_result"
    }
   ],
   "source": [
    "#check that the unnamed column has been removed \n",
    "df.head()"
   ]
  },
  {
   "attachments": {},
   "cell_type": "markdown",
   "metadata": {},
   "source": [
    "From the Dataset of the experiment results, we have identified that there are 3 types of variants in the experiment. "
   ]
  },
  {
   "cell_type": "code",
   "execution_count": 6,
   "metadata": {},
   "outputs": [
    {
     "data": {
      "text/html": [
       "<div>\n",
       "<style scoped>\n",
       "    .dataframe tbody tr th:only-of-type {\n",
       "        vertical-align: middle;\n",
       "    }\n",
       "\n",
       "    .dataframe tbody tr th {\n",
       "        vertical-align: top;\n",
       "    }\n",
       "\n",
       "    .dataframe thead th {\n",
       "        text-align: right;\n",
       "    }\n",
       "</style>\n",
       "<table border=\"1\" class=\"dataframe\">\n",
       "  <thead>\n",
       "    <tr style=\"text-align: right;\">\n",
       "      <th></th>\n",
       "      <th>count</th>\n",
       "      <th>unique</th>\n",
       "      <th>top</th>\n",
       "      <th>freq</th>\n",
       "    </tr>\n",
       "    <tr>\n",
       "      <th>Variant</th>\n",
       "      <th></th>\n",
       "      <th></th>\n",
       "      <th></th>\n",
       "      <th></th>\n",
       "    </tr>\n",
       "  </thead>\n",
       "  <tbody>\n",
       "    <tr>\n",
       "      <th>Control</th>\n",
       "      <td>340</td>\n",
       "      <td>3</td>\n",
       "      <td>Device3</td>\n",
       "      <td>119</td>\n",
       "    </tr>\n",
       "    <tr>\n",
       "      <th>Variant A</th>\n",
       "      <td>330</td>\n",
       "      <td>3</td>\n",
       "      <td>Device3</td>\n",
       "      <td>119</td>\n",
       "    </tr>\n",
       "    <tr>\n",
       "      <th>Variant B</th>\n",
       "      <td>330</td>\n",
       "      <td>3</td>\n",
       "      <td>Device2</td>\n",
       "      <td>129</td>\n",
       "    </tr>\n",
       "  </tbody>\n",
       "</table>\n",
       "</div>"
      ],
      "text/plain": [
       "          count unique      top freq\n",
       "Variant                             \n",
       "Control     340      3  Device3  119\n",
       "Variant A   330      3  Device3  119\n",
       "Variant B   330      3  Device2  129"
      ]
     },
     "execution_count": 6,
     "metadata": {},
     "output_type": "execute_result"
    }
   ],
   "source": [
    "#Identify how many types of variants there in the experiment \n",
    "df.groupby('Variant')['Device'].describe()"
   ]
  },
  {
   "attachments": {},
   "cell_type": "markdown",
   "metadata": {},
   "source": [
    "The next step is to evaluate the dataframe(df) with ANOVA to compare the mean variation of the 3 groups (Control, Variant A and Variant B). To do this, we break it down into two steps. \n",
    "Step 1: Evaluate the time spent by the three groups\n",
    "Step 2: Evalutate the click through rate (CTR) of the three groups"
   ]
  },
  {
   "cell_type": "code",
   "execution_count": 7,
   "metadata": {},
   "outputs": [
    {
     "name": "stdout",
     "output_type": "stream",
     "text": [
      "F_onewayResult(statistic=75.60840947416146, pvalue=2.676826588910432e-31)\n"
     ]
    }
   ],
   "source": [
    "# Evaluating the time spent\n",
    "variantA = df[df['Variant']=='Variant A']['Time Spent']\n",
    "variantB = df[df['Variant']=='Variant B']['Time Spent']\n",
    "control = df[df['Variant']=='Control']['Time Spent']\n",
    "\n",
    "p_val = stats.f_oneway(variantA, variantB, control)\n",
    "print(p_val)"
   ]
  },
  {
   "attachments": {},
   "cell_type": "markdown",
   "metadata": {},
   "source": [
    "In ANOVA, we have two hypothesis (null and alternative). The null hypothesis states that the mean of all three variants are the same and there is no variation. The alternative hypothesis states the mean of all three variants are not the same and there are variations.The p value obtained from ANOVA analysis for time spent is significant and the p > 0.05. Therefore, the null hypothesis is rejected. This means that all the variants are not the same. The variants experiments had effect on the time spent."
   ]
  },
  {
   "cell_type": "code",
   "execution_count": 8,
   "metadata": {},
   "outputs": [
    {
     "name": "stdout",
     "output_type": "stream",
     "text": [
      "F_onewayResult(statistic=93.58891593622702, pvalue=5.638952705781554e-38)\n"
     ]
    }
   ],
   "source": [
    "# Evaluating the Click through Rate (CTR)\n",
    "variantA = df[df['Variant']=='Variant A']['CTR']\n",
    "variantB = df[df['Variant']=='Variant B']['CTR']\n",
    "control = df[df['Variant']=='Control']['CTR']\n",
    "\n",
    "p_val = stats.f_oneway(variantA, variantB, control)\n",
    "print(p_val)"
   ]
  },
  {
   "attachments": {},
   "cell_type": "markdown",
   "metadata": {},
   "source": [
    "For the click through rate (CTR),the p value obtained from ANOVA analysis is significant and  p > 0.05. Therefore, the null hypothesis is rejected. This means that all the variants are not the same. The variants experiments had effects on the CTR.\n",
    "\n",
    "Further to this, we would also conduct a t-test to compare the effects of the experiment on the different variants"
   ]
  },
  {
   "cell_type": "code",
   "execution_count": 10,
   "metadata": {},
   "outputs": [
    {
     "name": "stdout",
     "output_type": "stream",
     "text": [
      "Ttest_indResult(statistic=12.142363487472364, pvalue=8.488565644996449e-31)\n",
      "Ttest_indResult(statistic=8.174237395991806, pvalue=1.496358076285182e-15)\n",
      "Ttest_indResult(statistic=3.678817539420908, pvalue=0.000253477101476526)\n"
     ]
    }
   ],
   "source": [
    "# Comparing the time spent\n",
    "\n",
    "variantA = df[df['Variant']=='Variant A']['Time Spent']\n",
    "variantB = df[df['Variant']=='Variant B']['Time Spent']\n",
    "control = df[df['Variant']=='Control']['Time Spent']\n",
    "\n",
    "p_val = stats.ttest_ind(variantA, control)\n",
    "p_val_2 = stats.ttest_ind(variantB, control)\n",
    "p_val_3 = stats.ttest_ind(variantA, variantB)\n",
    "print(p_val)\n",
    "print(p_val_2)\n",
    "print(p_val_3)"
   ]
  },
  {
   "attachments": {},
   "cell_type": "markdown",
   "metadata": {},
   "source": [
    "The t-test has two hypothesis. The null which assumes that the two means are equal and the alternate hypothesis which assumes that the two means are not the same. The t-score is the ratio of the difference between the two means. High t-score shows that there is a large difference and a small t-score shows that there are some similarities. From above, we can see that null hypothesis for the control group and both variants needs to be rejected. The means are not the same and there are signitficant differences among the control and variant A and the control and variant B. However, from the test between the variants, we need to accept the null hypothesis for variant A and B as the p-value < 0.05. Therefore, the means are the same. Also, the t-score among both variants is low. So this means there are little to no significant difference between both groups \n"
   ]
  },
  {
   "cell_type": "code",
   "execution_count": 11,
   "metadata": {},
   "outputs": [
    {
     "name": "stdout",
     "output_type": "stream",
     "text": [
      "Ttest_indResult(statistic=13.829424737499187, pvalue=1.9602781373243157e-38)\n",
      "Ttest_indResult(statistic=6.4718143491783255, pvalue=1.8743198199982106e-10)\n",
      "Ttest_indResult(statistic=7.08499696316128, pvalue=3.587180487986577e-12)\n"
     ]
    }
   ],
   "source": [
    "# Evaluating the Click through Rate (CTR)\n",
    "\n",
    "variantA = df[df['Variant']=='Variant A']['CTR']\n",
    "variantB = df[df['Variant']=='Variant B']['CTR']\n",
    "control = df[df['Variant']=='Control']['CTR']\n",
    "\n",
    "p_val = stats.ttest_ind(variantA, control)\n",
    "p_val_2 = stats.ttest_ind(variantB, control)\n",
    "p_val_3 = stats.ttest_ind(variantA, variantB)\n",
    "print(p_val)\n",
    "print(p_val_2)\n",
    "print(p_val_3)"
   ]
  },
  {
   "attachments": {},
   "cell_type": "markdown",
   "metadata": {},
   "source": [
    "From the above, we would have to reject the null hypothesis for all three comparisons. It shows that the mean of all three variants are not the same and there are significant differences among all variants when compared against themselves. "
   ]
  },
  {
   "cell_type": "code",
   "execution_count": 12,
   "metadata": {},
   "outputs": [
    {
     "data": {
      "text/html": [
       "<div>\n",
       "<style scoped>\n",
       "    .dataframe tbody tr th:only-of-type {\n",
       "        vertical-align: middle;\n",
       "    }\n",
       "\n",
       "    .dataframe tbody tr th {\n",
       "        vertical-align: top;\n",
       "    }\n",
       "\n",
       "    .dataframe thead th {\n",
       "        text-align: right;\n",
       "    }\n",
       "</style>\n",
       "<table border=\"1\" class=\"dataframe\">\n",
       "  <thead>\n",
       "    <tr style=\"text-align: right;\">\n",
       "      <th></th>\n",
       "      <th>Time Spent</th>\n",
       "    </tr>\n",
       "    <tr>\n",
       "      <th>Variant</th>\n",
       "      <th></th>\n",
       "    </tr>\n",
       "  </thead>\n",
       "  <tbody>\n",
       "    <tr>\n",
       "      <th>Control</th>\n",
       "      <td>20.070781</td>\n",
       "    </tr>\n",
       "    <tr>\n",
       "      <th>Variant A</th>\n",
       "      <td>24.805547</td>\n",
       "    </tr>\n",
       "    <tr>\n",
       "      <th>Variant B</th>\n",
       "      <td>23.343783</td>\n",
       "    </tr>\n",
       "  </tbody>\n",
       "</table>\n",
       "</div>"
      ],
      "text/plain": [
       "           Time Spent\n",
       "Variant              \n",
       "Control     20.070781\n",
       "Variant A   24.805547\n",
       "Variant B   23.343783"
      ]
     },
     "execution_count": 12,
     "metadata": {},
     "output_type": "execute_result"
    }
   ],
   "source": [
    "#Check the mean to see which variant work\n",
    "df.groupby('Variant')[['Time Spent']].mean()"
   ]
  },
  {
   "attachments": {},
   "cell_type": "markdown",
   "metadata": {},
   "source": [
    "After the analysis above, we determined that there were effects from the different tests conducted. Therefore we want to determine which of the variants had the most effects. From the above, we can tell that variant A had the most effects on time spent. Therefore variant A resulted in higher time spent among the sample size."
   ]
  },
  {
   "cell_type": "code",
   "execution_count": 13,
   "metadata": {},
   "outputs": [
    {
     "data": {
      "text/html": [
       "<div>\n",
       "<style scoped>\n",
       "    .dataframe tbody tr th:only-of-type {\n",
       "        vertical-align: middle;\n",
       "    }\n",
       "\n",
       "    .dataframe tbody tr th {\n",
       "        vertical-align: top;\n",
       "    }\n",
       "\n",
       "    .dataframe thead th {\n",
       "        text-align: right;\n",
       "    }\n",
       "</style>\n",
       "<table border=\"1\" class=\"dataframe\">\n",
       "  <thead>\n",
       "    <tr style=\"text-align: right;\">\n",
       "      <th></th>\n",
       "      <th>CTR</th>\n",
       "    </tr>\n",
       "    <tr>\n",
       "      <th>Variant</th>\n",
       "      <th></th>\n",
       "    </tr>\n",
       "  </thead>\n",
       "  <tbody>\n",
       "    <tr>\n",
       "      <th>Control</th>\n",
       "      <td>0.098554</td>\n",
       "    </tr>\n",
       "    <tr>\n",
       "      <th>Variant A</th>\n",
       "      <td>0.120269</td>\n",
       "    </tr>\n",
       "    <tr>\n",
       "      <th>Variant B</th>\n",
       "      <td>0.108933</td>\n",
       "    </tr>\n",
       "  </tbody>\n",
       "</table>\n",
       "</div>"
      ],
      "text/plain": [
       "                CTR\n",
       "Variant            \n",
       "Control    0.098554\n",
       "Variant A  0.120269\n",
       "Variant B  0.108933"
      ]
     },
     "execution_count": 13,
     "metadata": {},
     "output_type": "execute_result"
    }
   ],
   "source": [
    "#Check the mean to see which variant work\n",
    "df.groupby('Variant')[['CTR']].mean()"
   ]
  },
  {
   "attachments": {},
   "cell_type": "markdown",
   "metadata": {},
   "source": [
    "While for the effect of Click through rate, we can determine from the above that variant A had the most effect on the click through rate (sample size went through most of the features)."
   ]
  },
  {
   "attachments": {},
   "cell_type": "markdown",
   "metadata": {},
   "source": [
    "Recommendation to the Business and Engineering.\n",
    "\n",
    "From the review of our results, we can see that variant A has the most effects on time spent and click through rate (CTR). I would recommend that we adopt and deploy Variant A to a larger audience. Variant A shows that it increases customer engagement with the indpendent features and also the overall time spent. From a business prespective, we can tell that variant A increases customer engagement. Therefore it increases revenue, customer satisfaction and customer retention. \n",
    "\n",
    "Roll-out plan\n",
    "\n",
    "I would suggest we roll-out the new feature to a larger audience and gradually to cover our overall customer base. The new variant A worked successfully with our sample size. However, we have to gradually integrate the new variant A into the lives of our customers so utilization can come more naturally with no distruption.\n",
    "\n",
    "\n"
   ]
  }
 ],
 "metadata": {
  "kernelspec": {
   "display_name": "Python 3",
   "language": "python",
   "name": "python3"
  },
  "language_info": {
   "codemirror_mode": {
    "name": "ipython",
    "version": 3
   },
   "file_extension": ".py",
   "mimetype": "text/x-python",
   "name": "python",
   "nbconvert_exporter": "python",
   "pygments_lexer": "ipython3",
   "version": "3.7.2"
  },
  "orig_nbformat": 4
 },
 "nbformat": 4,
 "nbformat_minor": 2
}
