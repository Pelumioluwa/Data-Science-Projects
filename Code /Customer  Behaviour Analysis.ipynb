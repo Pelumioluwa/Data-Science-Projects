{
 "cells": [
  {
   "attachments": {},
   "cell_type": "markdown",
   "metadata": {},
   "source": [
    "Data Importation and Viewing\n",
    "To begin analysis on the data, I imported the data into python and viewed the data. This would enable to know how to analyse the data.\n"
   ]
  },
  {
   "cell_type": "code",
   "execution_count": 2,
   "metadata": {},
   "outputs": [],
   "source": [
    "import pandas as pd\n",
    "import seaborn as sns"
   ]
  },
  {
   "cell_type": "code",
   "execution_count": 3,
   "metadata": {},
   "outputs": [
    {
     "data": {
      "text/html": [
       "<div>\n",
       "<style scoped>\n",
       "    .dataframe tbody tr th:only-of-type {\n",
       "        vertical-align: middle;\n",
       "    }\n",
       "\n",
       "    .dataframe tbody tr th {\n",
       "        vertical-align: top;\n",
       "    }\n",
       "\n",
       "    .dataframe thead th {\n",
       "        text-align: right;\n",
       "    }\n",
       "</style>\n",
       "<table border=\"1\" class=\"dataframe\">\n",
       "  <thead>\n",
       "    <tr style=\"text-align: right;\">\n",
       "      <th></th>\n",
       "      <th>userID</th>\n",
       "      <th>age</th>\n",
       "      <th>sessions</th>\n",
       "      <th>time_spent</th>\n",
       "      <th>pages_visited</th>\n",
       "      <th>cart_items</th>\n",
       "      <th>cart_value</th>\n",
       "      <th>checkout_status</th>\n",
       "      <th>device</th>\n",
       "      <th>location</th>\n",
       "    </tr>\n",
       "  </thead>\n",
       "  <tbody>\n",
       "    <tr>\n",
       "      <th>0</th>\n",
       "      <td>1</td>\n",
       "      <td>62</td>\n",
       "      <td>3</td>\n",
       "      <td>13.295129</td>\n",
       "      <td>2</td>\n",
       "      <td>20</td>\n",
       "      <td>199.21</td>\n",
       "      <td>0</td>\n",
       "      <td>Desktop</td>\n",
       "      <td>Location 1</td>\n",
       "    </tr>\n",
       "    <tr>\n",
       "      <th>1</th>\n",
       "      <td>2</td>\n",
       "      <td>65</td>\n",
       "      <td>2</td>\n",
       "      <td>21.686405</td>\n",
       "      <td>3</td>\n",
       "      <td>21</td>\n",
       "      <td>294.82</td>\n",
       "      <td>0</td>\n",
       "      <td>Desktop</td>\n",
       "      <td>Location 3</td>\n",
       "    </tr>\n",
       "    <tr>\n",
       "      <th>2</th>\n",
       "      <td>3</td>\n",
       "      <td>18</td>\n",
       "      <td>7</td>\n",
       "      <td>17.135220</td>\n",
       "      <td>4</td>\n",
       "      <td>23</td>\n",
       "      <td>240.87</td>\n",
       "      <td>0</td>\n",
       "      <td>Desktop</td>\n",
       "      <td>Location 4</td>\n",
       "    </tr>\n",
       "    <tr>\n",
       "      <th>3</th>\n",
       "      <td>4</td>\n",
       "      <td>21</td>\n",
       "      <td>9</td>\n",
       "      <td>29.589311</td>\n",
       "      <td>8</td>\n",
       "      <td>16</td>\n",
       "      <td>183.78</td>\n",
       "      <td>1</td>\n",
       "      <td>Desktop</td>\n",
       "      <td>Location 2</td>\n",
       "    </tr>\n",
       "    <tr>\n",
       "      <th>4</th>\n",
       "      <td>5</td>\n",
       "      <td>21</td>\n",
       "      <td>3</td>\n",
       "      <td>25.948584</td>\n",
       "      <td>4</td>\n",
       "      <td>10</td>\n",
       "      <td>59.51</td>\n",
       "      <td>1</td>\n",
       "      <td>Tablet</td>\n",
       "      <td>Location 4</td>\n",
       "    </tr>\n",
       "  </tbody>\n",
       "</table>\n",
       "</div>"
      ],
      "text/plain": [
       "   userID  age  sessions  time_spent  pages_visited  cart_items  cart_value  \\\n",
       "0       1   62         3   13.295129              2          20      199.21   \n",
       "1       2   65         2   21.686405              3          21      294.82   \n",
       "2       3   18         7   17.135220              4          23      240.87   \n",
       "3       4   21         9   29.589311              8          16      183.78   \n",
       "4       5   21         3   25.948584              4          10       59.51   \n",
       "\n",
       "   checkout_status   device    location  \n",
       "0                0  Desktop  Location 1  \n",
       "1                0  Desktop  Location 3  \n",
       "2                0  Desktop  Location 4  \n",
       "3                1  Desktop  Location 2  \n",
       "4                1   Tablet  Location 4  "
      ]
     },
     "execution_count": 3,
     "metadata": {},
     "output_type": "execute_result"
    }
   ],
   "source": [
    "#import the data into a data frame and view the dataframe\n",
    "\n",
    "df = pd.read_csv('https://raw.githubusercontent.com/Pelumioluwa/MBAN6110Class/main/Class_code/midterm_data.csv')\n",
    "df.head()"
   ]
  },
  {
   "cell_type": "code",
   "execution_count": 4,
   "metadata": {},
   "outputs": [
    {
     "name": "stdout",
     "output_type": "stream",
     "text": [
      "<class 'pandas.core.frame.DataFrame'>\n",
      "RangeIndex: 5000 entries, 0 to 4999\n",
      "Data columns (total 10 columns):\n",
      " #   Column           Non-Null Count  Dtype  \n",
      "---  ------           --------------  -----  \n",
      " 0   userID           5000 non-null   int64  \n",
      " 1   age              5000 non-null   int64  \n",
      " 2   sessions         5000 non-null   int64  \n",
      " 3   time_spent       5000 non-null   float64\n",
      " 4   pages_visited    5000 non-null   int64  \n",
      " 5   cart_items       5000 non-null   int64  \n",
      " 6   cart_value       5000 non-null   float64\n",
      " 7   checkout_status  5000 non-null   int64  \n",
      " 8   device           4900 non-null   object \n",
      " 9   location         4970 non-null   object \n",
      "dtypes: float64(2), int64(6), object(2)\n",
      "memory usage: 390.8+ KB\n"
     ]
    }
   ],
   "source": [
    "#view the information of the data to determine if there are missing data in the df\n",
    "df.info()"
   ]
  },
  {
   "attachments": {},
   "cell_type": "markdown",
   "metadata": {},
   "source": [
    "Data Cleaning\n",
    "From the view above, we can see that there are 5000 entries in the data and only two columns (device (100) and location (30)) have missing data. I want to check if there are any entries with missing data in both device and location columns. I would drop those first"
   ]
  },
  {
   "cell_type": "code",
   "execution_count": 5,
   "metadata": {},
   "outputs": [
    {
     "data": {
      "text/html": [
       "<div>\n",
       "<style scoped>\n",
       "    .dataframe tbody tr th:only-of-type {\n",
       "        vertical-align: middle;\n",
       "    }\n",
       "\n",
       "    .dataframe tbody tr th {\n",
       "        vertical-align: top;\n",
       "    }\n",
       "\n",
       "    .dataframe thead th {\n",
       "        text-align: right;\n",
       "    }\n",
       "</style>\n",
       "<table border=\"1\" class=\"dataframe\">\n",
       "  <thead>\n",
       "    <tr style=\"text-align: right;\">\n",
       "      <th></th>\n",
       "      <th>userID</th>\n",
       "      <th>age</th>\n",
       "      <th>sessions</th>\n",
       "      <th>time_spent</th>\n",
       "      <th>pages_visited</th>\n",
       "      <th>cart_items</th>\n",
       "      <th>cart_value</th>\n",
       "      <th>checkout_status</th>\n",
       "      <th>device</th>\n",
       "      <th>location</th>\n",
       "    </tr>\n",
       "  </thead>\n",
       "  <tbody>\n",
       "    <tr>\n",
       "      <th>2130</th>\n",
       "      <td>2131</td>\n",
       "      <td>20</td>\n",
       "      <td>5</td>\n",
       "      <td>21.841304</td>\n",
       "      <td>6</td>\n",
       "      <td>19</td>\n",
       "      <td>243.39</td>\n",
       "      <td>0</td>\n",
       "      <td>NaN</td>\n",
       "      <td>NaN</td>\n",
       "    </tr>\n",
       "  </tbody>\n",
       "</table>\n",
       "</div>"
      ],
      "text/plain": [
       "      userID  age  sessions  time_spent  pages_visited  cart_items  \\\n",
       "2130    2131   20         5   21.841304              6          19   \n",
       "\n",
       "      cart_value  checkout_status device location  \n",
       "2130      243.39                0    NaN      NaN  "
      ]
     },
     "execution_count": 5,
     "metadata": {},
     "output_type": "execute_result"
    }
   ],
   "source": [
    "#check if there are any entries missing data in the location and device column\n",
    "df[df['location'].isnull() & df['device'].isnull()]"
   ]
  },
  {
   "cell_type": "code",
   "execution_count": 6,
   "metadata": {},
   "outputs": [
    {
     "name": "stdout",
     "output_type": "stream",
     "text": [
      "<class 'pandas.core.frame.DataFrame'>\n",
      "Int64Index: 4999 entries, 0 to 4999\n",
      "Data columns (total 10 columns):\n",
      " #   Column           Non-Null Count  Dtype  \n",
      "---  ------           --------------  -----  \n",
      " 0   userID           4999 non-null   int64  \n",
      " 1   age              4999 non-null   int64  \n",
      " 2   sessions         4999 non-null   int64  \n",
      " 3   time_spent       4999 non-null   float64\n",
      " 4   pages_visited    4999 non-null   int64  \n",
      " 5   cart_items       4999 non-null   int64  \n",
      " 6   cart_value       4999 non-null   float64\n",
      " 7   checkout_status  4999 non-null   int64  \n",
      " 8   device           4900 non-null   object \n",
      " 9   location         4970 non-null   object \n",
      "dtypes: float64(2), int64(6), object(2)\n",
      "memory usage: 429.6+ KB\n"
     ]
    }
   ],
   "source": [
    "#drop the column and check the information of the df\n",
    "df.drop([2130], axis=0, inplace=True)\n",
    "df.info()"
   ]
  },
  {
   "attachments": {},
   "cell_type": "markdown",
   "metadata": {},
   "source": [
    "Further to the above, I would check for all the missing data in location columns. Then check for the missing data in device columns and drop those too. My reason for dropping these entries is because the total of their missing data (99 + 29 = 128) represents less than 10% of the total data entries. Therefore we still maintain the integrity of the data. \n",
    "\n"
   ]
  },
  {
   "cell_type": "code",
   "execution_count": 7,
   "metadata": {},
   "outputs": [
    {
     "name": "stdout",
     "output_type": "stream",
     "text": [
      "<class 'pandas.core.frame.DataFrame'>\n",
      "Int64Index: 4871 entries, 0 to 4999\n",
      "Data columns (total 10 columns):\n",
      " #   Column           Non-Null Count  Dtype  \n",
      "---  ------           --------------  -----  \n",
      " 0   userID           4871 non-null   int64  \n",
      " 1   age              4871 non-null   int64  \n",
      " 2   sessions         4871 non-null   int64  \n",
      " 3   time_spent       4871 non-null   float64\n",
      " 4   pages_visited    4871 non-null   int64  \n",
      " 5   cart_items       4871 non-null   int64  \n",
      " 6   cart_value       4871 non-null   float64\n",
      " 7   checkout_status  4871 non-null   int64  \n",
      " 8   device           4871 non-null   object \n",
      " 9   location         4871 non-null   object \n",
      "dtypes: float64(2), int64(6), object(2)\n",
      "memory usage: 418.6+ KB\n"
     ]
    }
   ],
   "source": [
    "#identify and drop the missing data entries in location and device columns \n",
    "#and view the information of the df\n",
    "df.drop(df[df['location'].isnull()].index, axis=0, inplace=True)\n",
    "df.drop(df[df['device'].isnull()].index, axis=0, inplace=True)\n",
    "df.info()"
   ]
  },
  {
   "attachments": {},
   "cell_type": "markdown",
   "metadata": {},
   "source": [
    "Also checked the data type of each data to ensure they are the right data. Everything looks fine and all data types are good. We would also check for duplicates in the data. From the below, we see that there are no duplicates in the data, as the user id is the unique identifier."
   ]
  },
  {
   "cell_type": "code",
   "execution_count": 8,
   "metadata": {},
   "outputs": [
    {
     "name": "stdout",
     "output_type": "stream",
     "text": [
      "False\n"
     ]
    }
   ],
   "source": [
    "#check if there are any duplicate in the user_id column\n",
    "boolean = df['userID'].duplicated().any() \n",
    "print(boolean)"
   ]
  },
  {
   "attachments": {},
   "cell_type": "markdown",
   "metadata": {},
   "source": [
    "Data exploration and summary\n",
    "Further to cleaning the data, we can view the data understand the overall view of the data. We would build our customer personas and segment them into two types of customers (those who complete check and those who do not).\n",
    "\n",
    "To build our customer personas, we would generate characteristics of customers in each segment and then analyse the segments.\n",
    "\n",
    "From the below, we can view an overall statistics of our customers. It is understood that the age of most customers are in their 40s as the median and mean of the ages is in their 40s. Most of customers have about 5 sessions. "
   ]
  },
  {
   "cell_type": "code",
   "execution_count": 9,
   "metadata": {},
   "outputs": [
    {
     "data": {
      "text/html": [
       "<div>\n",
       "<style scoped>\n",
       "    .dataframe tbody tr th:only-of-type {\n",
       "        vertical-align: middle;\n",
       "    }\n",
       "\n",
       "    .dataframe tbody tr th {\n",
       "        vertical-align: top;\n",
       "    }\n",
       "\n",
       "    .dataframe thead th {\n",
       "        text-align: right;\n",
       "    }\n",
       "</style>\n",
       "<table border=\"1\" class=\"dataframe\">\n",
       "  <thead>\n",
       "    <tr style=\"text-align: right;\">\n",
       "      <th></th>\n",
       "      <th>userID</th>\n",
       "      <th>age</th>\n",
       "      <th>sessions</th>\n",
       "      <th>time_spent</th>\n",
       "      <th>pages_visited</th>\n",
       "      <th>cart_items</th>\n",
       "      <th>cart_value</th>\n",
       "      <th>checkout_status</th>\n",
       "      <th>device</th>\n",
       "      <th>location</th>\n",
       "    </tr>\n",
       "  </thead>\n",
       "  <tbody>\n",
       "    <tr>\n",
       "      <th>count</th>\n",
       "      <td>4871.000000</td>\n",
       "      <td>4871.00000</td>\n",
       "      <td>4871.000000</td>\n",
       "      <td>4871.000000</td>\n",
       "      <td>4871.000000</td>\n",
       "      <td>4871.000000</td>\n",
       "      <td>4871.000000</td>\n",
       "      <td>4871.000000</td>\n",
       "      <td>4871</td>\n",
       "      <td>4871</td>\n",
       "    </tr>\n",
       "    <tr>\n",
       "      <th>unique</th>\n",
       "      <td>NaN</td>\n",
       "      <td>NaN</td>\n",
       "      <td>NaN</td>\n",
       "      <td>NaN</td>\n",
       "      <td>NaN</td>\n",
       "      <td>NaN</td>\n",
       "      <td>NaN</td>\n",
       "      <td>NaN</td>\n",
       "      <td>3</td>\n",
       "      <td>5</td>\n",
       "    </tr>\n",
       "    <tr>\n",
       "      <th>top</th>\n",
       "      <td>NaN</td>\n",
       "      <td>NaN</td>\n",
       "      <td>NaN</td>\n",
       "      <td>NaN</td>\n",
       "      <td>NaN</td>\n",
       "      <td>NaN</td>\n",
       "      <td>NaN</td>\n",
       "      <td>NaN</td>\n",
       "      <td>Desktop</td>\n",
       "      <td>Location 4</td>\n",
       "    </tr>\n",
       "    <tr>\n",
       "      <th>freq</th>\n",
       "      <td>NaN</td>\n",
       "      <td>NaN</td>\n",
       "      <td>NaN</td>\n",
       "      <td>NaN</td>\n",
       "      <td>NaN</td>\n",
       "      <td>NaN</td>\n",
       "      <td>NaN</td>\n",
       "      <td>NaN</td>\n",
       "      <td>2522</td>\n",
       "      <td>1028</td>\n",
       "    </tr>\n",
       "    <tr>\n",
       "      <th>mean</th>\n",
       "      <td>2503.251488</td>\n",
       "      <td>41.53295</td>\n",
       "      <td>5.023609</td>\n",
       "      <td>25.172038</td>\n",
       "      <td>5.777458</td>\n",
       "      <td>14.971258</td>\n",
       "      <td>149.459444</td>\n",
       "      <td>0.273455</td>\n",
       "      <td>NaN</td>\n",
       "      <td>NaN</td>\n",
       "    </tr>\n",
       "    <tr>\n",
       "      <th>std</th>\n",
       "      <td>1445.707937</td>\n",
       "      <td>14.04452</td>\n",
       "      <td>2.589914</td>\n",
       "      <td>9.821864</td>\n",
       "      <td>2.566198</td>\n",
       "      <td>6.054916</td>\n",
       "      <td>68.811486</td>\n",
       "      <td>0.445778</td>\n",
       "      <td>NaN</td>\n",
       "      <td>NaN</td>\n",
       "    </tr>\n",
       "    <tr>\n",
       "      <th>min</th>\n",
       "      <td>1.000000</td>\n",
       "      <td>18.00000</td>\n",
       "      <td>1.000000</td>\n",
       "      <td>1.000000</td>\n",
       "      <td>1.000000</td>\n",
       "      <td>5.000000</td>\n",
       "      <td>20.410000</td>\n",
       "      <td>0.000000</td>\n",
       "      <td>NaN</td>\n",
       "      <td>NaN</td>\n",
       "    </tr>\n",
       "    <tr>\n",
       "      <th>25%</th>\n",
       "      <td>1251.500000</td>\n",
       "      <td>29.00000</td>\n",
       "      <td>3.000000</td>\n",
       "      <td>18.298029</td>\n",
       "      <td>4.000000</td>\n",
       "      <td>10.000000</td>\n",
       "      <td>92.415000</td>\n",
       "      <td>0.000000</td>\n",
       "      <td>NaN</td>\n",
       "      <td>NaN</td>\n",
       "    </tr>\n",
       "    <tr>\n",
       "      <th>50%</th>\n",
       "      <td>2505.000000</td>\n",
       "      <td>42.00000</td>\n",
       "      <td>5.000000</td>\n",
       "      <td>25.054759</td>\n",
       "      <td>6.000000</td>\n",
       "      <td>15.000000</td>\n",
       "      <td>143.020000</td>\n",
       "      <td>0.000000</td>\n",
       "      <td>NaN</td>\n",
       "      <td>NaN</td>\n",
       "    </tr>\n",
       "    <tr>\n",
       "      <th>75%</th>\n",
       "      <td>3760.500000</td>\n",
       "      <td>54.00000</td>\n",
       "      <td>7.000000</td>\n",
       "      <td>31.991099</td>\n",
       "      <td>8.000000</td>\n",
       "      <td>20.000000</td>\n",
       "      <td>198.550000</td>\n",
       "      <td>1.000000</td>\n",
       "      <td>NaN</td>\n",
       "      <td>NaN</td>\n",
       "    </tr>\n",
       "    <tr>\n",
       "      <th>max</th>\n",
       "      <td>5000.000000</td>\n",
       "      <td>65.00000</td>\n",
       "      <td>9.000000</td>\n",
       "      <td>90.000000</td>\n",
       "      <td>12.000000</td>\n",
       "      <td>25.000000</td>\n",
       "      <td>427.400000</td>\n",
       "      <td>1.000000</td>\n",
       "      <td>NaN</td>\n",
       "      <td>NaN</td>\n",
       "    </tr>\n",
       "  </tbody>\n",
       "</table>\n",
       "</div>"
      ],
      "text/plain": [
       "             userID         age     sessions   time_spent  pages_visited  \\\n",
       "count   4871.000000  4871.00000  4871.000000  4871.000000    4871.000000   \n",
       "unique          NaN         NaN          NaN          NaN            NaN   \n",
       "top             NaN         NaN          NaN          NaN            NaN   \n",
       "freq            NaN         NaN          NaN          NaN            NaN   \n",
       "mean    2503.251488    41.53295     5.023609    25.172038       5.777458   \n",
       "std     1445.707937    14.04452     2.589914     9.821864       2.566198   \n",
       "min        1.000000    18.00000     1.000000     1.000000       1.000000   \n",
       "25%     1251.500000    29.00000     3.000000    18.298029       4.000000   \n",
       "50%     2505.000000    42.00000     5.000000    25.054759       6.000000   \n",
       "75%     3760.500000    54.00000     7.000000    31.991099       8.000000   \n",
       "max     5000.000000    65.00000     9.000000    90.000000      12.000000   \n",
       "\n",
       "         cart_items   cart_value  checkout_status   device    location  \n",
       "count   4871.000000  4871.000000      4871.000000     4871        4871  \n",
       "unique          NaN          NaN              NaN        3           5  \n",
       "top             NaN          NaN              NaN  Desktop  Location 4  \n",
       "freq            NaN          NaN              NaN     2522        1028  \n",
       "mean      14.971258   149.459444         0.273455      NaN         NaN  \n",
       "std        6.054916    68.811486         0.445778      NaN         NaN  \n",
       "min        5.000000    20.410000         0.000000      NaN         NaN  \n",
       "25%       10.000000    92.415000         0.000000      NaN         NaN  \n",
       "50%       15.000000   143.020000         0.000000      NaN         NaN  \n",
       "75%       20.000000   198.550000         1.000000      NaN         NaN  \n",
       "max       25.000000   427.400000         1.000000      NaN         NaN  "
      ]
     },
     "execution_count": 9,
     "metadata": {},
     "output_type": "execute_result"
    }
   ],
   "source": [
    "#check the descriptive statistics of the data \n",
    "df.describe(include='all')"
   ]
  },
  {
   "attachments": {},
   "cell_type": "markdown",
   "metadata": {},
   "source": [
    "Inorder to segment our customers, we need to identify the customers who complete check out and who do not. The first step in this would be to convert the checkout status to categorical data of who completed and who did not "
   ]
  },
  {
   "cell_type": "code",
   "execution_count": 10,
   "metadata": {},
   "outputs": [],
   "source": [
    "#convert the checkout status column to who completed check out and who did not \n",
    "#create a function to categorize the data \n",
    "def categorize(x):\n",
    "    if x == 0:\n",
    "        return 'No'\n",
    "    elif x == 1:\n",
    "        return 'Yes'\n",
    "    else:\n",
    "        return 'Unidentified Category'"
   ]
  },
  {
   "cell_type": "code",
   "execution_count": 11,
   "metadata": {},
   "outputs": [
    {
     "data": {
      "text/html": [
       "<div>\n",
       "<style scoped>\n",
       "    .dataframe tbody tr th:only-of-type {\n",
       "        vertical-align: middle;\n",
       "    }\n",
       "\n",
       "    .dataframe tbody tr th {\n",
       "        vertical-align: top;\n",
       "    }\n",
       "\n",
       "    .dataframe thead th {\n",
       "        text-align: right;\n",
       "    }\n",
       "</style>\n",
       "<table border=\"1\" class=\"dataframe\">\n",
       "  <thead>\n",
       "    <tr style=\"text-align: right;\">\n",
       "      <th></th>\n",
       "      <th>userID</th>\n",
       "      <th>age</th>\n",
       "      <th>sessions</th>\n",
       "      <th>time_spent</th>\n",
       "      <th>pages_visited</th>\n",
       "      <th>cart_items</th>\n",
       "      <th>cart_value</th>\n",
       "      <th>checkout_status</th>\n",
       "      <th>device</th>\n",
       "      <th>location</th>\n",
       "      <th>conv_checkout_status</th>\n",
       "    </tr>\n",
       "  </thead>\n",
       "  <tbody>\n",
       "    <tr>\n",
       "      <th>0</th>\n",
       "      <td>1</td>\n",
       "      <td>62</td>\n",
       "      <td>3</td>\n",
       "      <td>13.295129</td>\n",
       "      <td>2</td>\n",
       "      <td>20</td>\n",
       "      <td>199.21</td>\n",
       "      <td>0</td>\n",
       "      <td>Desktop</td>\n",
       "      <td>Location 1</td>\n",
       "      <td>No</td>\n",
       "    </tr>\n",
       "    <tr>\n",
       "      <th>1</th>\n",
       "      <td>2</td>\n",
       "      <td>65</td>\n",
       "      <td>2</td>\n",
       "      <td>21.686405</td>\n",
       "      <td>3</td>\n",
       "      <td>21</td>\n",
       "      <td>294.82</td>\n",
       "      <td>0</td>\n",
       "      <td>Desktop</td>\n",
       "      <td>Location 3</td>\n",
       "      <td>No</td>\n",
       "    </tr>\n",
       "    <tr>\n",
       "      <th>2</th>\n",
       "      <td>3</td>\n",
       "      <td>18</td>\n",
       "      <td>7</td>\n",
       "      <td>17.135220</td>\n",
       "      <td>4</td>\n",
       "      <td>23</td>\n",
       "      <td>240.87</td>\n",
       "      <td>0</td>\n",
       "      <td>Desktop</td>\n",
       "      <td>Location 4</td>\n",
       "      <td>No</td>\n",
       "    </tr>\n",
       "    <tr>\n",
       "      <th>3</th>\n",
       "      <td>4</td>\n",
       "      <td>21</td>\n",
       "      <td>9</td>\n",
       "      <td>29.589311</td>\n",
       "      <td>8</td>\n",
       "      <td>16</td>\n",
       "      <td>183.78</td>\n",
       "      <td>1</td>\n",
       "      <td>Desktop</td>\n",
       "      <td>Location 2</td>\n",
       "      <td>Yes</td>\n",
       "    </tr>\n",
       "    <tr>\n",
       "      <th>4</th>\n",
       "      <td>5</td>\n",
       "      <td>21</td>\n",
       "      <td>3</td>\n",
       "      <td>25.948584</td>\n",
       "      <td>4</td>\n",
       "      <td>10</td>\n",
       "      <td>59.51</td>\n",
       "      <td>1</td>\n",
       "      <td>Tablet</td>\n",
       "      <td>Location 4</td>\n",
       "      <td>Yes</td>\n",
       "    </tr>\n",
       "  </tbody>\n",
       "</table>\n",
       "</div>"
      ],
      "text/plain": [
       "   userID  age  sessions  time_spent  pages_visited  cart_items  cart_value  \\\n",
       "0       1   62         3   13.295129              2          20      199.21   \n",
       "1       2   65         2   21.686405              3          21      294.82   \n",
       "2       3   18         7   17.135220              4          23      240.87   \n",
       "3       4   21         9   29.589311              8          16      183.78   \n",
       "4       5   21         3   25.948584              4          10       59.51   \n",
       "\n",
       "   checkout_status   device    location conv_checkout_status  \n",
       "0                0  Desktop  Location 1                   No  \n",
       "1                0  Desktop  Location 3                   No  \n",
       "2                0  Desktop  Location 4                   No  \n",
       "3                1  Desktop  Location 2                  Yes  \n",
       "4                1   Tablet  Location 4                  Yes  "
      ]
     },
     "execution_count": 11,
     "metadata": {},
     "output_type": "execute_result"
    }
   ],
   "source": [
    "#Create new column with check status using the categorize function\n",
    "df['conv_checkout_status'] = df['checkout_status'].apply(categorize)\n",
    "df.head()"
   ]
  },
  {
   "attachments": {},
   "cell_type": "markdown",
   "metadata": {},
   "source": [
    "Further to the above, we would create our personas and breakdown each column by the converted checkout status . From the below, it shows that most of our customer fall under the 'did not check out status'. \n",
    "\n",
    "First, we would build the characteristics of customers who did not check out. We can see the following \n",
    "they mostly live in location 4, \n",
    "have an average session of 5, \n",
    "spend an average time of 22 mins, \n",
    "have an average of 15 items in their cart, with a maxium of 25 items\n",
    "have an average value of $152, with a maximum of $427\n",
    "visit an average of 5 pages or less, \n",
    "mostly use deskop for their device of choice \n",
    "\n",
    "\n"
   ]
  },
  {
   "cell_type": "code",
   "execution_count": 12,
   "metadata": {},
   "outputs": [
    {
     "data": {
      "text/plain": [
       "count        3539\n",
       "unique          3\n",
       "top       Desktop\n",
       "freq         1802\n",
       "Name: No, dtype: object"
      ]
     },
     "execution_count": 12,
     "metadata": {},
     "output_type": "execute_result"
    }
   ],
   "source": [
    "#check their device \n",
    "df.groupby('conv_checkout_status')['device' ].describe().loc['No']"
   ]
  },
  {
   "cell_type": "code",
   "execution_count": 13,
   "metadata": {},
   "outputs": [
    {
     "data": {
      "text/plain": [
       "count    3539.000000\n",
       "mean        5.208251\n",
       "std         2.650315\n",
       "min         1.000000\n",
       "25%         3.000000\n",
       "50%         5.000000\n",
       "75%         7.000000\n",
       "max        12.000000\n",
       "Name: No, dtype: float64"
      ]
     },
     "execution_count": 13,
     "metadata": {},
     "output_type": "execute_result"
    }
   ],
   "source": [
    "#check their page visited \n",
    "df.groupby('conv_checkout_status')['pages_visited' ].describe().loc['No']"
   ]
  },
  {
   "cell_type": "code",
   "execution_count": 14,
   "metadata": {},
   "outputs": [
    {
     "data": {
      "text/plain": [
       "count    3539.000000\n",
       "mean      152.827485\n",
       "std        74.971948\n",
       "min        20.410000\n",
       "25%        85.615000\n",
       "50%       147.150000\n",
       "75%       209.740000\n",
       "max       427.400000\n",
       "Name: No, dtype: float64"
      ]
     },
     "execution_count": 14,
     "metadata": {},
     "output_type": "execute_result"
    }
   ],
   "source": [
    "#check their cart value\n",
    "df.groupby('conv_checkout_status')['cart_value'].describe().loc['No']"
   ]
  },
  {
   "cell_type": "code",
   "execution_count": 15,
   "metadata": {},
   "outputs": [
    {
     "data": {
      "text/plain": [
       "count           3539\n",
       "unique             5\n",
       "top       Location 4\n",
       "freq             737\n",
       "Name: No, dtype: object"
      ]
     },
     "execution_count": 15,
     "metadata": {},
     "output_type": "execute_result"
    }
   ],
   "source": [
    "#groupby converted check_out status \n",
    "df.groupby('conv_checkout_status')['location'].describe().loc['No']\n"
   ]
  },
  {
   "cell_type": "code",
   "execution_count": 16,
   "metadata": {},
   "outputs": [
    {
     "data": {
      "text/plain": [
       "count    3539.000000\n",
       "mean        5.055100\n",
       "std         2.600401\n",
       "min         1.000000\n",
       "25%         3.000000\n",
       "50%         5.000000\n",
       "75%         7.000000\n",
       "max         9.000000\n",
       "Name: No, dtype: float64"
      ]
     },
     "execution_count": 16,
     "metadata": {},
     "output_type": "execute_result"
    }
   ],
   "source": [
    "#check their sessions\n",
    "df.groupby('conv_checkout_status')['sessions'].describe().loc['No']"
   ]
  },
  {
   "cell_type": "code",
   "execution_count": 17,
   "metadata": {},
   "outputs": [
    {
     "data": {
      "text/plain": [
       "count    3539.000000\n",
       "mean       22.858777\n",
       "std        10.326950\n",
       "min         1.000000\n",
       "25%        16.035218\n",
       "50%        21.656175\n",
       "75%        28.436422\n",
       "max        90.000000\n",
       "Name: No, dtype: float64"
      ]
     },
     "execution_count": 17,
     "metadata": {},
     "output_type": "execute_result"
    }
   ],
   "source": [
    "#check their time spent\n",
    "df.groupby('conv_checkout_status')['time_spent'].describe().loc['No']"
   ]
  },
  {
   "cell_type": "code",
   "execution_count": 18,
   "metadata": {},
   "outputs": [
    {
     "data": {
      "text/plain": [
       "count    3539.000000\n",
       "mean       15.300367\n",
       "std         6.694617\n",
       "min         5.000000\n",
       "25%         9.000000\n",
       "50%        15.000000\n",
       "75%        22.000000\n",
       "max        25.000000\n",
       "Name: No, dtype: float64"
      ]
     },
     "execution_count": 18,
     "metadata": {},
     "output_type": "execute_result"
    }
   ],
   "source": [
    "#check their cart items\n",
    "df.groupby('conv_checkout_status')['cart_items'].describe().loc['No']"
   ]
  },
  {
   "attachments": {},
   "cell_type": "markdown",
   "metadata": {},
   "source": [
    "Second, we would build the characteristics of customers who did check out. We can see the following \n",
    " \n",
    "\n",
    "have an average session of 4, \n",
    "spend an average time of 31 mins, \n",
    "have an average of 14 items in their cart, with a maxium of 20 items\n",
    "mostly use deskop for their device of choice \n",
    "have an average value of $140, with a maximum of $313 \n",
    "visit an average of 7 pages or more, \n",
    "they mostly live in location 4"
   ]
  },
  {
   "cell_type": "code",
   "execution_count": 19,
   "metadata": {},
   "outputs": [
    {
     "data": {
      "text/plain": [
       "count    1332.000000\n",
       "mean       31.318157\n",
       "std         4.178320\n",
       "min        25.000659\n",
       "25%        27.606351\n",
       "50%        30.943031\n",
       "75%        34.539573\n",
       "max        39.966537\n",
       "Name: Yes, dtype: float64"
      ]
     },
     "execution_count": 19,
     "metadata": {},
     "output_type": "execute_result"
    }
   ],
   "source": [
    "#check their time spent\n",
    "df.groupby('conv_checkout_status')['time_spent'].describe().loc['Yes']"
   ]
  },
  {
   "cell_type": "code",
   "execution_count": 20,
   "metadata": {},
   "outputs": [
    {
     "data": {
      "text/plain": [
       "count    1332.000000\n",
       "mean        4.939940\n",
       "std         2.560932\n",
       "min         1.000000\n",
       "25%         3.000000\n",
       "50%         5.000000\n",
       "75%         7.000000\n",
       "max         9.000000\n",
       "Name: Yes, dtype: float64"
      ]
     },
     "execution_count": 20,
     "metadata": {},
     "output_type": "execute_result"
    }
   ],
   "source": [
    "#check their sessions\n",
    "df.groupby('conv_checkout_status')['sessions'].describe().loc['Yes']"
   ]
  },
  {
   "cell_type": "code",
   "execution_count": 21,
   "metadata": {},
   "outputs": [
    {
     "data": {
      "text/plain": [
       "count    1332.000000\n",
       "mean       14.096847\n",
       "std         3.735881\n",
       "min         8.000000\n",
       "25%        11.000000\n",
       "50%        14.000000\n",
       "75%        17.000000\n",
       "max        20.000000\n",
       "Name: Yes, dtype: float64"
      ]
     },
     "execution_count": 21,
     "metadata": {},
     "output_type": "execute_result"
    }
   ],
   "source": [
    "#check their cart items\n",
    "df.groupby('conv_checkout_status')['cart_items'].describe().loc['Yes']"
   ]
  },
  {
   "cell_type": "code",
   "execution_count": 22,
   "metadata": {},
   "outputs": [
    {
     "data": {
      "text/plain": [
       "count           1332\n",
       "unique             5\n",
       "top       Location 4\n",
       "freq             291\n",
       "Name: Yes, dtype: object"
      ]
     },
     "execution_count": 22,
     "metadata": {},
     "output_type": "execute_result"
    }
   ],
   "source": [
    "#groupby converted check_out status \n",
    "df.groupby('conv_checkout_status')['location'].describe().loc['Yes']"
   ]
  },
  {
   "cell_type": "code",
   "execution_count": 23,
   "metadata": {},
   "outputs": [
    {
     "data": {
      "text/plain": [
       "count    1332.000000\n",
       "mean      140.510871\n",
       "std        47.683980\n",
       "min        43.220000\n",
       "25%       102.810000\n",
       "50%       135.830000\n",
       "75%       174.365000\n",
       "max       313.760000\n",
       "Name: Yes, dtype: float64"
      ]
     },
     "execution_count": 23,
     "metadata": {},
     "output_type": "execute_result"
    }
   ],
   "source": [
    "#check their cart value\n",
    "df.groupby('conv_checkout_status')['cart_value'].describe().loc['Yes']"
   ]
  },
  {
   "cell_type": "code",
   "execution_count": 24,
   "metadata": {},
   "outputs": [
    {
     "data": {
      "text/plain": [
       "count    1332.000000\n",
       "mean        7.289790\n",
       "std         1.507841\n",
       "min         2.000000\n",
       "25%         6.000000\n",
       "50%         7.000000\n",
       "75%         8.000000\n",
       "max        12.000000\n",
       "Name: Yes, dtype: float64"
      ]
     },
     "execution_count": 24,
     "metadata": {},
     "output_type": "execute_result"
    }
   ],
   "source": [
    "#check their page visited \n",
    "df.groupby('conv_checkout_status')['pages_visited' ].describe().loc['Yes']"
   ]
  },
  {
   "cell_type": "code",
   "execution_count": 25,
   "metadata": {},
   "outputs": [
    {
     "data": {
      "text/plain": [
       "count        1332\n",
       "unique          3\n",
       "top       Desktop\n",
       "freq          720\n",
       "Name: Yes, dtype: object"
      ]
     },
     "execution_count": 25,
     "metadata": {},
     "output_type": "execute_result"
    }
   ],
   "source": [
    "#check their device \n",
    "df.groupby('conv_checkout_status')['device' ].describe().loc['Yes']"
   ]
  },
  {
   "attachments": {},
   "cell_type": "markdown",
   "metadata": {},
   "source": [
    "From building our persona characters above, We need to visiualize.\n",
    "First we identify if there are any outliers. We identified that though cart value has some outliers, they are left in as they are not too far off and are not outliers in other characteristics. Therefore, they would be applicable to our analysis.\n",
    "\n",
    "Second, We need to view the distrubution of our data\n",
    " "
   ]
  },
  {
   "cell_type": "code",
   "execution_count": 26,
   "metadata": {},
   "outputs": [
    {
     "data": {
      "text/plain": [
       "<AxesSubplot:ylabel='pages_visited'>"
      ]
     },
     "execution_count": 26,
     "metadata": {},
     "output_type": "execute_result"
    },
    {
     "data": {
      "image/png": "[encoded data removed]",
      "text/plain": [
       "<Figure size 640x480 with 1 Axes>"
      ]
     },
     "metadata": {},
     "output_type": "display_data"
    }
   ],
   "source": [
    "#check for outliers in the page visited\n",
    "sns.boxplot(data = df, y='pages_visited')"
   ]
  },
  {
   "cell_type": "code",
   "execution_count": 27,
   "metadata": {},
   "outputs": [
    {
     "data": {
      "text/plain": [
       "<AxesSubplot:ylabel='cart_items'>"
      ]
     },
     "execution_count": 27,
     "metadata": {},
     "output_type": "execute_result"
    },
    {
     "data": {
      "image/png": "[encoded data removed]",
      "text/plain": [
       "<Figure size 640x480 with 1 Axes>"
      ]
     },
     "metadata": {},
     "output_type": "display_data"
    }
   ],
   "source": [
    "#check for outliers in the cart items\n",
    "sns.boxplot(data = df, y='cart_items')\n"
   ]
  },
  {
   "cell_type": "code",
   "execution_count": 28,
   "metadata": {},
   "outputs": [
    {
     "data": {
      "text/plain": [
       "<AxesSubplot:ylabel='cart_value'>"
      ]
     },
     "execution_count": 28,
     "metadata": {},
     "output_type": "execute_result"
    },
    {
     "data": {
      "image/png": "[encoded data removed]",
      "text/plain": [
       "<Figure size 640x480 with 1 Axes>"
      ]
     },
     "metadata": {},
     "output_type": "display_data"
    }
   ],
   "source": [
    "#check for outliers in the cart value\n",
    "sns.boxplot(data = df, y='cart_value')"
   ]
  },
  {
   "cell_type": "code",
   "execution_count": 29,
   "metadata": {},
   "outputs": [
    {
     "data": {
      "text/plain": [
       "<AxesSubplot:xlabel='conv_checkout_status', ylabel='Count'>"
      ]
     },
     "execution_count": 29,
     "metadata": {},
     "output_type": "execute_result"
    },
    {
     "data": {
      "image/png": "[encoded data removed]",
      "text/plain": [
       "<Figure size 640x480 with 1 Axes>"
      ]
     },
     "metadata": {},
     "output_type": "display_data"
    }
   ],
   "source": [
    "#visiualize the population of those who check in and those who do not\n",
    "sns.histplot(df['conv_checkout_status'])"
   ]
  },
  {
   "cell_type": "code",
   "execution_count": 30,
   "metadata": {},
   "outputs": [
    {
     "data": {
      "text/plain": [
       "<AxesSubplot:xlabel='conv_checkout_status'>"
      ]
     },
     "execution_count": 30,
     "metadata": {},
     "output_type": "execute_result"
    },
    {
     "data": {
      "image/png": "[encoded data removed]",
      "text/plain": [
       "<Figure size 1000x500 with 1 Axes>"
      ]
     },
     "metadata": {},
     "output_type": "display_data"
    }
   ],
   "source": [
    "df.groupby('conv_checkout_status')['age'].count().plot(kind='bar',figsize=(10,5))"
   ]
  },
  {
   "cell_type": "code",
   "execution_count": 33,
   "metadata": {},
   "outputs": [],
   "source": [
    "session_by_check_out = df.groupby('conv_checkout_status')['sessions'].aggregate(['sum','mean','median','count'])\n"
   ]
  },
  {
   "cell_type": "code",
   "execution_count": 34,
   "metadata": {},
   "outputs": [
    {
     "data": {
      "text/plain": [
       "<AxesSubplot:xlabel='conv_checkout_status'>"
      ]
     },
     "execution_count": 34,
     "metadata": {},
     "output_type": "execute_result"
    },
    {
     "data": {
      "image/png": "[encoded data removed]",
      "text/plain": [
       "<Figure size 640x480 with 1 Axes>"
      ]
     },
     "metadata": {},
     "output_type": "display_data"
    }
   ],
   "source": [
    "session_by_check_out['sum'].sort_values(ascending=False).plot(kind='bar')"
   ]
  },
  {
   "cell_type": "code",
   "execution_count": 31,
   "metadata": {},
   "outputs": [
    {
     "data": {
      "text/plain": [
       "<AxesSubplot:xlabel='conv_checkout_status'>"
      ]
     },
     "execution_count": 31,
     "metadata": {},
     "output_type": "execute_result"
    },
    {
     "data": {
      "image/png": "[encoded data removed]",
      "text/plain": [
       "<Figure size 640x480 with 1 Axes>"
      ]
     },
     "metadata": {},
     "output_type": "display_data"
    }
   ],
   "source": [
    "age_by_check_out = df.groupby('conv_checkout_status')['age'].aggregate(['sum','mean','median','count'])\n",
    "age_by_check_out['mean'].sort_values(ascending=False).plot(kind='bar')"
   ]
  },
  {
   "attachments": {},
   "cell_type": "markdown",
   "metadata": {},
   "source": [
    "Recommendations \n",
    "From the analysis above,\n",
    "We can compare the characteristics of both personas\n",
    "\n",
    "for those who did check out \n",
    "have an average session of 4, \n",
    "spend an average time of 31 mins, \n",
    "have an average of 14 items in their cart, with a maximum of 20 items\n",
    "mostly use deskop for their device of choice \n",
    "have an average value of $140, with a maximum of $313 \n",
    "visit an average of 7 pages or more, \n",
    "they mostly live in location 4\n",
    "\n",
    "for those who did not check out \n",
    "they mostly live in location 4, \n",
    "have an average session of 5, \n",
    "spend an average time of 22 mins, \n",
    "have an average of 15 items in their cart, with a maximum of 25 items\n",
    "have an average value of $152, with a maximum of $427\n",
    "visit an average of 5 pages or less, \n",
    "mostly use deskop for their device of choice \n",
    "\n",
    "We can see that location plays a factor as most individual from location 4 check out. However, those who do not check out spend less time engaging on the platform and usually add more items to their cart which amount to a higher cart value. They usually have less sessions and visit less pages. The customer who do check out have more engagements and sessions with the platform. Therefore I would recommend increasing customer engagements on the platform. This would mean showing them products that they are more interested in buying or that support items they have purchase in the past. Therefore, they are more likely to include those items that they need in cart and purchase them as the amount or number of the cart items would not be too high that it discourages purchase\n"
   ]
  }
 ],
 "metadata": {
  "kernelspec": {
   "display_name": "Python 3",
   "language": "python",
   "name": "python3"
  },
  "language_info": {
   "codemirror_mode": {
    "name": "ipython",
    "version": 3
   },
   "file_extension": ".py",
   "mimetype": "text/x-python",
   "name": "python",
   "nbconvert_exporter": "python",
   "pygments_lexer": "ipython3",
   "version": "3.7.2"
  },
  "orig_nbformat": 4
 },
 "nbformat": 4,
 "nbformat_minor": 2
}
