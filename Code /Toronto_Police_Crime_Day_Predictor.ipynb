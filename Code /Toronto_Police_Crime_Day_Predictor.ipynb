{
 "cells": [
  {
   "cell_type": "markdown",
   "metadata": {},
   "source": [
    "I am building a model to predict When can the Toronto Police expect a surge of crime in Toronto (Day of week, Time of Day and Month ) based on the Toronto police crime data set. \n",
    "To do this, I would be exploring 3 models \n",
    "\n",
    "1. Time Series Forecasting Models(Xgboost): I am chosing this model because crime occurance often show temporal dependencies which is that they current trends and this model is good at detecting such patterns and seasonality.\n",
    "\n",
    "2. Ensemble Learning Models: This model helps to capture non-linear relationships among features for both categorical and numeric data.  \n",
    "\n",
    "3. Bayesian models: Incorporates uncertainty by using probabilty which is good when dealing with limited data "
   ]
  },
  {
   "cell_type": "markdown",
   "metadata": {},
   "source": [
    "First model we are building is the time series forcasting model. \n",
    "1. The first thing we need is the trend of crime occurance \n",
    "2. The second thing is seasonality. This is the repeated pattern of data over a set period in time. Eg the way crime occurs during maybe the holiday season, or weekends, or summer periods\n",
    "3. Cycle is the non-seasonal patterns in the data. This could be occurance during maybe the close of down of the pandemic or economic downturn \n",
    "4. Variations are unpredictable up and down that can not be explained by the other variables above \n",
    "\n",
    "Models examples\n",
    "ARIMA : Auto regressive integrated moving average : This looks at how past values affect future values through trends, seasonality and cycles while removing the noise (Variations that dont make sense) \n",
    "\n",
    "Expoential smoothing : This is used for data that has no trend, seasonality or cycle but only has variations. It works by giving more weight to recent value and less weight to previous values\n",
    "\n",
    "Implementation \n"
   ]
  },
  {
   "cell_type": "code",
   "execution_count": 1,
   "metadata": {},
   "outputs": [
    {
     "name": "stdout",
     "output_type": "stream",
     "text": [
      "Requirement already satisfied: xgboost in /Library/Frameworks/Python.framework/Versions/3.7/lib/python3.7/site-packages (1.6.2)\n",
      "Requirement already satisfied: numpy in /Library/Frameworks/Python.framework/Versions/3.7/lib/python3.7/site-packages (from xgboost) (1.21.6)\n",
      "Requirement already satisfied: scipy in /Library/Frameworks/Python.framework/Versions/3.7/lib/python3.7/site-packages (from xgboost) (1.7.3)\n",
      "\n",
      "\u001b[1m[\u001b[0m\u001b[34;49mnotice\u001b[0m\u001b[1;39;49m]\u001b[0m\u001b[39;49m A new release of pip is available: \u001b[0m\u001b[31;49m23.1.2\u001b[0m\u001b[39;49m -> \u001b[0m\u001b[32;49m23.2.1\u001b[0m\n",
      "\u001b[1m[\u001b[0m\u001b[34;49mnotice\u001b[0m\u001b[1;39;49m]\u001b[0m\u001b[39;49m To update, run: \u001b[0m\u001b[32;49mpip3 install --upgrade pip\u001b[0m\n",
      "Note: you may need to restart the kernel to use updated packages.\n"
     ]
    }
   ],
   "source": [
    "pip install xgboost"
   ]
  },
  {
   "cell_type": "code",
   "execution_count": 2,
   "metadata": {},
   "outputs": [],
   "source": [
    "import pandas as pd\n",
    "import seaborn as sns\n",
    "from sklearn.model_selection import train_test_split\n",
    "from sklearn.pipeline import Pipeline\n",
    "from sklearn.compose import ColumnTransformer\n",
    "from sklearn.preprocessing import OneHotEncoder, MinMaxScaler, StandardScaler, LabelEncoder\n",
    "import xgboost as xgb\n",
    "from sklearn.linear_model import LogisticRegression\n",
    "from sklearn.ensemble import RandomForestClassifier\n",
    "from sklearn.impute import SimpleImputer\n",
    "import numpy as np\n"
   ]
  },
  {
   "cell_type": "code",
   "execution_count": 3,
   "metadata": {},
   "outputs": [
    {
     "data": {
      "text/html": [
       "<div>\n",
       "<style scoped>\n",
       "    .dataframe tbody tr th:only-of-type {\n",
       "        vertical-align: middle;\n",
       "    }\n",
       "\n",
       "    .dataframe tbody tr th {\n",
       "        vertical-align: top;\n",
       "    }\n",
       "\n",
       "    .dataframe thead th {\n",
       "        text-align: right;\n",
       "    }\n",
       "</style>\n",
       "<table border=\"1\" class=\"dataframe\">\n",
       "  <thead>\n",
       "    <tr style=\"text-align: right;\">\n",
       "      <th></th>\n",
       "      <th>X</th>\n",
       "      <th>Y</th>\n",
       "      <th>OBJECTID</th>\n",
       "      <th>EVENT_UNIQUE_ID</th>\n",
       "      <th>OCC_DATE</th>\n",
       "      <th>OCC_YEAR</th>\n",
       "      <th>OCC_MONTH</th>\n",
       "      <th>OCC_DOW</th>\n",
       "      <th>OCC_DOY</th>\n",
       "      <th>OCC_DAY</th>\n",
       "      <th>...</th>\n",
       "      <th>OCC_TIME_RANGE</th>\n",
       "      <th>DIVISION</th>\n",
       "      <th>DEATH</th>\n",
       "      <th>INJURIES</th>\n",
       "      <th>HOOD_158</th>\n",
       "      <th>NEIGHBOURHOOD_158</th>\n",
       "      <th>HOOD_140</th>\n",
       "      <th>NEIGHBOURHOOD_140</th>\n",
       "      <th>LONG_WGS84</th>\n",
       "      <th>LAT_WGS84</th>\n",
       "    </tr>\n",
       "  </thead>\n",
       "  <tbody>\n",
       "    <tr>\n",
       "      <th>0</th>\n",
       "      <td>-79.234955</td>\n",
       "      <td>43.781528</td>\n",
       "      <td>1</td>\n",
       "      <td>GO-2004397105</td>\n",
       "      <td>2004/05/15 04:00:00+00</td>\n",
       "      <td>2004</td>\n",
       "      <td>May</td>\n",
       "      <td>Saturday</td>\n",
       "      <td>136</td>\n",
       "      <td>15</td>\n",
       "      <td>...</td>\n",
       "      <td>Night</td>\n",
       "      <td>D41</td>\n",
       "      <td>0</td>\n",
       "      <td>0</td>\n",
       "      <td>142</td>\n",
       "      <td>Woburn North</td>\n",
       "      <td>137</td>\n",
       "      <td>Woburn (137)</td>\n",
       "      <td>-79.234955</td>\n",
       "      <td>43.781528</td>\n",
       "    </tr>\n",
       "    <tr>\n",
       "      <th>1</th>\n",
       "      <td>-79.618218</td>\n",
       "      <td>43.733547</td>\n",
       "      <td>2</td>\n",
       "      <td>GO-2004600109</td>\n",
       "      <td>2004/07/26 04:00:00+00</td>\n",
       "      <td>2004</td>\n",
       "      <td>July</td>\n",
       "      <td>Monday</td>\n",
       "      <td>208</td>\n",
       "      <td>26</td>\n",
       "      <td>...</td>\n",
       "      <td>Evening</td>\n",
       "      <td>D23</td>\n",
       "      <td>0</td>\n",
       "      <td>0</td>\n",
       "      <td>1</td>\n",
       "      <td>West Humber-Clairville</td>\n",
       "      <td>1</td>\n",
       "      <td>West Humber-Clairville (1)</td>\n",
       "      <td>-79.618218</td>\n",
       "      <td>43.733547</td>\n",
       "    </tr>\n",
       "    <tr>\n",
       "      <th>2</th>\n",
       "      <td>-79.518759</td>\n",
       "      <td>43.769157</td>\n",
       "      <td>3</td>\n",
       "      <td>GO-2004311851</td>\n",
       "      <td>2004/05/14 04:00:00+00</td>\n",
       "      <td>2004</td>\n",
       "      <td>May</td>\n",
       "      <td>Friday</td>\n",
       "      <td>135</td>\n",
       "      <td>14</td>\n",
       "      <td>...</td>\n",
       "      <td>Afternoon</td>\n",
       "      <td>D31</td>\n",
       "      <td>1</td>\n",
       "      <td>1</td>\n",
       "      <td>24</td>\n",
       "      <td>Black Creek</td>\n",
       "      <td>24</td>\n",
       "      <td>Black Creek (24)</td>\n",
       "      <td>-79.518759</td>\n",
       "      <td>43.769157</td>\n",
       "    </tr>\n",
       "    <tr>\n",
       "      <th>3</th>\n",
       "      <td>-79.378870</td>\n",
       "      <td>43.660665</td>\n",
       "      <td>4</td>\n",
       "      <td>GO-2004736004</td>\n",
       "      <td>2004/12/19 05:00:00+00</td>\n",
       "      <td>2004</td>\n",
       "      <td>December</td>\n",
       "      <td>Sunday</td>\n",
       "      <td>354</td>\n",
       "      <td>19</td>\n",
       "      <td>...</td>\n",
       "      <td>Night</td>\n",
       "      <td>D51</td>\n",
       "      <td>1</td>\n",
       "      <td>0</td>\n",
       "      <td>168</td>\n",
       "      <td>Downtown Yonge East</td>\n",
       "      <td>75</td>\n",
       "      <td>Church-Yonge Corridor (75)</td>\n",
       "      <td>-79.378870</td>\n",
       "      <td>43.660665</td>\n",
       "    </tr>\n",
       "    <tr>\n",
       "      <th>4</th>\n",
       "      <td>-79.212435</td>\n",
       "      <td>43.812075</td>\n",
       "      <td>5</td>\n",
       "      <td>GO-2004303455</td>\n",
       "      <td>2004/04/12 04:00:00+00</td>\n",
       "      <td>2004</td>\n",
       "      <td>April</td>\n",
       "      <td>Monday</td>\n",
       "      <td>103</td>\n",
       "      <td>12</td>\n",
       "      <td>...</td>\n",
       "      <td>Evening</td>\n",
       "      <td>D42</td>\n",
       "      <td>0</td>\n",
       "      <td>0</td>\n",
       "      <td>146</td>\n",
       "      <td>Malvern East</td>\n",
       "      <td>132</td>\n",
       "      <td>Malvern (132)</td>\n",
       "      <td>-79.212435</td>\n",
       "      <td>43.812075</td>\n",
       "    </tr>\n",
       "    <tr>\n",
       "      <th>...</th>\n",
       "      <td>...</td>\n",
       "      <td>...</td>\n",
       "      <td>...</td>\n",
       "      <td>...</td>\n",
       "      <td>...</td>\n",
       "      <td>...</td>\n",
       "      <td>...</td>\n",
       "      <td>...</td>\n",
       "      <td>...</td>\n",
       "      <td>...</td>\n",
       "      <td>...</td>\n",
       "      <td>...</td>\n",
       "      <td>...</td>\n",
       "      <td>...</td>\n",
       "      <td>...</td>\n",
       "      <td>...</td>\n",
       "      <td>...</td>\n",
       "      <td>...</td>\n",
       "      <td>...</td>\n",
       "      <td>...</td>\n",
       "      <td>...</td>\n",
       "    </tr>\n",
       "    <tr>\n",
       "      <th>5702</th>\n",
       "      <td>-79.362941</td>\n",
       "      <td>43.771764</td>\n",
       "      <td>5703</td>\n",
       "      <td>GO-20221038418</td>\n",
       "      <td>2022/06/02 04:00:00+00</td>\n",
       "      <td>2022</td>\n",
       "      <td>June</td>\n",
       "      <td>Thursday</td>\n",
       "      <td>153</td>\n",
       "      <td>2</td>\n",
       "      <td>...</td>\n",
       "      <td>Night</td>\n",
       "      <td>D33</td>\n",
       "      <td>0</td>\n",
       "      <td>1</td>\n",
       "      <td>53</td>\n",
       "      <td>Henry Farm</td>\n",
       "      <td>53</td>\n",
       "      <td>Henry Farm (53)</td>\n",
       "      <td>-79.362941</td>\n",
       "      <td>43.771764</td>\n",
       "    </tr>\n",
       "    <tr>\n",
       "      <th>5703</th>\n",
       "      <td>-79.402702</td>\n",
       "      <td>43.643920</td>\n",
       "      <td>5704</td>\n",
       "      <td>GO-20221362949</td>\n",
       "      <td>2022/07/17 04:00:00+00</td>\n",
       "      <td>2022</td>\n",
       "      <td>July</td>\n",
       "      <td>Sunday</td>\n",
       "      <td>198</td>\n",
       "      <td>17</td>\n",
       "      <td>...</td>\n",
       "      <td>Night</td>\n",
       "      <td>D14</td>\n",
       "      <td>1</td>\n",
       "      <td>1</td>\n",
       "      <td>164</td>\n",
       "      <td>Wellington Place</td>\n",
       "      <td>77</td>\n",
       "      <td>Waterfront Communities-The Island (77)</td>\n",
       "      <td>-79.402702</td>\n",
       "      <td>43.643920</td>\n",
       "    </tr>\n",
       "    <tr>\n",
       "      <th>5704</th>\n",
       "      <td>-79.196217</td>\n",
       "      <td>43.786621</td>\n",
       "      <td>5705</td>\n",
       "      <td>GO-2022336423</td>\n",
       "      <td>2022/02/21 05:00:00+00</td>\n",
       "      <td>2022</td>\n",
       "      <td>February</td>\n",
       "      <td>Monday</td>\n",
       "      <td>52</td>\n",
       "      <td>21</td>\n",
       "      <td>...</td>\n",
       "      <td>Night</td>\n",
       "      <td>D43</td>\n",
       "      <td>0</td>\n",
       "      <td>0</td>\n",
       "      <td>135</td>\n",
       "      <td>Morningside</td>\n",
       "      <td>135</td>\n",
       "      <td>Morningside (135)</td>\n",
       "      <td>-79.196217</td>\n",
       "      <td>43.786621</td>\n",
       "    </tr>\n",
       "    <tr>\n",
       "      <th>5705</th>\n",
       "      <td>-79.443993</td>\n",
       "      <td>43.658083</td>\n",
       "      <td>5706</td>\n",
       "      <td>GO-20221765442</td>\n",
       "      <td>2022/09/11 04:00:00+00</td>\n",
       "      <td>2022</td>\n",
       "      <td>September</td>\n",
       "      <td>Sunday</td>\n",
       "      <td>254</td>\n",
       "      <td>11</td>\n",
       "      <td>...</td>\n",
       "      <td>Night</td>\n",
       "      <td>D11</td>\n",
       "      <td>0</td>\n",
       "      <td>2</td>\n",
       "      <td>83</td>\n",
       "      <td>Dufferin Grove</td>\n",
       "      <td>83</td>\n",
       "      <td>Dufferin Grove (83)</td>\n",
       "      <td>-79.443993</td>\n",
       "      <td>43.658083</td>\n",
       "    </tr>\n",
       "    <tr>\n",
       "      <th>5706</th>\n",
       "      <td>-79.369456</td>\n",
       "      <td>43.654519</td>\n",
       "      <td>5707</td>\n",
       "      <td>GO-2022783839</td>\n",
       "      <td>2022/04/27 04:00:00+00</td>\n",
       "      <td>2022</td>\n",
       "      <td>April</td>\n",
       "      <td>Wednesday</td>\n",
       "      <td>117</td>\n",
       "      <td>27</td>\n",
       "      <td>...</td>\n",
       "      <td>Afternoon</td>\n",
       "      <td>D51</td>\n",
       "      <td>0</td>\n",
       "      <td>0</td>\n",
       "      <td>73</td>\n",
       "      <td>Moss Park</td>\n",
       "      <td>73</td>\n",
       "      <td>Moss Park (73)</td>\n",
       "      <td>-79.369456</td>\n",
       "      <td>43.654519</td>\n",
       "    </tr>\n",
       "  </tbody>\n",
       "</table>\n",
       "<p>5707 rows × 21 columns</p>\n",
       "</div>"
      ],
      "text/plain": [
       "              X          Y  OBJECTID EVENT_UNIQUE_ID                OCC_DATE  \\\n",
       "0    -79.234955  43.781528         1   GO-2004397105  2004/05/15 04:00:00+00   \n",
       "1    -79.618218  43.733547         2   GO-2004600109  2004/07/26 04:00:00+00   \n",
       "2    -79.518759  43.769157         3   GO-2004311851  2004/05/14 04:00:00+00   \n",
       "3    -79.378870  43.660665         4   GO-2004736004  2004/12/19 05:00:00+00   \n",
       "4    -79.212435  43.812075         5   GO-2004303455  2004/04/12 04:00:00+00   \n",
       "...         ...        ...       ...             ...                     ...   \n",
       "5702 -79.362941  43.771764      5703  GO-20221038418  2022/06/02 04:00:00+00   \n",
       "5703 -79.402702  43.643920      5704  GO-20221362949  2022/07/17 04:00:00+00   \n",
       "5704 -79.196217  43.786621      5705   GO-2022336423  2022/02/21 05:00:00+00   \n",
       "5705 -79.443993  43.658083      5706  GO-20221765442  2022/09/11 04:00:00+00   \n",
       "5706 -79.369456  43.654519      5707   GO-2022783839  2022/04/27 04:00:00+00   \n",
       "\n",
       "      OCC_YEAR  OCC_MONTH    OCC_DOW  OCC_DOY  OCC_DAY  ...  OCC_TIME_RANGE  \\\n",
       "0         2004        May   Saturday      136       15  ...           Night   \n",
       "1         2004       July     Monday      208       26  ...         Evening   \n",
       "2         2004        May     Friday      135       14  ...       Afternoon   \n",
       "3         2004   December     Sunday      354       19  ...           Night   \n",
       "4         2004      April     Monday      103       12  ...         Evening   \n",
       "...        ...        ...        ...      ...      ...  ...             ...   \n",
       "5702      2022       June   Thursday      153        2  ...           Night   \n",
       "5703      2022       July     Sunday      198       17  ...           Night   \n",
       "5704      2022   February     Monday       52       21  ...           Night   \n",
       "5705      2022  September     Sunday      254       11  ...           Night   \n",
       "5706      2022      April  Wednesday      117       27  ...       Afternoon   \n",
       "\n",
       "     DIVISION DEATH  INJURIES  HOOD_158       NEIGHBOURHOOD_158 HOOD_140  \\\n",
       "0         D41     0         0       142            Woburn North      137   \n",
       "1         D23     0         0         1  West Humber-Clairville        1   \n",
       "2         D31     1         1        24             Black Creek       24   \n",
       "3         D51     1         0       168     Downtown Yonge East       75   \n",
       "4         D42     0         0       146            Malvern East      132   \n",
       "...       ...   ...       ...       ...                     ...      ...   \n",
       "5702      D33     0         1        53              Henry Farm       53   \n",
       "5703      D14     1         1       164        Wellington Place       77   \n",
       "5704      D43     0         0       135             Morningside      135   \n",
       "5705      D11     0         2        83          Dufferin Grove       83   \n",
       "5706      D51     0         0        73               Moss Park       73   \n",
       "\n",
       "                           NEIGHBOURHOOD_140 LONG_WGS84  LAT_WGS84  \n",
       "0                               Woburn (137) -79.234955  43.781528  \n",
       "1                 West Humber-Clairville (1) -79.618218  43.733547  \n",
       "2                           Black Creek (24) -79.518759  43.769157  \n",
       "3                 Church-Yonge Corridor (75) -79.378870  43.660665  \n",
       "4                              Malvern (132) -79.212435  43.812075  \n",
       "...                                      ...        ...        ...  \n",
       "5702                         Henry Farm (53) -79.362941  43.771764  \n",
       "5703  Waterfront Communities-The Island (77) -79.402702  43.643920  \n",
       "5704                       Morningside (135) -79.196217  43.786621  \n",
       "5705                     Dufferin Grove (83) -79.443993  43.658083  \n",
       "5706                          Moss Park (73) -79.369456  43.654519  \n",
       "\n",
       "[5707 rows x 21 columns]"
      ]
     },
     "execution_count": 3,
     "metadata": {},
     "output_type": "execute_result"
    }
   ],
   "source": [
    "crime_data = pd.read_csv('https://raw.githubusercontent.com/Pelumioluwa/MBAN6110Class/main/Data/Toronto%20Police%20Shooting%20and%20Firearm%20Discharge.csv')\n",
    "crime_data"
   ]
  },
  {
   "cell_type": "code",
   "execution_count": 111,
   "metadata": {},
   "outputs": [
    {
     "data": {
      "text/plain": [
       "(5707, 21)"
      ]
     },
     "execution_count": 111,
     "metadata": {},
     "output_type": "execute_result"
    }
   ],
   "source": [
    "crime_data.shape"
   ]
  },
  {
   "cell_type": "code",
   "execution_count": 112,
   "metadata": {},
   "outputs": [
    {
     "name": "stdout",
     "output_type": "stream",
     "text": [
      "<class 'pandas.core.frame.DataFrame'>\n",
      "RangeIndex: 5707 entries, 0 to 5706\n",
      "Data columns (total 21 columns):\n",
      " #   Column             Non-Null Count  Dtype  \n",
      "---  ------             --------------  -----  \n",
      " 0   X                  5707 non-null   float64\n",
      " 1   Y                  5707 non-null   float64\n",
      " 2   OBJECTID           5707 non-null   int64  \n",
      " 3   EVENT_UNIQUE_ID    5707 non-null   object \n",
      " 4   OCC_DATE           5707 non-null   object \n",
      " 5   OCC_YEAR           5707 non-null   int64  \n",
      " 6   OCC_MONTH          5707 non-null   object \n",
      " 7   OCC_DOW            5707 non-null   object \n",
      " 8   OCC_DOY            5707 non-null   int64  \n",
      " 9   OCC_DAY            5707 non-null   int64  \n",
      " 10  OCC_HOUR           5707 non-null   int64  \n",
      " 11  OCC_TIME_RANGE     5707 non-null   object \n",
      " 12  DIVISION           5707 non-null   object \n",
      " 13  DEATH              5707 non-null   int64  \n",
      " 14  INJURIES           5707 non-null   int64  \n",
      " 15  HOOD_158           5707 non-null   object \n",
      " 16  NEIGHBOURHOOD_158  5707 non-null   object \n",
      " 17  HOOD_140           5707 non-null   object \n",
      " 18  NEIGHBOURHOOD_140  5707 non-null   object \n",
      " 19  LONG_WGS84         5707 non-null   float64\n",
      " 20  LAT_WGS84          5707 non-null   float64\n",
      "dtypes: float64(4), int64(7), object(10)\n",
      "memory usage: 936.4+ KB\n"
     ]
    }
   ],
   "source": [
    "crime_data.info()"
   ]
  },
  {
   "cell_type": "code",
   "execution_count": 113,
   "metadata": {},
   "outputs": [],
   "source": [
    "#convert the occurance date to datetime \n",
    "#crime_data['OCC_DATE'] = pd.to_datetime(crime_data['OCC_DATE'])\n",
    "#crime_data.info()"
   ]
  },
  {
   "cell_type": "code",
   "execution_count": 4,
   "metadata": {},
   "outputs": [
    {
     "data": {
      "text/plain": [
       "Index(['X', 'Y', 'OBJECTID', 'EVENT_UNIQUE_ID', 'OCC_DATE', 'OCC_YEAR',\n",
       "       'OCC_MONTH', 'OCC_DOW', 'OCC_DOY', 'OCC_DAY', 'OCC_HOUR',\n",
       "       'OCC_TIME_RANGE', 'DIVISION', 'DEATH', 'INJURIES', 'HOOD_158',\n",
       "       'NEIGHBOURHOOD_158', 'HOOD_140', 'NEIGHBOURHOOD_140', 'LONG_WGS84',\n",
       "       'LAT_WGS84'],\n",
       "      dtype='object')"
      ]
     },
     "execution_count": 4,
     "metadata": {},
     "output_type": "execute_result"
    }
   ],
   "source": [
    "crime_data.columns"
   ]
  },
  {
   "cell_type": "markdown",
   "metadata": {},
   "source": [
    "Build a pipeline to convert the dataframe \n",
    "1. drop unnecessary columns not needed in the - X', 'Y', 'OBJECTID','DIVISION', 'DEATH', 'INJURIES', 'HOOD_158','NEIGHBOURHOOD_158', 'HOOD_140', 'NEIGHBOURHOOD_140', 'LONG_WGS84', 'LAT_WGS84'\n",
    "2. Convert day of the week, month, day of the week, occurance time range to dummy data and one encode it \n",
    "3. Scale the numerical variables (day of the year,day of the month, hour of the day)\n",
    "4. Make date time the index\n",
    "\n"
   ]
  },
  {
   "cell_type": "code",
   "execution_count": 5,
   "metadata": {},
   "outputs": [],
   "source": [
    "#Separate the different numerical,categorica features, target  \n",
    "categorical_features = ['OCC_MONTH','OCC_TIME_RANGE']\n",
    "numerical_features = ['OCC_DOY','OCC_DAY','OCC_HOUR']\n",
    "label = ['OCC_DOW']\n"
   ]
  },
  {
   "cell_type": "markdown",
   "metadata": {},
   "source": [
    "Predict the probability that each day would have a crime , the period of the day and the month and the time of the day)"
   ]
  },
  {
   "cell_type": "code",
   "execution_count": 6,
   "metadata": {},
   "outputs": [
    {
     "data": {
      "text/html": [
       "<div>\n",
       "<style scoped>\n",
       "    .dataframe tbody tr th:only-of-type {\n",
       "        vertical-align: middle;\n",
       "    }\n",
       "\n",
       "    .dataframe tbody tr th {\n",
       "        vertical-align: top;\n",
       "    }\n",
       "\n",
       "    .dataframe thead th {\n",
       "        text-align: right;\n",
       "    }\n",
       "</style>\n",
       "<table border=\"1\" class=\"dataframe\">\n",
       "  <thead>\n",
       "    <tr style=\"text-align: right;\">\n",
       "      <th></th>\n",
       "      <th>OCC_DOW</th>\n",
       "    </tr>\n",
       "  </thead>\n",
       "  <tbody>\n",
       "    <tr>\n",
       "      <th>0</th>\n",
       "      <td>Saturday</td>\n",
       "    </tr>\n",
       "    <tr>\n",
       "      <th>1</th>\n",
       "      <td>Monday</td>\n",
       "    </tr>\n",
       "    <tr>\n",
       "      <th>2</th>\n",
       "      <td>Friday</td>\n",
       "    </tr>\n",
       "    <tr>\n",
       "      <th>3</th>\n",
       "      <td>Sunday</td>\n",
       "    </tr>\n",
       "    <tr>\n",
       "      <th>4</th>\n",
       "      <td>Monday</td>\n",
       "    </tr>\n",
       "    <tr>\n",
       "      <th>...</th>\n",
       "      <td>...</td>\n",
       "    </tr>\n",
       "    <tr>\n",
       "      <th>5702</th>\n",
       "      <td>Thursday</td>\n",
       "    </tr>\n",
       "    <tr>\n",
       "      <th>5703</th>\n",
       "      <td>Sunday</td>\n",
       "    </tr>\n",
       "    <tr>\n",
       "      <th>5704</th>\n",
       "      <td>Monday</td>\n",
       "    </tr>\n",
       "    <tr>\n",
       "      <th>5705</th>\n",
       "      <td>Sunday</td>\n",
       "    </tr>\n",
       "    <tr>\n",
       "      <th>5706</th>\n",
       "      <td>Wednesday</td>\n",
       "    </tr>\n",
       "  </tbody>\n",
       "</table>\n",
       "<p>5707 rows × 1 columns</p>\n",
       "</div>"
      ],
      "text/plain": [
       "        OCC_DOW\n",
       "0      Saturday\n",
       "1        Monday\n",
       "2        Friday\n",
       "3        Sunday\n",
       "4        Monday\n",
       "...         ...\n",
       "5702   Thursday\n",
       "5703     Sunday\n",
       "5704     Monday\n",
       "5705     Sunday\n",
       "5706  Wednesday\n",
       "\n",
       "[5707 rows x 1 columns]"
      ]
     },
     "execution_count": 6,
     "metadata": {},
     "output_type": "execute_result"
    }
   ],
   "source": [
    "crime_data[label]"
   ]
  },
  {
   "cell_type": "code",
   "execution_count": 7,
   "metadata": {},
   "outputs": [],
   "source": [
    "label_encoder_trans = LabelEncoder()\n",
    "#crime_data['OCC_TIME_RANGE'] = label_encoder_trans.fit_transform(crime_data['OCC_TIME_RANGE'])\n",
    "#crime_data['OCC_MONTH'] = label_encoder_trans.fit_transform(crime_data['OCC_MONTH'])\n",
    "#crime_data['OCC_HOUR'] = label_encoder_trans.fit_transform(crime_data['OCC_HOUR'])\n",
    "#crime_data['OCC_DOW'] = label_encoder_trans.fit_transform(crime_data['OCC_DOW'])\n",
    "#target = crime_data['OCC_DOW']"
   ]
  },
  {
   "cell_type": "code",
   "execution_count": 8,
   "metadata": {},
   "outputs": [
    {
     "data": {
      "text/html": [
       "<div>\n",
       "<style scoped>\n",
       "    .dataframe tbody tr th:only-of-type {\n",
       "        vertical-align: middle;\n",
       "    }\n",
       "\n",
       "    .dataframe tbody tr th {\n",
       "        vertical-align: top;\n",
       "    }\n",
       "\n",
       "    .dataframe thead th {\n",
       "        text-align: right;\n",
       "    }\n",
       "</style>\n",
       "<table border=\"1\" class=\"dataframe\">\n",
       "  <thead>\n",
       "    <tr style=\"text-align: right;\">\n",
       "      <th></th>\n",
       "      <th>OCC_DOW</th>\n",
       "    </tr>\n",
       "  </thead>\n",
       "  <tbody>\n",
       "    <tr>\n",
       "      <th>0</th>\n",
       "      <td>Saturday</td>\n",
       "    </tr>\n",
       "    <tr>\n",
       "      <th>1</th>\n",
       "      <td>Monday</td>\n",
       "    </tr>\n",
       "    <tr>\n",
       "      <th>2</th>\n",
       "      <td>Friday</td>\n",
       "    </tr>\n",
       "    <tr>\n",
       "      <th>3</th>\n",
       "      <td>Sunday</td>\n",
       "    </tr>\n",
       "    <tr>\n",
       "      <th>4</th>\n",
       "      <td>Monday</td>\n",
       "    </tr>\n",
       "    <tr>\n",
       "      <th>...</th>\n",
       "      <td>...</td>\n",
       "    </tr>\n",
       "    <tr>\n",
       "      <th>5702</th>\n",
       "      <td>Thursday</td>\n",
       "    </tr>\n",
       "    <tr>\n",
       "      <th>5703</th>\n",
       "      <td>Sunday</td>\n",
       "    </tr>\n",
       "    <tr>\n",
       "      <th>5704</th>\n",
       "      <td>Monday</td>\n",
       "    </tr>\n",
       "    <tr>\n",
       "      <th>5705</th>\n",
       "      <td>Sunday</td>\n",
       "    </tr>\n",
       "    <tr>\n",
       "      <th>5706</th>\n",
       "      <td>Wednesday</td>\n",
       "    </tr>\n",
       "  </tbody>\n",
       "</table>\n",
       "<p>5707 rows × 1 columns</p>\n",
       "</div>"
      ],
      "text/plain": [
       "        OCC_DOW\n",
       "0      Saturday\n",
       "1        Monday\n",
       "2        Friday\n",
       "3        Sunday\n",
       "4        Monday\n",
       "...         ...\n",
       "5702   Thursday\n",
       "5703     Sunday\n",
       "5704     Monday\n",
       "5705     Sunday\n",
       "5706  Wednesday\n",
       "\n",
       "[5707 rows x 1 columns]"
      ]
     },
     "execution_count": 8,
     "metadata": {},
     "output_type": "execute_result"
    }
   ],
   "source": [
    "crime_data[label]"
   ]
  },
  {
   "cell_type": "code",
   "execution_count": 14,
   "metadata": {},
   "outputs": [],
   "source": [
    "#Start with day of the week\n",
    "# split data in train / test\n",
    "X_train, X_test, y_train, y_test = train_test_split(crime_data[categorical_features + numerical_features]\n",
    "                                                    ,crime_data[label],\n",
    "                                                    test_size = 0.3, random_state=123)"
   ]
  },
  {
   "cell_type": "code",
   "execution_count": 10,
   "metadata": {},
   "outputs": [],
   "source": [
    "#define transformers and encoder\n",
    "categorical_transformer = Pipeline(steps=[('onehot',OneHotEncoder(handle_unknown='ignore'))])\n",
    "numerical_transformer = Pipeline(steps=[('scaler',StandardScaler())])\n",
    "label_encoder_trans = Pipeline(steps=[('label_encoder', LabelEncoder())])"
   ]
  },
  {
   "cell_type": "code",
   "execution_count": 18,
   "metadata": {},
   "outputs": [],
   "source": [
    "#building processor\n",
    "preprocessor = ColumnTransformer(transformers=[('categorical', categorical_transformer, categorical_features),\n",
    "                                               ('numerical', numerical_transformer, numerical_features),\n",
    "                                               ('label', label_encoder_trans, label)])\n",
    "#preprocessor = ColumnTransformer(transformers=[('categorical',categorical_transformer, categorical_features),('numerical',numerical_transformer,numerical_features) ])"
   ]
  },
  {
   "cell_type": "code",
   "execution_count": 122,
   "metadata": {},
   "outputs": [],
   "source": [
    "#define transformers and encoder\n",
    "#categorical_transformer = Pipeline(steps=[('onehot',OneHotEncoder())])\n",
    "#numerical_transformer = Pipeline(steps=[('scaler',StandardScaler())])\n",
    "#label_encoder_trans = Pipeline(steps=[('label_encoder', LabelEncoder())])\n"
   ]
  },
  {
   "cell_type": "code",
   "execution_count": 123,
   "metadata": {},
   "outputs": [
    {
     "name": "stdout",
     "output_type": "stream",
     "text": [
      "<class 'pandas.core.frame.DataFrame'>\n",
      "RangeIndex: 5707 entries, 0 to 5706\n",
      "Data columns (total 21 columns):\n",
      " #   Column             Non-Null Count  Dtype  \n",
      "---  ------             --------------  -----  \n",
      " 0   X                  5707 non-null   float64\n",
      " 1   Y                  5707 non-null   float64\n",
      " 2   OBJECTID           5707 non-null   int64  \n",
      " 3   EVENT_UNIQUE_ID    5707 non-null   object \n",
      " 4   OCC_DATE           5707 non-null   object \n",
      " 5   OCC_YEAR           5707 non-null   int64  \n",
      " 6   OCC_MONTH          5707 non-null   object \n",
      " 7   OCC_DOW            5707 non-null   int64  \n",
      " 8   OCC_DOY            5707 non-null   int64  \n",
      " 9   OCC_DAY            5707 non-null   int64  \n",
      " 10  OCC_HOUR           5707 non-null   int64  \n",
      " 11  OCC_TIME_RANGE     5707 non-null   object \n",
      " 12  DIVISION           5707 non-null   object \n",
      " 13  DEATH              5707 non-null   int64  \n",
      " 14  INJURIES           5707 non-null   int64  \n",
      " 15  HOOD_158           5707 non-null   object \n",
      " 16  NEIGHBOURHOOD_158  5707 non-null   object \n",
      " 17  HOOD_140           5707 non-null   object \n",
      " 18  NEIGHBOURHOOD_140  5707 non-null   object \n",
      " 19  LONG_WGS84         5707 non-null   float64\n",
      " 20  LAT_WGS84          5707 non-null   float64\n",
      "dtypes: float64(4), int64(8), object(9)\n",
      "memory usage: 936.4+ KB\n"
     ]
    }
   ],
   "source": [
    "crime_data.info()"
   ]
  },
  {
   "cell_type": "code",
   "execution_count": 19,
   "metadata": {},
   "outputs": [],
   "source": [
    "#define model\n",
    "random_forest = Pipeline(steps=[('preprocessor', preprocessor),\n",
    "                                      ('regressor', RandomForestClassifier())])"
   ]
  },
  {
   "cell_type": "code",
   "execution_count": 20,
   "metadata": {},
   "outputs": [
    {
     "ename": "ValueError",
     "evalue": "A given column is not a column of the dataframe",
     "output_type": "error",
     "traceback": [
      "\u001b[0;31m---------------------------------------------------------------------------\u001b[0m",
      "\u001b[0;31mKeyError\u001b[0m                                  Traceback (most recent call last)",
      "\u001b[0;32m/Library/Frameworks/Python.framework/Versions/3.7/lib/python3.7/site-packages/pandas/core/indexes/base.py\u001b[0m in \u001b[0;36mget_loc\u001b[0;34m(self, key, method, tolerance)\u001b[0m\n\u001b[1;32m   3360\u001b[0m             \u001b[0;32mtry\u001b[0m\u001b[0;34m:\u001b[0m\u001b[0;34m\u001b[0m\u001b[0;34m\u001b[0m\u001b[0m\n\u001b[0;32m-> 3361\u001b[0;31m                 \u001b[0;32mreturn\u001b[0m \u001b[0mself\u001b[0m\u001b[0;34m.\u001b[0m\u001b[0m_engine\u001b[0m\u001b[0;34m.\u001b[0m\u001b[0mget_loc\u001b[0m\u001b[0;34m(\u001b[0m\u001b[0mcasted_key\u001b[0m\u001b[0;34m)\u001b[0m\u001b[0;34m\u001b[0m\u001b[0;34m\u001b[0m\u001b[0m\n\u001b[0m\u001b[1;32m   3362\u001b[0m             \u001b[0;32mexcept\u001b[0m \u001b[0mKeyError\u001b[0m \u001b[0;32mas\u001b[0m \u001b[0merr\u001b[0m\u001b[0;34m:\u001b[0m\u001b[0;34m\u001b[0m\u001b[0;34m\u001b[0m\u001b[0m\n",
      "\u001b[0;32m/Library/Frameworks/Python.framework/Versions/3.7/lib/python3.7/site-packages/pandas/_libs/index.pyx\u001b[0m in \u001b[0;36mpandas._libs.index.IndexEngine.get_loc\u001b[0;34m()\u001b[0m\n",
      "\u001b[0;32m/Library/Frameworks/Python.framework/Versions/3.7/lib/python3.7/site-packages/pandas/_libs/index.pyx\u001b[0m in \u001b[0;36mpandas._libs.index.IndexEngine.get_loc\u001b[0;34m()\u001b[0m\n",
      "\u001b[0;32mpandas/_libs/hashtable_class_helper.pxi\u001b[0m in \u001b[0;36mpandas._libs.hashtable.PyObjectHashTable.get_item\u001b[0;34m()\u001b[0m\n",
      "\u001b[0;32mpandas/_libs/hashtable_class_helper.pxi\u001b[0m in \u001b[0;36mpandas._libs.hashtable.PyObjectHashTable.get_item\u001b[0;34m()\u001b[0m\n",
      "\u001b[0;31mKeyError\u001b[0m: 'OCC_DOW'",
      "\nThe above exception was the direct cause of the following exception:\n",
      "\u001b[0;31mKeyError\u001b[0m                                  Traceback (most recent call last)",
      "\u001b[0;32m/Library/Frameworks/Python.framework/Versions/3.7/lib/python3.7/site-packages/sklearn/utils/__init__.py\u001b[0m in \u001b[0;36m_get_column_indices\u001b[0;34m(X, key)\u001b[0m\n\u001b[1;32m    432\u001b[0m             \u001b[0;32mfor\u001b[0m \u001b[0mcol\u001b[0m \u001b[0;32min\u001b[0m \u001b[0mcolumns\u001b[0m\u001b[0;34m:\u001b[0m\u001b[0;34m\u001b[0m\u001b[0;34m\u001b[0m\u001b[0m\n\u001b[0;32m--> 433\u001b[0;31m                 \u001b[0mcol_idx\u001b[0m \u001b[0;34m=\u001b[0m \u001b[0mall_columns\u001b[0m\u001b[0;34m.\u001b[0m\u001b[0mget_loc\u001b[0m\u001b[0;34m(\u001b[0m\u001b[0mcol\u001b[0m\u001b[0;34m)\u001b[0m\u001b[0;34m\u001b[0m\u001b[0;34m\u001b[0m\u001b[0m\n\u001b[0m\u001b[1;32m    434\u001b[0m                 \u001b[0;32mif\u001b[0m \u001b[0;32mnot\u001b[0m \u001b[0misinstance\u001b[0m\u001b[0;34m(\u001b[0m\u001b[0mcol_idx\u001b[0m\u001b[0;34m,\u001b[0m \u001b[0mnumbers\u001b[0m\u001b[0;34m.\u001b[0m\u001b[0mIntegral\u001b[0m\u001b[0;34m)\u001b[0m\u001b[0;34m:\u001b[0m\u001b[0;34m\u001b[0m\u001b[0;34m\u001b[0m\u001b[0m\n",
      "\u001b[0;32m/Library/Frameworks/Python.framework/Versions/3.7/lib/python3.7/site-packages/pandas/core/indexes/base.py\u001b[0m in \u001b[0;36mget_loc\u001b[0;34m(self, key, method, tolerance)\u001b[0m\n\u001b[1;32m   3362\u001b[0m             \u001b[0;32mexcept\u001b[0m \u001b[0mKeyError\u001b[0m \u001b[0;32mas\u001b[0m \u001b[0merr\u001b[0m\u001b[0;34m:\u001b[0m\u001b[0;34m\u001b[0m\u001b[0;34m\u001b[0m\u001b[0m\n\u001b[0;32m-> 3363\u001b[0;31m                 \u001b[0;32mraise\u001b[0m \u001b[0mKeyError\u001b[0m\u001b[0;34m(\u001b[0m\u001b[0mkey\u001b[0m\u001b[0;34m)\u001b[0m \u001b[0;32mfrom\u001b[0m \u001b[0merr\u001b[0m\u001b[0;34m\u001b[0m\u001b[0;34m\u001b[0m\u001b[0m\n\u001b[0m\u001b[1;32m   3364\u001b[0m \u001b[0;34m\u001b[0m\u001b[0m\n",
      "\u001b[0;31mKeyError\u001b[0m: 'OCC_DOW'",
      "\nThe above exception was the direct cause of the following exception:\n",
      "\u001b[0;31mValueError\u001b[0m                                Traceback (most recent call last)",
      "\u001b[0;32m/var/folders/9y/1pz9lyds70542g2c14yqp5wh0000gn/T/ipykernel_34869/2566748861.py\u001b[0m in \u001b[0;36m<module>\u001b[0;34m\u001b[0m\n\u001b[0;32m----> 1\u001b[0;31m \u001b[0mrandom_forest\u001b[0m\u001b[0;34m.\u001b[0m\u001b[0mfit\u001b[0m\u001b[0;34m(\u001b[0m\u001b[0mX_train\u001b[0m\u001b[0;34m,\u001b[0m \u001b[0my_train\u001b[0m\u001b[0;34m)\u001b[0m\u001b[0;34m\u001b[0m\u001b[0;34m\u001b[0m\u001b[0m\n\u001b[0m",
      "\u001b[0;32m/Library/Frameworks/Python.framework/Versions/3.7/lib/python3.7/site-packages/sklearn/pipeline.py\u001b[0m in \u001b[0;36mfit\u001b[0;34m(self, X, y, **fit_params)\u001b[0m\n\u001b[1;32m    388\u001b[0m         \"\"\"\n\u001b[1;32m    389\u001b[0m         \u001b[0mfit_params_steps\u001b[0m \u001b[0;34m=\u001b[0m \u001b[0mself\u001b[0m\u001b[0;34m.\u001b[0m\u001b[0m_check_fit_params\u001b[0m\u001b[0;34m(\u001b[0m\u001b[0;34m**\u001b[0m\u001b[0mfit_params\u001b[0m\u001b[0;34m)\u001b[0m\u001b[0;34m\u001b[0m\u001b[0;34m\u001b[0m\u001b[0m\n\u001b[0;32m--> 390\u001b[0;31m         \u001b[0mXt\u001b[0m \u001b[0;34m=\u001b[0m \u001b[0mself\u001b[0m\u001b[0;34m.\u001b[0m\u001b[0m_fit\u001b[0m\u001b[0;34m(\u001b[0m\u001b[0mX\u001b[0m\u001b[0;34m,\u001b[0m \u001b[0my\u001b[0m\u001b[0;34m,\u001b[0m \u001b[0;34m**\u001b[0m\u001b[0mfit_params_steps\u001b[0m\u001b[0;34m)\u001b[0m\u001b[0;34m\u001b[0m\u001b[0;34m\u001b[0m\u001b[0m\n\u001b[0m\u001b[1;32m    391\u001b[0m         \u001b[0;32mwith\u001b[0m \u001b[0m_print_elapsed_time\u001b[0m\u001b[0;34m(\u001b[0m\u001b[0;34m\"Pipeline\"\u001b[0m\u001b[0;34m,\u001b[0m \u001b[0mself\u001b[0m\u001b[0;34m.\u001b[0m\u001b[0m_log_message\u001b[0m\u001b[0;34m(\u001b[0m\u001b[0mlen\u001b[0m\u001b[0;34m(\u001b[0m\u001b[0mself\u001b[0m\u001b[0;34m.\u001b[0m\u001b[0msteps\u001b[0m\u001b[0;34m)\u001b[0m \u001b[0;34m-\u001b[0m \u001b[0;36m1\u001b[0m\u001b[0;34m)\u001b[0m\u001b[0;34m)\u001b[0m\u001b[0;34m:\u001b[0m\u001b[0;34m\u001b[0m\u001b[0;34m\u001b[0m\u001b[0m\n\u001b[1;32m    392\u001b[0m             \u001b[0;32mif\u001b[0m \u001b[0mself\u001b[0m\u001b[0;34m.\u001b[0m\u001b[0m_final_estimator\u001b[0m \u001b[0;34m!=\u001b[0m \u001b[0;34m\"passthrough\"\u001b[0m\u001b[0;34m:\u001b[0m\u001b[0;34m\u001b[0m\u001b[0;34m\u001b[0m\u001b[0m\n",
      "\u001b[0;32m/Library/Frameworks/Python.framework/Versions/3.7/lib/python3.7/site-packages/sklearn/pipeline.py\u001b[0m in \u001b[0;36m_fit\u001b[0;34m(self, X, y, **fit_params_steps)\u001b[0m\n\u001b[1;32m    353\u001b[0m                 \u001b[0mmessage_clsname\u001b[0m\u001b[0;34m=\u001b[0m\u001b[0;34m\"Pipeline\"\u001b[0m\u001b[0;34m,\u001b[0m\u001b[0;34m\u001b[0m\u001b[0;34m\u001b[0m\u001b[0m\n\u001b[1;32m    354\u001b[0m                 \u001b[0mmessage\u001b[0m\u001b[0;34m=\u001b[0m\u001b[0mself\u001b[0m\u001b[0;34m.\u001b[0m\u001b[0m_log_message\u001b[0m\u001b[0;34m(\u001b[0m\u001b[0mstep_idx\u001b[0m\u001b[0;34m)\u001b[0m\u001b[0;34m,\u001b[0m\u001b[0;34m\u001b[0m\u001b[0;34m\u001b[0m\u001b[0m\n\u001b[0;32m--> 355\u001b[0;31m                 \u001b[0;34m**\u001b[0m\u001b[0mfit_params_steps\u001b[0m\u001b[0;34m[\u001b[0m\u001b[0mname\u001b[0m\u001b[0;34m]\u001b[0m\u001b[0;34m,\u001b[0m\u001b[0;34m\u001b[0m\u001b[0;34m\u001b[0m\u001b[0m\n\u001b[0m\u001b[1;32m    356\u001b[0m             )\n\u001b[1;32m    357\u001b[0m             \u001b[0;31m# Replace the transformer of the step with the fitted\u001b[0m\u001b[0;34m\u001b[0m\u001b[0;34m\u001b[0m\u001b[0;34m\u001b[0m\u001b[0m\n",
      "\u001b[0;32m/Library/Frameworks/Python.framework/Versions/3.7/lib/python3.7/site-packages/joblib/memory.py\u001b[0m in \u001b[0;36m__call__\u001b[0;34m(self, *args, **kwargs)\u001b[0m\n\u001b[1;32m    351\u001b[0m \u001b[0;34m\u001b[0m\u001b[0m\n\u001b[1;32m    352\u001b[0m     \u001b[0;32mdef\u001b[0m \u001b[0m__call__\u001b[0m\u001b[0;34m(\u001b[0m\u001b[0mself\u001b[0m\u001b[0;34m,\u001b[0m \u001b[0;34m*\u001b[0m\u001b[0margs\u001b[0m\u001b[0;34m,\u001b[0m \u001b[0;34m**\u001b[0m\u001b[0mkwargs\u001b[0m\u001b[0;34m)\u001b[0m\u001b[0;34m:\u001b[0m\u001b[0;34m\u001b[0m\u001b[0;34m\u001b[0m\u001b[0m\n\u001b[0;32m--> 353\u001b[0;31m         \u001b[0;32mreturn\u001b[0m \u001b[0mself\u001b[0m\u001b[0;34m.\u001b[0m\u001b[0mfunc\u001b[0m\u001b[0;34m(\u001b[0m\u001b[0;34m*\u001b[0m\u001b[0margs\u001b[0m\u001b[0;34m,\u001b[0m \u001b[0;34m**\u001b[0m\u001b[0mkwargs\u001b[0m\u001b[0;34m)\u001b[0m\u001b[0;34m\u001b[0m\u001b[0;34m\u001b[0m\u001b[0m\n\u001b[0m\u001b[1;32m    354\u001b[0m \u001b[0;34m\u001b[0m\u001b[0m\n\u001b[1;32m    355\u001b[0m     \u001b[0;32mdef\u001b[0m \u001b[0mcall_and_shelve\u001b[0m\u001b[0;34m(\u001b[0m\u001b[0mself\u001b[0m\u001b[0;34m,\u001b[0m \u001b[0;34m*\u001b[0m\u001b[0margs\u001b[0m\u001b[0;34m,\u001b[0m \u001b[0;34m**\u001b[0m\u001b[0mkwargs\u001b[0m\u001b[0;34m)\u001b[0m\u001b[0;34m:\u001b[0m\u001b[0;34m\u001b[0m\u001b[0;34m\u001b[0m\u001b[0m\n",
      "\u001b[0;32m/Library/Frameworks/Python.framework/Versions/3.7/lib/python3.7/site-packages/sklearn/pipeline.py\u001b[0m in \u001b[0;36m_fit_transform_one\u001b[0;34m(transformer, X, y, weight, message_clsname, message, **fit_params)\u001b[0m\n\u001b[1;32m    891\u001b[0m     \u001b[0;32mwith\u001b[0m \u001b[0m_print_elapsed_time\u001b[0m\u001b[0;34m(\u001b[0m\u001b[0mmessage_clsname\u001b[0m\u001b[0;34m,\u001b[0m \u001b[0mmessage\u001b[0m\u001b[0;34m)\u001b[0m\u001b[0;34m:\u001b[0m\u001b[0;34m\u001b[0m\u001b[0;34m\u001b[0m\u001b[0m\n\u001b[1;32m    892\u001b[0m         \u001b[0;32mif\u001b[0m \u001b[0mhasattr\u001b[0m\u001b[0;34m(\u001b[0m\u001b[0mtransformer\u001b[0m\u001b[0;34m,\u001b[0m \u001b[0;34m\"fit_transform\"\u001b[0m\u001b[0;34m)\u001b[0m\u001b[0;34m:\u001b[0m\u001b[0;34m\u001b[0m\u001b[0;34m\u001b[0m\u001b[0m\n\u001b[0;32m--> 893\u001b[0;31m             \u001b[0mres\u001b[0m \u001b[0;34m=\u001b[0m \u001b[0mtransformer\u001b[0m\u001b[0;34m.\u001b[0m\u001b[0mfit_transform\u001b[0m\u001b[0;34m(\u001b[0m\u001b[0mX\u001b[0m\u001b[0;34m,\u001b[0m \u001b[0my\u001b[0m\u001b[0;34m,\u001b[0m \u001b[0;34m**\u001b[0m\u001b[0mfit_params\u001b[0m\u001b[0;34m)\u001b[0m\u001b[0;34m\u001b[0m\u001b[0;34m\u001b[0m\u001b[0m\n\u001b[0m\u001b[1;32m    894\u001b[0m         \u001b[0;32melse\u001b[0m\u001b[0;34m:\u001b[0m\u001b[0;34m\u001b[0m\u001b[0;34m\u001b[0m\u001b[0m\n\u001b[1;32m    895\u001b[0m             \u001b[0mres\u001b[0m \u001b[0;34m=\u001b[0m \u001b[0mtransformer\u001b[0m\u001b[0;34m.\u001b[0m\u001b[0mfit\u001b[0m\u001b[0;34m(\u001b[0m\u001b[0mX\u001b[0m\u001b[0;34m,\u001b[0m \u001b[0my\u001b[0m\u001b[0;34m,\u001b[0m \u001b[0;34m**\u001b[0m\u001b[0mfit_params\u001b[0m\u001b[0;34m)\u001b[0m\u001b[0;34m.\u001b[0m\u001b[0mtransform\u001b[0m\u001b[0;34m(\u001b[0m\u001b[0mX\u001b[0m\u001b[0;34m)\u001b[0m\u001b[0;34m\u001b[0m\u001b[0;34m\u001b[0m\u001b[0m\n",
      "\u001b[0;32m/Library/Frameworks/Python.framework/Versions/3.7/lib/python3.7/site-packages/sklearn/compose/_column_transformer.py\u001b[0m in \u001b[0;36mfit_transform\u001b[0;34m(self, X, y)\u001b[0m\n\u001b[1;32m    670\u001b[0m         \u001b[0mself\u001b[0m\u001b[0;34m.\u001b[0m\u001b[0m_check_n_features\u001b[0m\u001b[0;34m(\u001b[0m\u001b[0mX\u001b[0m\u001b[0;34m,\u001b[0m \u001b[0mreset\u001b[0m\u001b[0;34m=\u001b[0m\u001b[0;32mTrue\u001b[0m\u001b[0;34m)\u001b[0m\u001b[0;34m\u001b[0m\u001b[0;34m\u001b[0m\u001b[0m\n\u001b[1;32m    671\u001b[0m         \u001b[0mself\u001b[0m\u001b[0;34m.\u001b[0m\u001b[0m_validate_transformers\u001b[0m\u001b[0;34m(\u001b[0m\u001b[0;34m)\u001b[0m\u001b[0;34m\u001b[0m\u001b[0;34m\u001b[0m\u001b[0m\n\u001b[0;32m--> 672\u001b[0;31m         \u001b[0mself\u001b[0m\u001b[0;34m.\u001b[0m\u001b[0m_validate_column_callables\u001b[0m\u001b[0;34m(\u001b[0m\u001b[0mX\u001b[0m\u001b[0;34m)\u001b[0m\u001b[0;34m\u001b[0m\u001b[0;34m\u001b[0m\u001b[0m\n\u001b[0m\u001b[1;32m    673\u001b[0m         \u001b[0mself\u001b[0m\u001b[0;34m.\u001b[0m\u001b[0m_validate_remainder\u001b[0m\u001b[0;34m(\u001b[0m\u001b[0mX\u001b[0m\u001b[0;34m)\u001b[0m\u001b[0;34m\u001b[0m\u001b[0;34m\u001b[0m\u001b[0m\n\u001b[1;32m    674\u001b[0m \u001b[0;34m\u001b[0m\u001b[0m\n",
      "\u001b[0;32m/Library/Frameworks/Python.framework/Versions/3.7/lib/python3.7/site-packages/sklearn/compose/_column_transformer.py\u001b[0m in \u001b[0;36m_validate_column_callables\u001b[0;34m(self, X)\u001b[0m\n\u001b[1;32m    350\u001b[0m                 \u001b[0mcolumns\u001b[0m \u001b[0;34m=\u001b[0m \u001b[0mcolumns\u001b[0m\u001b[0;34m(\u001b[0m\u001b[0mX\u001b[0m\u001b[0;34m)\u001b[0m\u001b[0;34m\u001b[0m\u001b[0;34m\u001b[0m\u001b[0m\n\u001b[1;32m    351\u001b[0m             \u001b[0mall_columns\u001b[0m\u001b[0;34m.\u001b[0m\u001b[0mappend\u001b[0m\u001b[0;34m(\u001b[0m\u001b[0mcolumns\u001b[0m\u001b[0;34m)\u001b[0m\u001b[0;34m\u001b[0m\u001b[0;34m\u001b[0m\u001b[0m\n\u001b[0;32m--> 352\u001b[0;31m             \u001b[0mtransformer_to_input_indices\u001b[0m\u001b[0;34m[\u001b[0m\u001b[0mname\u001b[0m\u001b[0;34m]\u001b[0m \u001b[0;34m=\u001b[0m \u001b[0m_get_column_indices\u001b[0m\u001b[0;34m(\u001b[0m\u001b[0mX\u001b[0m\u001b[0;34m,\u001b[0m \u001b[0mcolumns\u001b[0m\u001b[0;34m)\u001b[0m\u001b[0;34m\u001b[0m\u001b[0;34m\u001b[0m\u001b[0m\n\u001b[0m\u001b[1;32m    353\u001b[0m \u001b[0;34m\u001b[0m\u001b[0m\n\u001b[1;32m    354\u001b[0m         \u001b[0mself\u001b[0m\u001b[0;34m.\u001b[0m\u001b[0m_columns\u001b[0m \u001b[0;34m=\u001b[0m \u001b[0mall_columns\u001b[0m\u001b[0;34m\u001b[0m\u001b[0;34m\u001b[0m\u001b[0m\n",
      "\u001b[0;32m/Library/Frameworks/Python.framework/Versions/3.7/lib/python3.7/site-packages/sklearn/utils/__init__.py\u001b[0m in \u001b[0;36m_get_column_indices\u001b[0;34m(X, key)\u001b[0m\n\u001b[1;32m    439\u001b[0m \u001b[0;34m\u001b[0m\u001b[0m\n\u001b[1;32m    440\u001b[0m         \u001b[0;32mexcept\u001b[0m \u001b[0mKeyError\u001b[0m \u001b[0;32mas\u001b[0m \u001b[0me\u001b[0m\u001b[0;34m:\u001b[0m\u001b[0;34m\u001b[0m\u001b[0;34m\u001b[0m\u001b[0m\n\u001b[0;32m--> 441\u001b[0;31m             \u001b[0;32mraise\u001b[0m \u001b[0mValueError\u001b[0m\u001b[0;34m(\u001b[0m\u001b[0;34m\"A given column is not a column of the dataframe\"\u001b[0m\u001b[0;34m)\u001b[0m \u001b[0;32mfrom\u001b[0m \u001b[0me\u001b[0m\u001b[0;34m\u001b[0m\u001b[0;34m\u001b[0m\u001b[0m\n\u001b[0m\u001b[1;32m    442\u001b[0m \u001b[0;34m\u001b[0m\u001b[0m\n\u001b[1;32m    443\u001b[0m         \u001b[0;32mreturn\u001b[0m \u001b[0mcolumn_indices\u001b[0m\u001b[0;34m\u001b[0m\u001b[0;34m\u001b[0m\u001b[0m\n",
      "\u001b[0;31mValueError\u001b[0m: A given column is not a column of the dataframe"
     ]
    }
   ],
   "source": [
    "random_forest.fit(X_train, y_train)"
   ]
  },
  {
   "cell_type": "code",
   "execution_count": 126,
   "metadata": {},
   "outputs": [],
   "source": [
    "# Predict the probabilities of crime occurrence for each day of the week in the test set\n",
    "day_probabilities = random_forest.predict_proba(X_test)"
   ]
  },
  {
   "cell_type": "code",
   "execution_count": 127,
   "metadata": {},
   "outputs": [
    {
     "name": "stdout",
     "output_type": "stream",
     "text": [
      "        Friday    Monday  Saturday    Sunday  Thursday  Tuesday  Wednesday\n",
      "0     0.050000  0.015000  0.100000  0.580000  0.140000    0.000   0.115000\n",
      "1     0.000000  0.030000  0.120000  0.080000  0.560000    0.190   0.020000\n",
      "2     0.459000  0.020000  0.010000  0.010000  0.050000    0.451   0.000000\n",
      "3     0.120000  0.370000  0.225000  0.200000  0.000000    0.075   0.010000\n",
      "4     0.107500  0.000000  0.092500  0.030000  0.020000    0.040   0.710000\n",
      "...        ...       ...       ...       ...       ...      ...        ...\n",
      "1708  0.040000  0.160167  0.000000  0.013667  0.772833    0.010   0.003333\n",
      "1709  0.350714  0.000000  0.333214  0.000000  0.276071    0.000   0.040000\n",
      "1710  0.055000  0.635000  0.000000  0.220000  0.010000    0.070   0.010000\n",
      "1711  0.603333  0.102667  0.224000  0.050000  0.020000    0.000   0.000000\n",
      "1712  0.000000  0.090000  0.165833  0.680000  0.000000    0.010   0.054167\n",
      "\n",
      "[1713 rows x 7 columns]\n"
     ]
    }
   ],
   "source": [
    "# Display the probabilities for each day of the week in the test set\n",
    "day_names = label_encoder_trans.inverse_transform(random_forest.classes_)\n",
    "probabilities_df = pd.DataFrame(day_probabilities, columns=day_names)\n",
    "print(probabilities_df)"
   ]
  },
  {
   "cell_type": "markdown",
   "metadata": {},
   "source": [
    "Further to the predictions, I want to evaluate the accuracy of my model "
   ]
  },
  {
   "cell_type": "code",
   "execution_count": 128,
   "metadata": {},
   "outputs": [],
   "source": [
    "#import evaluation metrics\n",
    "from sklearn.metrics import accuracy_score, confusion_matrix, classification_report, roc_auc_score\n"
   ]
  },
  {
   "cell_type": "code",
   "execution_count": 129,
   "metadata": {},
   "outputs": [
    {
     "name": "stdout",
     "output_type": "stream",
     "text": [
      "['Sunday' 'Thursday' 'Friday' ... 'Monday' 'Friday' 'Sunday']\n",
      "[3 4 0 ... 1 0 3]\n"
     ]
    }
   ],
   "source": [
    "predicted_classes = day_probabilities.argmax(axis=1)\n",
    "# Inverse transform the numerical class labels back to day names\n",
    "predicted_day_names = label_encoder_trans.inverse_transform(predicted_classes)\n",
    "print(predicted_day_names)\n",
    "print(predicted_classes)\n"
   ]
  },
  {
   "cell_type": "code",
   "execution_count": 130,
   "metadata": {},
   "outputs": [
    {
     "name": "stdout",
     "output_type": "stream",
     "text": [
      "Accuracy: 0.18914185639229422\n"
     ]
    }
   ],
   "source": [
    "# Calculate accuracy\n",
    "accuracy = accuracy_score(y_test, predicted_classes)\n",
    "print(\"Accuracy:\", accuracy)"
   ]
  },
  {
   "cell_type": "code",
   "execution_count": 131,
   "metadata": {},
   "outputs": [
    {
     "name": "stdout",
     "output_type": "stream",
     "text": [
      "Confusion Matrix:\n",
      "[[41 35 42 38 31 27 25]\n",
      " [32 37 32 35 26 28 40]\n",
      " [36 36 67 57 23 38 33]\n",
      " [35 53 61 74 31 28 35]\n",
      " [30 30 35 32 26 23 26]\n",
      " [28 23 28 38 28 42 37]\n",
      " [23 33 41 36 19 22 37]]\n"
     ]
    }
   ],
   "source": [
    "# Calculate confusion matrix\n",
    "conf_matrix = confusion_matrix(y_test, predicted_classes)\n",
    "print(\"Confusion Matrix:\")\n",
    "print(conf_matrix)"
   ]
  },
  {
   "cell_type": "code",
   "execution_count": 132,
   "metadata": {},
   "outputs": [
    {
     "name": "stdout",
     "output_type": "stream",
     "text": [
      "Classification Report:\n",
      "              precision    recall  f1-score   support\n",
      "\n",
      "      Friday       0.18      0.17      0.18       239\n",
      "      Monday       0.15      0.16      0.16       230\n",
      "    Saturday       0.22      0.23      0.22       290\n",
      "      Sunday       0.24      0.23      0.24       317\n",
      "    Thursday       0.14      0.13      0.13       202\n",
      "     Tuesday       0.20      0.19      0.19       224\n",
      "   Wednesday       0.16      0.18      0.17       211\n",
      "\n",
      "    accuracy                           0.19      1713\n",
      "   macro avg       0.18      0.18      0.18      1713\n",
      "weighted avg       0.19      0.19      0.19      1713\n",
      "\n"
     ]
    }
   ],
   "source": [
    "# Calculate classification report (includes precision, recall, and F1-score for each class)\n",
    "classification_rep = classification_report(y_test, predicted_classes, target_names=label_encoder_trans.classes_)\n",
    "print(\"Classification Report:\")\n",
    "print(classification_rep)"
   ]
  },
  {
   "cell_type": "code",
   "execution_count": 133,
   "metadata": {},
   "outputs": [
    {
     "name": "stdout",
     "output_type": "stream",
     "text": [
      "AUC-ROC: 0.5558068566867956\n"
     ]
    }
   ],
   "source": [
    "# Calculate AUC-ROC (requires one-hot encoded y_test and day_probabilities)\n",
    "y_test_one_hot = pd.get_dummies(y_test)\n",
    "auc_roc = roc_auc_score(y_test_one_hot, day_probabilities, multi_class='ovr')\n",
    "print(\"AUC-ROC:\", auc_roc)"
   ]
  },
  {
   "cell_type": "code",
   "execution_count": 134,
   "metadata": {},
   "outputs": [
    {
     "data": {
      "text/html": [
       "<div>\n",
       "<style scoped>\n",
       "    .dataframe tbody tr th:only-of-type {\n",
       "        vertical-align: middle;\n",
       "    }\n",
       "\n",
       "    .dataframe tbody tr th {\n",
       "        vertical-align: top;\n",
       "    }\n",
       "\n",
       "    .dataframe thead th {\n",
       "        text-align: right;\n",
       "    }\n",
       "</style>\n",
       "<table border=\"1\" class=\"dataframe\">\n",
       "  <thead>\n",
       "    <tr style=\"text-align: right;\">\n",
       "      <th></th>\n",
       "      <th>Friday</th>\n",
       "      <th>Monday</th>\n",
       "      <th>Saturday</th>\n",
       "      <th>Sunday</th>\n",
       "      <th>Thursday</th>\n",
       "      <th>Tuesday</th>\n",
       "      <th>Wednesday</th>\n",
       "    </tr>\n",
       "  </thead>\n",
       "  <tbody>\n",
       "    <tr>\n",
       "      <th>count</th>\n",
       "      <td>1713.000000</td>\n",
       "      <td>1713.000000</td>\n",
       "      <td>1713.000000</td>\n",
       "      <td>1713.000000</td>\n",
       "      <td>1713.000000</td>\n",
       "      <td>1713.000000</td>\n",
       "      <td>1713.000000</td>\n",
       "    </tr>\n",
       "    <tr>\n",
       "      <th>mean</th>\n",
       "      <td>0.138135</td>\n",
       "      <td>0.141227</td>\n",
       "      <td>0.171014</td>\n",
       "      <td>0.170812</td>\n",
       "      <td>0.120976</td>\n",
       "      <td>0.127126</td>\n",
       "      <td>0.130711</td>\n",
       "    </tr>\n",
       "    <tr>\n",
       "      <th>std</th>\n",
       "      <td>0.185236</td>\n",
       "      <td>0.193201</td>\n",
       "      <td>0.207591</td>\n",
       "      <td>0.215437</td>\n",
       "      <td>0.169832</td>\n",
       "      <td>0.181800</td>\n",
       "      <td>0.184511</td>\n",
       "    </tr>\n",
       "    <tr>\n",
       "      <th>min</th>\n",
       "      <td>0.000000</td>\n",
       "      <td>0.000000</td>\n",
       "      <td>0.000000</td>\n",
       "      <td>0.000000</td>\n",
       "      <td>0.000000</td>\n",
       "      <td>0.000000</td>\n",
       "      <td>0.000000</td>\n",
       "    </tr>\n",
       "    <tr>\n",
       "      <th>25%</th>\n",
       "      <td>0.010000</td>\n",
       "      <td>0.010000</td>\n",
       "      <td>0.020000</td>\n",
       "      <td>0.010000</td>\n",
       "      <td>0.010000</td>\n",
       "      <td>0.010000</td>\n",
       "      <td>0.010000</td>\n",
       "    </tr>\n",
       "    <tr>\n",
       "      <th>50%</th>\n",
       "      <td>0.050000</td>\n",
       "      <td>0.050000</td>\n",
       "      <td>0.080000</td>\n",
       "      <td>0.070000</td>\n",
       "      <td>0.042500</td>\n",
       "      <td>0.041667</td>\n",
       "      <td>0.045000</td>\n",
       "    </tr>\n",
       "    <tr>\n",
       "      <th>75%</th>\n",
       "      <td>0.200000</td>\n",
       "      <td>0.193345</td>\n",
       "      <td>0.252333</td>\n",
       "      <td>0.260000</td>\n",
       "      <td>0.166000</td>\n",
       "      <td>0.160000</td>\n",
       "      <td>0.171000</td>\n",
       "    </tr>\n",
       "    <tr>\n",
       "      <th>max</th>\n",
       "      <td>0.940000</td>\n",
       "      <td>0.904333</td>\n",
       "      <td>0.990000</td>\n",
       "      <td>0.973333</td>\n",
       "      <td>0.890000</td>\n",
       "      <td>0.948333</td>\n",
       "      <td>0.950214</td>\n",
       "    </tr>\n",
       "  </tbody>\n",
       "</table>\n",
       "</div>"
      ],
      "text/plain": [
       "            Friday       Monday     Saturday       Sunday     Thursday  \\\n",
       "count  1713.000000  1713.000000  1713.000000  1713.000000  1713.000000   \n",
       "mean      0.138135     0.141227     0.171014     0.170812     0.120976   \n",
       "std       0.185236     0.193201     0.207591     0.215437     0.169832   \n",
       "min       0.000000     0.000000     0.000000     0.000000     0.000000   \n",
       "25%       0.010000     0.010000     0.020000     0.010000     0.010000   \n",
       "50%       0.050000     0.050000     0.080000     0.070000     0.042500   \n",
       "75%       0.200000     0.193345     0.252333     0.260000     0.166000   \n",
       "max       0.940000     0.904333     0.990000     0.973333     0.890000   \n",
       "\n",
       "           Tuesday    Wednesday  \n",
       "count  1713.000000  1713.000000  \n",
       "mean      0.127126     0.130711  \n",
       "std       0.181800     0.184511  \n",
       "min       0.000000     0.000000  \n",
       "25%       0.010000     0.010000  \n",
       "50%       0.041667     0.045000  \n",
       "75%       0.160000     0.171000  \n",
       "max       0.948333     0.950214  "
      ]
     },
     "execution_count": 134,
     "metadata": {},
     "output_type": "execute_result"
    }
   ],
   "source": [
    "#get the day with the high mean of probability \n",
    "probabilities_df.describe(include='all')"
   ]
  },
  {
   "cell_type": "code",
   "execution_count": 135,
   "metadata": {},
   "outputs": [
    {
     "name": "stdout",
     "output_type": "stream",
     "text": [
      "Friday       236.625262\n",
      "Monday       241.921313\n",
      "Saturday     292.946693\n",
      "Sunday       292.600743\n",
      "Thursday     207.232278\n",
      "Tuesday      217.766508\n",
      "Wednesday    223.907202\n",
      "dtype: float64\n"
     ]
    }
   ],
   "source": [
    "#get the day with the highest sum of probability \n",
    "day_sum_prob = probabilities_df.sum()\n",
    "print(day_sum_prob)\n",
    "df_day_sum_prob = pd.DataFrame(day_sum_prob)\n"
   ]
  },
  {
   "cell_type": "code",
   "execution_count": 136,
   "metadata": {},
   "outputs": [
    {
     "data": {
      "text/html": [
       "<div>\n",
       "<style scoped>\n",
       "    .dataframe tbody tr th:only-of-type {\n",
       "        vertical-align: middle;\n",
       "    }\n",
       "\n",
       "    .dataframe tbody tr th {\n",
       "        vertical-align: top;\n",
       "    }\n",
       "\n",
       "    .dataframe thead th {\n",
       "        text-align: right;\n",
       "    }\n",
       "</style>\n",
       "<table border=\"1\" class=\"dataframe\">\n",
       "  <thead>\n",
       "    <tr style=\"text-align: right;\">\n",
       "      <th></th>\n",
       "      <th>index</th>\n",
       "      <th>0</th>\n",
       "    </tr>\n",
       "  </thead>\n",
       "  <tbody>\n",
       "    <tr>\n",
       "      <th>0</th>\n",
       "      <td>Friday</td>\n",
       "      <td>236.625262</td>\n",
       "    </tr>\n",
       "    <tr>\n",
       "      <th>1</th>\n",
       "      <td>Monday</td>\n",
       "      <td>241.921313</td>\n",
       "    </tr>\n",
       "    <tr>\n",
       "      <th>2</th>\n",
       "      <td>Saturday</td>\n",
       "      <td>292.946693</td>\n",
       "    </tr>\n",
       "    <tr>\n",
       "      <th>3</th>\n",
       "      <td>Sunday</td>\n",
       "      <td>292.600743</td>\n",
       "    </tr>\n",
       "    <tr>\n",
       "      <th>4</th>\n",
       "      <td>Thursday</td>\n",
       "      <td>207.232278</td>\n",
       "    </tr>\n",
       "    <tr>\n",
       "      <th>5</th>\n",
       "      <td>Tuesday</td>\n",
       "      <td>217.766508</td>\n",
       "    </tr>\n",
       "    <tr>\n",
       "      <th>6</th>\n",
       "      <td>Wednesday</td>\n",
       "      <td>223.907202</td>\n",
       "    </tr>\n",
       "  </tbody>\n",
       "</table>\n",
       "</div>"
      ],
      "text/plain": [
       "       index           0\n",
       "0     Friday  236.625262\n",
       "1     Monday  241.921313\n",
       "2   Saturday  292.946693\n",
       "3     Sunday  292.600743\n",
       "4   Thursday  207.232278\n",
       "5    Tuesday  217.766508\n",
       "6  Wednesday  223.907202"
      ]
     },
     "execution_count": 136,
     "metadata": {},
     "output_type": "execute_result"
    }
   ],
   "source": [
    "df_day_sum_prob.reset_index()"
   ]
  },
  {
   "cell_type": "code",
   "execution_count": 170,
   "metadata": {},
   "outputs": [],
   "source": [
    "#renaming the column probabilities \n",
    "df_day_sum_prob = df_day_sum_prob.rename(columns={0: 'Cum_prob'})\n"
   ]
  },
  {
   "cell_type": "code",
   "execution_count": 171,
   "metadata": {},
   "outputs": [
    {
     "data": {
      "text/html": [
       "<div>\n",
       "<style scoped>\n",
       "    .dataframe tbody tr th:only-of-type {\n",
       "        vertical-align: middle;\n",
       "    }\n",
       "\n",
       "    .dataframe tbody tr th {\n",
       "        vertical-align: top;\n",
       "    }\n",
       "\n",
       "    .dataframe thead th {\n",
       "        text-align: right;\n",
       "    }\n",
       "</style>\n",
       "<table border=\"1\" class=\"dataframe\">\n",
       "  <thead>\n",
       "    <tr style=\"text-align: right;\">\n",
       "      <th></th>\n",
       "      <th>Cum_prob</th>\n",
       "    </tr>\n",
       "  </thead>\n",
       "  <tbody>\n",
       "    <tr>\n",
       "      <th>Friday</th>\n",
       "      <td>236.625262</td>\n",
       "    </tr>\n",
       "    <tr>\n",
       "      <th>Monday</th>\n",
       "      <td>241.921313</td>\n",
       "    </tr>\n",
       "    <tr>\n",
       "      <th>Saturday</th>\n",
       "      <td>292.946693</td>\n",
       "    </tr>\n",
       "    <tr>\n",
       "      <th>Sunday</th>\n",
       "      <td>292.600743</td>\n",
       "    </tr>\n",
       "    <tr>\n",
       "      <th>Thursday</th>\n",
       "      <td>207.232278</td>\n",
       "    </tr>\n",
       "    <tr>\n",
       "      <th>Tuesday</th>\n",
       "      <td>217.766508</td>\n",
       "    </tr>\n",
       "    <tr>\n",
       "      <th>Wednesday</th>\n",
       "      <td>223.907202</td>\n",
       "    </tr>\n",
       "  </tbody>\n",
       "</table>\n",
       "</div>"
      ],
      "text/plain": [
       "             Cum_prob\n",
       "Friday     236.625262\n",
       "Monday     241.921313\n",
       "Saturday   292.946693\n",
       "Sunday     292.600743\n",
       "Thursday   207.232278\n",
       "Tuesday    217.766508\n",
       "Wednesday  223.907202"
      ]
     },
     "execution_count": 171,
     "metadata": {},
     "output_type": "execute_result"
    }
   ],
   "source": [
    "df_day_sum_prob"
   ]
  },
  {
   "cell_type": "code",
   "execution_count": 137,
   "metadata": {},
   "outputs": [
    {
     "data": {
      "text/html": [
       "<div>\n",
       "<style scoped>\n",
       "    .dataframe tbody tr th:only-of-type {\n",
       "        vertical-align: middle;\n",
       "    }\n",
       "\n",
       "    .dataframe tbody tr th {\n",
       "        vertical-align: top;\n",
       "    }\n",
       "\n",
       "    .dataframe thead th {\n",
       "        text-align: right;\n",
       "    }\n",
       "</style>\n",
       "<table border=\"1\" class=\"dataframe\">\n",
       "  <thead>\n",
       "    <tr style=\"text-align: right;\">\n",
       "      <th></th>\n",
       "      <th>0</th>\n",
       "    </tr>\n",
       "  </thead>\n",
       "  <tbody>\n",
       "    <tr>\n",
       "      <th>0</th>\n",
       "      <td>0.342918</td>\n",
       "    </tr>\n",
       "    <tr>\n",
       "      <th>1</th>\n",
       "      <td>0.404705</td>\n",
       "    </tr>\n",
       "    <tr>\n",
       "      <th>2</th>\n",
       "      <td>1.000000</td>\n",
       "    </tr>\n",
       "    <tr>\n",
       "      <th>3</th>\n",
       "      <td>0.995964</td>\n",
       "    </tr>\n",
       "    <tr>\n",
       "      <th>4</th>\n",
       "      <td>0.000000</td>\n",
       "    </tr>\n",
       "    <tr>\n",
       "      <th>5</th>\n",
       "      <td>0.122899</td>\n",
       "    </tr>\n",
       "    <tr>\n",
       "      <th>6</th>\n",
       "      <td>0.194540</td>\n",
       "    </tr>\n",
       "  </tbody>\n",
       "</table>\n",
       "</div>"
      ],
      "text/plain": [
       "          0\n",
       "0  0.342918\n",
       "1  0.404705\n",
       "2  1.000000\n",
       "3  0.995964\n",
       "4  0.000000\n",
       "5  0.122899\n",
       "6  0.194540"
      ]
     },
     "execution_count": 137,
     "metadata": {},
     "output_type": "execute_result"
    }
   ],
   "source": [
    "#scale it down with min_max\n",
    "min_max_scaler = MinMaxScaler()\n",
    "scaled_prob = min_max_scaler.fit_transform(df_day_sum_prob)\n",
    "scaled_df = pd.DataFrame(scaled_prob,columns=df_day_sum_prob.columns)\n",
    "scaled_df\n"
   ]
  },
  {
   "cell_type": "markdown",
   "metadata": {},
   "source": [
    "From the above, I can deduce that crime would most likely happen on a saturday and then a sunday. Therefore the weekends are the most vunerable days . "
   ]
  },
  {
   "cell_type": "code",
   "execution_count": 138,
   "metadata": {},
   "outputs": [],
   "source": [
    "#label the month \n",
    "crime_data['OCC_MONTH'] = label_encoder_trans.fit_transform(crime_data['OCC_MONTH'])\n",
    "target = crime_data['OCC_MONTH']"
   ]
  },
  {
   "cell_type": "code",
   "execution_count": 139,
   "metadata": {},
   "outputs": [
    {
     "data": {
      "text/plain": [
       "0        8\n",
       "1        5\n",
       "2        8\n",
       "3        2\n",
       "4        0\n",
       "        ..\n",
       "5702     6\n",
       "5703     5\n",
       "5704     3\n",
       "5705    11\n",
       "5706     0\n",
       "Name: OCC_MONTH, Length: 5707, dtype: int64"
      ]
     },
     "execution_count": 139,
     "metadata": {},
     "output_type": "execute_result"
    }
   ],
   "source": [
    "crime_data['OCC_MONTH']"
   ]
  },
  {
   "cell_type": "code",
   "execution_count": 140,
   "metadata": {},
   "outputs": [],
   "source": [
    "#Separate the different numerical,categorica features, target  \n",
    "categorical_features = ['OCC_DOW','OCC_TIME_RANGE']\n",
    "numerical_features = ['OCC_DOY','OCC_DAY','OCC_HOUR']\n",
    "label = ['OCC_MONTH']\n",
    "target = ['OCC_MONTH']"
   ]
  },
  {
   "cell_type": "code",
   "execution_count": 141,
   "metadata": {},
   "outputs": [],
   "source": [
    "#Start with day of the week\n",
    "# split data in train / test\n",
    "X_train, X_test, y_train, y_test = train_test_split(crime_data[categorical_features + numerical_features]\n",
    "                                                    ,crime_data[target],\n",
    "                                                    test_size = 0.25, random_state=42)"
   ]
  },
  {
   "cell_type": "code",
   "execution_count": 142,
   "metadata": {},
   "outputs": [],
   "source": [
    "#define transformers and encoder\n",
    "categorical_transformer = Pipeline(steps=[('onehot',OneHotEncoder(handle_unknown='ignore'))])\n",
    "numerical_transformer = Pipeline(steps=[('scaler',StandardScaler())])"
   ]
  },
  {
   "cell_type": "code",
   "execution_count": 143,
   "metadata": {},
   "outputs": [],
   "source": [
    "preprocessor = ColumnTransformer(transformers=[('categorical',categorical_transformer, categorical_features),('numerical',numerical_transformer,numerical_features) ])"
   ]
  },
  {
   "cell_type": "code",
   "execution_count": 144,
   "metadata": {},
   "outputs": [],
   "source": [
    "#define model\n",
    "random_forest = Pipeline(steps=[('preprocessor', preprocessor),\n",
    "                                      ('regressor', RandomForestClassifier())])"
   ]
  },
  {
   "cell_type": "code",
   "execution_count": 145,
   "metadata": {},
   "outputs": [
    {
     "name": "stderr",
     "output_type": "stream",
     "text": [
      "/Library/Frameworks/Python.framework/Versions/3.7/lib/python3.7/site-packages/sklearn/pipeline.py:394: DataConversionWarning: A column-vector y was passed when a 1d array was expected. Please change the shape of y to (n_samples,), for example using ravel().\n",
      "  self._final_estimator.fit(Xt, y, **fit_params_last_step)\n"
     ]
    },
    {
     "data": {
      "text/plain": [
       "Pipeline(steps=[('preprocessor',\n",
       "                 ColumnTransformer(transformers=[('categorical',\n",
       "                                                  Pipeline(steps=[('onehot',\n",
       "                                                                   OneHotEncoder(handle_unknown='ignore'))]),\n",
       "                                                  ['OCC_DOW',\n",
       "                                                   'OCC_TIME_RANGE']),\n",
       "                                                 ('numerical',\n",
       "                                                  Pipeline(steps=[('scaler',\n",
       "                                                                   StandardScaler())]),\n",
       "                                                  ['OCC_DOY', 'OCC_DAY',\n",
       "                                                   'OCC_HOUR'])])),\n",
       "                ('regressor', RandomForestClassifier())])"
      ]
     },
     "execution_count": 145,
     "metadata": {},
     "output_type": "execute_result"
    }
   ],
   "source": [
    "random_forest.fit(X_train, y_train)"
   ]
  },
  {
   "cell_type": "code",
   "execution_count": 146,
   "metadata": {},
   "outputs": [],
   "source": [
    "# Predict the probabilities of crime occurrence for each day of the week in the test set\n",
    "day_probabilities = random_forest.predict_proba(X_test)"
   ]
  },
  {
   "cell_type": "code",
   "execution_count": 147,
   "metadata": {},
   "outputs": [
    {
     "name": "stdout",
     "output_type": "stream",
     "text": [
      "      April  August  December  February  January  July  June  March   May  \\\n",
      "0      0.00    0.29      0.06      0.00     0.00  0.02  0.01   0.02  0.01   \n",
      "1      0.01    0.03      0.14      0.01     0.00  0.11  0.00   0.00  0.01   \n",
      "2      0.08    0.00      0.00      0.02     0.68  0.06  0.01   0.15  0.00   \n",
      "3      0.28    0.01      0.00      0.01     0.02  0.02  0.20   0.02  0.41   \n",
      "4      0.00    0.65      0.00      0.02     0.00  0.17  0.03   0.00  0.01   \n",
      "...     ...     ...       ...       ...      ...   ...   ...    ...   ...   \n",
      "1422   0.02    0.00      0.01      0.18     0.78  0.00  0.01   0.00  0.00   \n",
      "1423   0.00    0.02      0.47      0.00     0.00  0.00  0.00   0.01  0.00   \n",
      "1424   0.00    0.02      0.67      0.01     0.00  0.01  0.01   0.00  0.01   \n",
      "1425   0.00    0.01      0.00      0.17     0.00  0.00  0.06   0.08  0.68   \n",
      "1426   0.00    0.00      0.00      0.00     0.00  0.02  0.03   0.00  0.00   \n",
      "\n",
      "      November  October  September  \n",
      "0         0.00     0.19       0.40  \n",
      "1         0.21     0.37       0.11  \n",
      "2         0.00     0.00       0.00  \n",
      "3         0.00     0.00       0.03  \n",
      "4         0.04     0.01       0.07  \n",
      "...        ...      ...        ...  \n",
      "1422      0.00     0.00       0.00  \n",
      "1423      0.24     0.24       0.02  \n",
      "1424      0.12     0.07       0.08  \n",
      "1425      0.00     0.00       0.00  \n",
      "1426      0.05     0.81       0.09  \n",
      "\n",
      "[1427 rows x 12 columns]\n"
     ]
    }
   ],
   "source": [
    "# Display the probabilities for each day of the week in the test set\n",
    "day_names = label_encoder_trans.inverse_transform(random_forest.classes_)\n",
    "probabilities_df = pd.DataFrame(day_probabilities, columns=day_names)\n",
    "print(probabilities_df)"
   ]
  },
  {
   "cell_type": "code",
   "execution_count": 148,
   "metadata": {},
   "outputs": [
    {
     "name": "stdout",
     "output_type": "stream",
     "text": [
      "['September' 'October' 'January' ... 'December' 'May' 'October']\n",
      "[11 10  4 ...  2  8 10]\n"
     ]
    }
   ],
   "source": [
    "predicted_classes = day_probabilities.argmax(axis=1)\n",
    "# Inverse transform the numerical class labels back to day names\n",
    "predicted_day_names = label_encoder_trans.inverse_transform(predicted_classes)\n",
    "print(predicted_day_names)\n",
    "print(predicted_classes)"
   ]
  },
  {
   "cell_type": "code",
   "execution_count": 149,
   "metadata": {},
   "outputs": [
    {
     "name": "stdout",
     "output_type": "stream",
     "text": [
      "Accuracy: 0.9446391030133147\n"
     ]
    }
   ],
   "source": [
    "# Calculate accuracy\n",
    "accuracy = accuracy_score(y_test, predicted_classes)\n",
    "print(\"Accuracy:\", accuracy)"
   ]
  },
  {
   "cell_type": "code",
   "execution_count": 150,
   "metadata": {},
   "outputs": [
    {
     "name": "stdout",
     "output_type": "stream",
     "text": [
      "Confusion Matrix:\n",
      "[[110   0   0   4   0   1   0   9   8   0   0   0]\n",
      " [  0 136   0   0   0   0   0   0   0   0   0   0]\n",
      " [  0   0  90   0   0   0   0   0   0   4   0   0]\n",
      " [  1   0   0  64   2   0   0   8   0   0   0   0]\n",
      " [  0   0   0   1 101   0   0   0   0   0   0   0]\n",
      " [  0   1   0   0   0 146   1   0   0   0   0   0]\n",
      " [  0   0   0   0   0   2 127   0   2   0   0   0]\n",
      " [  9   0   0   6   0   0   0  84   2   0   0   0]\n",
      " [  6   0   0   0   0   0   3   0 125   0   0   0]\n",
      " [  0   0   6   0   0   0   0   0   0 106   1   0]\n",
      " [  0   0   0   0   0   0   0   0   0   0 108   1]\n",
      " [  0   0   0   0   0   0   0   0   0   0   1 151]]\n"
     ]
    }
   ],
   "source": [
    "# Calculate confusion matrix\n",
    "conf_matrix = confusion_matrix(y_test, predicted_classes)\n",
    "print(\"Confusion Matrix:\")\n",
    "print(conf_matrix)"
   ]
  },
  {
   "cell_type": "code",
   "execution_count": 151,
   "metadata": {},
   "outputs": [
    {
     "name": "stdout",
     "output_type": "stream",
     "text": [
      "Classification Report:\n",
      "              precision    recall  f1-score   support\n",
      "\n",
      "       April       0.87      0.83      0.85       132\n",
      "      August       0.99      1.00      1.00       136\n",
      "    December       0.94      0.96      0.95        94\n",
      "    February       0.85      0.85      0.85        75\n",
      "     January       0.98      0.99      0.99       102\n",
      "        July       0.98      0.99      0.98       148\n",
      "        June       0.97      0.97      0.97       131\n",
      "       March       0.83      0.83      0.83       101\n",
      "         May       0.91      0.93      0.92       134\n",
      "    November       0.96      0.94      0.95       113\n",
      "     October       0.98      0.99      0.99       109\n",
      "   September       0.99      0.99      0.99       152\n",
      "\n",
      "    accuracy                           0.94      1427\n",
      "   macro avg       0.94      0.94      0.94      1427\n",
      "weighted avg       0.94      0.94      0.94      1427\n",
      "\n"
     ]
    }
   ],
   "source": [
    "# Calculate classification report (includes precision, recall, and F1-score for each class)\n",
    "classification_rep = classification_report(y_test, predicted_classes, target_names=label_encoder_trans.classes_)\n",
    "print(\"Classification Report:\")\n",
    "print(classification_rep)"
   ]
  },
  {
   "cell_type": "code",
   "execution_count": 152,
   "metadata": {},
   "outputs": [
    {
     "name": "stdout",
     "output_type": "stream",
     "text": [
      "AUC-ROC: 0.9976577156196996\n"
     ]
    }
   ],
   "source": [
    "# Calculate AUC-ROC (requires one-hot encoded y_test and day_probabilities)\n",
    "y_test_one_hot = pd.get_dummies(y_test)\n",
    "auc_roc = roc_auc_score(y_test_one_hot, day_probabilities, multi_class='ovr')\n",
    "print(\"AUC-ROC:\", auc_roc)"
   ]
  },
  {
   "cell_type": "code",
   "execution_count": 153,
   "metadata": {},
   "outputs": [
    {
     "data": {
      "text/html": [
       "<div>\n",
       "<style scoped>\n",
       "    .dataframe tbody tr th:only-of-type {\n",
       "        vertical-align: middle;\n",
       "    }\n",
       "\n",
       "    .dataframe tbody tr th {\n",
       "        vertical-align: top;\n",
       "    }\n",
       "\n",
       "    .dataframe thead th {\n",
       "        text-align: right;\n",
       "    }\n",
       "</style>\n",
       "<table border=\"1\" class=\"dataframe\">\n",
       "  <thead>\n",
       "    <tr style=\"text-align: right;\">\n",
       "      <th></th>\n",
       "      <th>April</th>\n",
       "      <th>August</th>\n",
       "      <th>December</th>\n",
       "      <th>February</th>\n",
       "      <th>January</th>\n",
       "      <th>July</th>\n",
       "      <th>June</th>\n",
       "      <th>March</th>\n",
       "      <th>May</th>\n",
       "      <th>November</th>\n",
       "      <th>October</th>\n",
       "      <th>September</th>\n",
       "    </tr>\n",
       "  </thead>\n",
       "  <tbody>\n",
       "    <tr>\n",
       "      <th>count</th>\n",
       "      <td>1427.000000</td>\n",
       "      <td>1427.000000</td>\n",
       "      <td>1427.000000</td>\n",
       "      <td>1427.000000</td>\n",
       "      <td>1427.000000</td>\n",
       "      <td>1427.000000</td>\n",
       "      <td>1427.000000</td>\n",
       "      <td>1427.000000</td>\n",
       "      <td>1427.000000</td>\n",
       "      <td>1427.000000</td>\n",
       "      <td>1427.000000</td>\n",
       "      <td>1427.000000</td>\n",
       "    </tr>\n",
       "    <tr>\n",
       "      <th>mean</th>\n",
       "      <td>0.083518</td>\n",
       "      <td>0.097898</td>\n",
       "      <td>0.063560</td>\n",
       "      <td>0.061044</td>\n",
       "      <td>0.063973</td>\n",
       "      <td>0.105971</td>\n",
       "      <td>0.091114</td>\n",
       "      <td>0.075137</td>\n",
       "      <td>0.097239</td>\n",
       "      <td>0.075739</td>\n",
       "      <td>0.081955</td>\n",
       "      <td>0.102852</td>\n",
       "    </tr>\n",
       "    <tr>\n",
       "      <th>std</th>\n",
       "      <td>0.170086</td>\n",
       "      <td>0.221697</td>\n",
       "      <td>0.183289</td>\n",
       "      <td>0.138313</td>\n",
       "      <td>0.179225</td>\n",
       "      <td>0.230194</td>\n",
       "      <td>0.191536</td>\n",
       "      <td>0.156382</td>\n",
       "      <td>0.195490</td>\n",
       "      <td>0.185127</td>\n",
       "      <td>0.183380</td>\n",
       "      <td>0.219954</td>\n",
       "    </tr>\n",
       "    <tr>\n",
       "      <th>min</th>\n",
       "      <td>0.000000</td>\n",
       "      <td>0.000000</td>\n",
       "      <td>0.000000</td>\n",
       "      <td>0.000000</td>\n",
       "      <td>0.000000</td>\n",
       "      <td>0.000000</td>\n",
       "      <td>0.000000</td>\n",
       "      <td>0.000000</td>\n",
       "      <td>0.000000</td>\n",
       "      <td>0.000000</td>\n",
       "      <td>0.000000</td>\n",
       "      <td>0.000000</td>\n",
       "    </tr>\n",
       "    <tr>\n",
       "      <th>25%</th>\n",
       "      <td>0.000000</td>\n",
       "      <td>0.000000</td>\n",
       "      <td>0.000000</td>\n",
       "      <td>0.000000</td>\n",
       "      <td>0.000000</td>\n",
       "      <td>0.000000</td>\n",
       "      <td>0.000000</td>\n",
       "      <td>0.000000</td>\n",
       "      <td>0.000000</td>\n",
       "      <td>0.000000</td>\n",
       "      <td>0.000000</td>\n",
       "      <td>0.000000</td>\n",
       "    </tr>\n",
       "    <tr>\n",
       "      <th>50%</th>\n",
       "      <td>0.010000</td>\n",
       "      <td>0.020000</td>\n",
       "      <td>0.000000</td>\n",
       "      <td>0.000000</td>\n",
       "      <td>0.000000</td>\n",
       "      <td>0.020000</td>\n",
       "      <td>0.020000</td>\n",
       "      <td>0.010000</td>\n",
       "      <td>0.010000</td>\n",
       "      <td>0.000000</td>\n",
       "      <td>0.010000</td>\n",
       "      <td>0.010000</td>\n",
       "    </tr>\n",
       "    <tr>\n",
       "      <th>75%</th>\n",
       "      <td>0.070000</td>\n",
       "      <td>0.050000</td>\n",
       "      <td>0.020000</td>\n",
       "      <td>0.040000</td>\n",
       "      <td>0.020000</td>\n",
       "      <td>0.060000</td>\n",
       "      <td>0.065000</td>\n",
       "      <td>0.060000</td>\n",
       "      <td>0.080000</td>\n",
       "      <td>0.030000</td>\n",
       "      <td>0.060000</td>\n",
       "      <td>0.070000</td>\n",
       "    </tr>\n",
       "    <tr>\n",
       "      <th>max</th>\n",
       "      <td>0.930000</td>\n",
       "      <td>0.990000</td>\n",
       "      <td>0.980000</td>\n",
       "      <td>0.960000</td>\n",
       "      <td>0.950000</td>\n",
       "      <td>1.000000</td>\n",
       "      <td>0.990000</td>\n",
       "      <td>0.920000</td>\n",
       "      <td>0.990000</td>\n",
       "      <td>0.980000</td>\n",
       "      <td>0.970000</td>\n",
       "      <td>0.970000</td>\n",
       "    </tr>\n",
       "  </tbody>\n",
       "</table>\n",
       "</div>"
      ],
      "text/plain": [
       "             April       August     December     February      January  \\\n",
       "count  1427.000000  1427.000000  1427.000000  1427.000000  1427.000000   \n",
       "mean      0.083518     0.097898     0.063560     0.061044     0.063973   \n",
       "std       0.170086     0.221697     0.183289     0.138313     0.179225   \n",
       "min       0.000000     0.000000     0.000000     0.000000     0.000000   \n",
       "25%       0.000000     0.000000     0.000000     0.000000     0.000000   \n",
       "50%       0.010000     0.020000     0.000000     0.000000     0.000000   \n",
       "75%       0.070000     0.050000     0.020000     0.040000     0.020000   \n",
       "max       0.930000     0.990000     0.980000     0.960000     0.950000   \n",
       "\n",
       "              July         June        March          May     November  \\\n",
       "count  1427.000000  1427.000000  1427.000000  1427.000000  1427.000000   \n",
       "mean      0.105971     0.091114     0.075137     0.097239     0.075739   \n",
       "std       0.230194     0.191536     0.156382     0.195490     0.185127   \n",
       "min       0.000000     0.000000     0.000000     0.000000     0.000000   \n",
       "25%       0.000000     0.000000     0.000000     0.000000     0.000000   \n",
       "50%       0.020000     0.020000     0.010000     0.010000     0.000000   \n",
       "75%       0.060000     0.065000     0.060000     0.080000     0.030000   \n",
       "max       1.000000     0.990000     0.920000     0.990000     0.980000   \n",
       "\n",
       "           October    September  \n",
       "count  1427.000000  1427.000000  \n",
       "mean      0.081955     0.102852  \n",
       "std       0.183380     0.219954  \n",
       "min       0.000000     0.000000  \n",
       "25%       0.000000     0.000000  \n",
       "50%       0.010000     0.010000  \n",
       "75%       0.060000     0.070000  \n",
       "max       0.970000     0.970000  "
      ]
     },
     "execution_count": 153,
     "metadata": {},
     "output_type": "execute_result"
    }
   ],
   "source": [
    "#get the day with the high mean of probability \n",
    "probabilities_df.describe(include='all')"
   ]
  },
  {
   "cell_type": "markdown",
   "metadata": {},
   "source": [
    "vunerable month: July ,sept "
   ]
  },
  {
   "cell_type": "code",
   "execution_count": 154,
   "metadata": {},
   "outputs": [],
   "source": [
    "#hour of the day  \n",
    "crime_data['OCC_HOUR'] = label_encoder_trans.fit_transform(crime_data['OCC_HOUR'])\n",
    "target = crime_data['OCC_HOUR']"
   ]
  },
  {
   "cell_type": "code",
   "execution_count": 155,
   "metadata": {},
   "outputs": [],
   "source": [
    "#Separate the different numerical,categorica features, target  \n",
    "categorical_features = ['OCC_DOW','OCC_TIME_RANGE','OCC_MONTH']\n",
    "numerical_features = ['OCC_DOY','OCC_DAY']\n",
    "label = ['OCC_HOUR']\n",
    "target = ['OCC_HOUR']"
   ]
  },
  {
   "cell_type": "code",
   "execution_count": 156,
   "metadata": {},
   "outputs": [],
   "source": [
    "#Start with day of the week\n",
    "# split data in train / test\n",
    "X_train, X_test, y_train, y_test = train_test_split(crime_data[categorical_features + numerical_features]\n",
    "                                                    ,crime_data[target],\n",
    "                                                    test_size = 0.25, random_state=4567)"
   ]
  },
  {
   "cell_type": "code",
   "execution_count": 157,
   "metadata": {},
   "outputs": [],
   "source": [
    "#define transformers and encoder\n",
    "categorical_transformer = Pipeline(steps=[('onehot',OneHotEncoder(handle_unknown='ignore'))])\n",
    "numerical_transformer = Pipeline(steps=[('scaler',StandardScaler())])"
   ]
  },
  {
   "cell_type": "code",
   "execution_count": 158,
   "metadata": {},
   "outputs": [],
   "source": [
    "preprocessor = ColumnTransformer(transformers=[('categorical',categorical_transformer, categorical_features),('numerical',numerical_transformer,numerical_features) ])"
   ]
  },
  {
   "cell_type": "code",
   "execution_count": 159,
   "metadata": {},
   "outputs": [],
   "source": [
    "#define model\n",
    "random_forest = Pipeline(steps=[('preprocessor', preprocessor),\n",
    "                                      ('regressor', RandomForestClassifier())])"
   ]
  },
  {
   "cell_type": "code",
   "execution_count": 160,
   "metadata": {},
   "outputs": [
    {
     "name": "stderr",
     "output_type": "stream",
     "text": [
      "/Library/Frameworks/Python.framework/Versions/3.7/lib/python3.7/site-packages/sklearn/pipeline.py:394: DataConversionWarning: A column-vector y was passed when a 1d array was expected. Please change the shape of y to (n_samples,), for example using ravel().\n",
      "  self._final_estimator.fit(Xt, y, **fit_params_last_step)\n"
     ]
    },
    {
     "data": {
      "text/plain": [
       "Pipeline(steps=[('preprocessor',\n",
       "                 ColumnTransformer(transformers=[('categorical',\n",
       "                                                  Pipeline(steps=[('onehot',\n",
       "                                                                   OneHotEncoder(handle_unknown='ignore'))]),\n",
       "                                                  ['OCC_DOW', 'OCC_TIME_RANGE',\n",
       "                                                   'OCC_MONTH']),\n",
       "                                                 ('numerical',\n",
       "                                                  Pipeline(steps=[('scaler',\n",
       "                                                                   StandardScaler())]),\n",
       "                                                  ['OCC_DOY', 'OCC_DAY'])])),\n",
       "                ('regressor', RandomForestClassifier())])"
      ]
     },
     "execution_count": 160,
     "metadata": {},
     "output_type": "execute_result"
    }
   ],
   "source": [
    "random_forest.fit(X_train, y_train)"
   ]
  },
  {
   "cell_type": "code",
   "execution_count": 161,
   "metadata": {},
   "outputs": [],
   "source": [
    "# Predict the probabilities of crime occurrence for each day of the week in the test set\n",
    "day_probabilities = random_forest.predict_proba(X_test)"
   ]
  },
  {
   "cell_type": "code",
   "execution_count": 162,
   "metadata": {},
   "outputs": [
    {
     "name": "stdout",
     "output_type": "stream",
     "text": [
      "           0        1         2      3         4     5     6     7         8   \\\n",
      "0     0.00000  0.00000  0.000000  0.000  0.000000  0.00  0.00  0.00  0.000000   \n",
      "1     0.17600  0.02000  0.129000  0.435  0.160000  0.07  0.00  0.00  0.000000   \n",
      "2     0.00000  0.00000  0.000000  0.000  0.000000  0.00  0.39  0.02  0.023333   \n",
      "3     0.27206  0.23931  0.420297  0.025  0.023333  0.02  0.00  0.00  0.000000   \n",
      "4     0.07000  0.27500  0.300000  0.005  0.350000  0.00  0.00  0.00  0.000000   \n",
      "...       ...      ...       ...    ...       ...   ...   ...   ...       ...   \n",
      "1422  0.04000  0.29000  0.000000  0.630  0.010000  0.03  0.00  0.00  0.000000   \n",
      "1423  0.00000  0.00000  0.000000  0.000  0.000000  0.00  0.00  0.00  0.000000   \n",
      "1424  0.00000  0.00000  0.000000  0.000  0.000000  0.00  0.00  0.00  0.000000   \n",
      "1425  0.00000  0.00000  0.000000  0.000  0.000000  0.00  0.00  0.00  0.000000   \n",
      "1426  0.00000  0.00000  0.000000  0.000  0.000000  0.00  0.00  0.00  0.000000   \n",
      "\n",
      "        9   ...   14   15   16   17        18        19      20        21  \\\n",
      "0     0.00  ...  0.0  0.0  0.0  0.0  0.095833  0.023333  0.2310  0.246667   \n",
      "1     0.00  ...  0.0  0.0  0.0  0.0  0.000000  0.000000  0.0000  0.000000   \n",
      "2     0.07  ...  0.0  0.0  0.0  0.0  0.000000  0.000000  0.0000  0.000000   \n",
      "3     0.00  ...  0.0  0.0  0.0  0.0  0.000000  0.000000  0.0000  0.000000   \n",
      "4     0.00  ...  0.0  0.0  0.0  0.0  0.000000  0.000000  0.0000  0.000000   \n",
      "...    ...  ...  ...  ...  ...  ...       ...       ...     ...       ...   \n",
      "1422  0.00  ...  0.0  0.0  0.0  0.0  0.000000  0.000000  0.0000  0.000000   \n",
      "1423  0.00  ...  0.0  0.0  0.0  0.0  0.078000  0.016667  0.5600  0.150000   \n",
      "1424  0.00  ...  0.0  0.0  0.0  0.0  0.000000  0.000000  0.1125  0.054167   \n",
      "1425  0.00  ...  0.0  0.0  0.0  0.0  0.010000  0.020000  0.4700  0.440000   \n",
      "1426  0.00  ...  0.0  0.0  0.0  0.0  0.010000  0.150000  0.0700  0.753333   \n",
      "\n",
      "            22        23  \n",
      "0     0.286500  0.116667  \n",
      "1     0.000000  0.000000  \n",
      "2     0.000000  0.000000  \n",
      "3     0.000000  0.000000  \n",
      "4     0.000000  0.000000  \n",
      "...        ...       ...  \n",
      "1422  0.000000  0.000000  \n",
      "1423  0.002000  0.193333  \n",
      "1424  0.487333  0.346000  \n",
      "1425  0.030000  0.030000  \n",
      "1426  0.016667  0.000000  \n",
      "\n",
      "[1427 rows x 24 columns]\n"
     ]
    }
   ],
   "source": [
    "# Display the probabilities for each day of the week in the test set\n",
    "day_names = label_encoder_trans.inverse_transform(random_forest.classes_)\n",
    "probabilities_df = pd.DataFrame(day_probabilities, columns=day_names)\n",
    "print(probabilities_df)"
   ]
  },
  {
   "cell_type": "code",
   "execution_count": 163,
   "metadata": {},
   "outputs": [
    {
     "name": "stdout",
     "output_type": "stream",
     "text": [
      "[22  3 11 ... 22 20 21]\n",
      "[22  3 11 ... 22 20 21]\n"
     ]
    }
   ],
   "source": [
    "predicted_classes = day_probabilities.argmax(axis=1)\n",
    "# Inverse transform the numerical class labels back to day names\n",
    "predicted_day_names = label_encoder_trans.inverse_transform(predicted_classes)\n",
    "print(predicted_day_names)\n",
    "print(predicted_classes)"
   ]
  },
  {
   "cell_type": "code",
   "execution_count": 164,
   "metadata": {},
   "outputs": [
    {
     "name": "stdout",
     "output_type": "stream",
     "text": [
      "Accuracy: 0.20602662929222143\n"
     ]
    }
   ],
   "source": [
    "# Calculate accuracy\n",
    "accuracy = accuracy_score(y_test, predicted_classes)\n",
    "print(\"Accuracy:\", accuracy)"
   ]
  },
  {
   "cell_type": "code",
   "execution_count": 165,
   "metadata": {},
   "outputs": [
    {
     "name": "stdout",
     "output_type": "stream",
     "text": [
      "Confusion Matrix:\n",
      "[[59 18 29 26 10  4  0  0  0  0  0  0  0  0  0  0  0  0  0  0  0  0  0  0]\n",
      " [47 15 16 10 11  5  0  0  0  0  0  0  0  0  0  0  0  0  0  0  0  0  0  0]\n",
      " [34 17 26 11 11  3  0  0  0  0  0  0  0  0  0  0  0  0  0  0  0  0  0  0]\n",
      " [29 16 19 15  7  4  0  0  0  0  0  0  0  0  0  0  0  0  0  0  0  0  0  0]\n",
      " [12  5 10  7  6  5  0  0  0  0  0  0  0  0  0  0  0  0  0  0  0  0  0  0]\n",
      " [13  5  5  4  2  2  0  0  0  0  0  0  0  0  0  0  0  0  0  0  0  0  0  0]\n",
      " [ 0  0  0  0  0  0  8  2  0  4  2  2  0  0  0  0  0  0  0  0  0  0  0  0]\n",
      " [ 0  0  0  0  0  0  2  1  1  1  0  3  0  0  0  0  0  0  0  0  0  0  0  0]\n",
      " [ 0  0  0  0  0  0  2  3  3  0  1  6  0  0  0  0  0  0  0  0  0  0  0  0]\n",
      " [ 0  0  0  0  0  0  2  2  2  6  1  3  0  0  0  0  0  0  0  0  0  0  0  0]\n",
      " [ 0  0  0  0  0  0  2  2  2  1  3  6  0  0  0  0  0  0  0  0  0  0  0  0]\n",
      " [ 0  0  0  0  0  0  6  1  2  5  4  3  0  0  0  0  0  0  0  0  0  0  0  0]\n",
      " [ 0  0  0  0  0  0  0  0  0  0  0  0  1  3  3  5  8  2  0  0  0  0  0  0]\n",
      " [ 0  0  0  0  0  0  0  0  0  0  0  0  3  3  3  4  6  3  0  0  0  0  0  0]\n",
      " [ 0  0  0  0  0  0  0  0  0  0  0  0  3  4  6  5  5  9  0  0  0  0  0  0]\n",
      " [ 0  0  0  0  0  0  0  0  0  0  0  0 12  4  7  7  9 15  0  0  0  0  0  0]\n",
      " [ 0  0  0  0  0  0  0  0  0  0  0  0  4  3 13  7  8 16  0  0  0  0  0  0]\n",
      " [ 0  0  0  0  0  0  0  0  0  0  0  0  7  3 10  8  9 15  0  0  0  0  0  0]\n",
      " [ 0  0  0  0  0  0  0  0  0  0  0  0  0  0  0  0  0  0  5  4  8 10 11 12]\n",
      " [ 0  0  0  0  0  0  0  0  0  0  0  0  0  0  0  0  0  0 13 13  3 20 12 23]\n",
      " [ 0  0  0  0  0  0  0  0  0  0  0  0  0  0  0  0  0  0 11 15 12  9 18 18]\n",
      " [ 0  0  0  0  0  0  0  0  0  0  0  0  0  0  0  0  0  0 18 12 17 25 22 26]\n",
      " [ 0  0  0  0  0  0  0  0  0  0  0  0  0  0  0  0  0  0 15  8 19 26 24 34]\n",
      " [ 0  0  0  0  0  0  0  0  0  0  0  0  0  0  0  0  0  0 10 19 14 18 30 28]]\n"
     ]
    }
   ],
   "source": [
    "# Calculate confusion matrix\n",
    "conf_matrix = confusion_matrix(y_test, predicted_classes)\n",
    "print(\"Confusion Matrix:\")\n",
    "print(conf_matrix)"
   ]
  },
  {
   "cell_type": "code",
   "execution_count": 166,
   "metadata": {},
   "outputs": [
    {
     "name": "stdout",
     "output_type": "stream",
     "text": [
      "AUC-ROC: 0.8495016013148741\n"
     ]
    }
   ],
   "source": [
    "# Calculate AUC-ROC (requires one-hot encoded y_test and day_probabilities)\n",
    "y_test_one_hot = pd.get_dummies(y_test)\n",
    "auc_roc = roc_auc_score(y_test_one_hot, day_probabilities, multi_class='ovr')\n",
    "print(\"AUC-ROC:\", auc_roc)"
   ]
  },
  {
   "cell_type": "code",
   "execution_count": 167,
   "metadata": {},
   "outputs": [
    {
     "data": {
      "text/html": [
       "<div>\n",
       "<style scoped>\n",
       "    .dataframe tbody tr th:only-of-type {\n",
       "        vertical-align: middle;\n",
       "    }\n",
       "\n",
       "    .dataframe tbody tr th {\n",
       "        vertical-align: top;\n",
       "    }\n",
       "\n",
       "    .dataframe thead th {\n",
       "        text-align: right;\n",
       "    }\n",
       "</style>\n",
       "<table border=\"1\" class=\"dataframe\">\n",
       "  <thead>\n",
       "    <tr style=\"text-align: right;\">\n",
       "      <th></th>\n",
       "      <th>0</th>\n",
       "      <th>1</th>\n",
       "      <th>2</th>\n",
       "      <th>3</th>\n",
       "      <th>4</th>\n",
       "      <th>5</th>\n",
       "      <th>6</th>\n",
       "      <th>7</th>\n",
       "      <th>8</th>\n",
       "      <th>9</th>\n",
       "      <th>...</th>\n",
       "      <th>14</th>\n",
       "      <th>15</th>\n",
       "      <th>16</th>\n",
       "      <th>17</th>\n",
       "      <th>18</th>\n",
       "      <th>19</th>\n",
       "      <th>20</th>\n",
       "      <th>21</th>\n",
       "      <th>22</th>\n",
       "      <th>23</th>\n",
       "    </tr>\n",
       "  </thead>\n",
       "  <tbody>\n",
       "    <tr>\n",
       "      <th>count</th>\n",
       "      <td>1427.000000</td>\n",
       "      <td>1427.000000</td>\n",
       "      <td>1427.000000</td>\n",
       "      <td>1427.000000</td>\n",
       "      <td>1427.000000</td>\n",
       "      <td>1427.000000</td>\n",
       "      <td>1427.000000</td>\n",
       "      <td>1427.000000</td>\n",
       "      <td>1427.000000</td>\n",
       "      <td>1427.000000</td>\n",
       "      <td>...</td>\n",
       "      <td>1427.000000</td>\n",
       "      <td>1427.000000</td>\n",
       "      <td>1427.000000</td>\n",
       "      <td>1427.000000</td>\n",
       "      <td>1427.000000</td>\n",
       "      <td>1427.000000</td>\n",
       "      <td>1427.000000</td>\n",
       "      <td>1427.000000</td>\n",
       "      <td>1427.000000</td>\n",
       "      <td>1427.000000</td>\n",
       "    </tr>\n",
       "    <tr>\n",
       "      <th>mean</th>\n",
       "      <td>0.117934</td>\n",
       "      <td>0.056849</td>\n",
       "      <td>0.072860</td>\n",
       "      <td>0.056572</td>\n",
       "      <td>0.040319</td>\n",
       "      <td>0.018949</td>\n",
       "      <td>0.013687</td>\n",
       "      <td>0.007638</td>\n",
       "      <td>0.007295</td>\n",
       "      <td>0.011102</td>\n",
       "      <td>...</td>\n",
       "      <td>0.029462</td>\n",
       "      <td>0.025944</td>\n",
       "      <td>0.029490</td>\n",
       "      <td>0.037572</td>\n",
       "      <td>0.048558</td>\n",
       "      <td>0.053053</td>\n",
       "      <td>0.057244</td>\n",
       "      <td>0.073947</td>\n",
       "      <td>0.078086</td>\n",
       "      <td>0.097402</td>\n",
       "    </tr>\n",
       "    <tr>\n",
       "      <th>std</th>\n",
       "      <td>0.228144</td>\n",
       "      <td>0.155438</td>\n",
       "      <td>0.171258</td>\n",
       "      <td>0.150282</td>\n",
       "      <td>0.127016</td>\n",
       "      <td>0.080562</td>\n",
       "      <td>0.072244</td>\n",
       "      <td>0.053799</td>\n",
       "      <td>0.050753</td>\n",
       "      <td>0.062267</td>\n",
       "      <td>...</td>\n",
       "      <td>0.109806</td>\n",
       "      <td>0.100535</td>\n",
       "      <td>0.109811</td>\n",
       "      <td>0.127570</td>\n",
       "      <td>0.141340</td>\n",
       "      <td>0.140967</td>\n",
       "      <td>0.146987</td>\n",
       "      <td>0.165100</td>\n",
       "      <td>0.173919</td>\n",
       "      <td>0.198296</td>\n",
       "    </tr>\n",
       "    <tr>\n",
       "      <th>min</th>\n",
       "      <td>0.000000</td>\n",
       "      <td>0.000000</td>\n",
       "      <td>0.000000</td>\n",
       "      <td>0.000000</td>\n",
       "      <td>0.000000</td>\n",
       "      <td>0.000000</td>\n",
       "      <td>0.000000</td>\n",
       "      <td>0.000000</td>\n",
       "      <td>0.000000</td>\n",
       "      <td>0.000000</td>\n",
       "      <td>...</td>\n",
       "      <td>0.000000</td>\n",
       "      <td>0.000000</td>\n",
       "      <td>0.000000</td>\n",
       "      <td>0.000000</td>\n",
       "      <td>0.000000</td>\n",
       "      <td>0.000000</td>\n",
       "      <td>0.000000</td>\n",
       "      <td>0.000000</td>\n",
       "      <td>0.000000</td>\n",
       "      <td>0.000000</td>\n",
       "    </tr>\n",
       "    <tr>\n",
       "      <th>25%</th>\n",
       "      <td>0.000000</td>\n",
       "      <td>0.000000</td>\n",
       "      <td>0.000000</td>\n",
       "      <td>0.000000</td>\n",
       "      <td>0.000000</td>\n",
       "      <td>0.000000</td>\n",
       "      <td>0.000000</td>\n",
       "      <td>0.000000</td>\n",
       "      <td>0.000000</td>\n",
       "      <td>0.000000</td>\n",
       "      <td>...</td>\n",
       "      <td>0.000000</td>\n",
       "      <td>0.000000</td>\n",
       "      <td>0.000000</td>\n",
       "      <td>0.000000</td>\n",
       "      <td>0.000000</td>\n",
       "      <td>0.000000</td>\n",
       "      <td>0.000000</td>\n",
       "      <td>0.000000</td>\n",
       "      <td>0.000000</td>\n",
       "      <td>0.000000</td>\n",
       "    </tr>\n",
       "    <tr>\n",
       "      <th>50%</th>\n",
       "      <td>0.000000</td>\n",
       "      <td>0.000000</td>\n",
       "      <td>0.000000</td>\n",
       "      <td>0.000000</td>\n",
       "      <td>0.000000</td>\n",
       "      <td>0.000000</td>\n",
       "      <td>0.000000</td>\n",
       "      <td>0.000000</td>\n",
       "      <td>0.000000</td>\n",
       "      <td>0.000000</td>\n",
       "      <td>...</td>\n",
       "      <td>0.000000</td>\n",
       "      <td>0.000000</td>\n",
       "      <td>0.000000</td>\n",
       "      <td>0.000000</td>\n",
       "      <td>0.000000</td>\n",
       "      <td>0.000000</td>\n",
       "      <td>0.000000</td>\n",
       "      <td>0.000000</td>\n",
       "      <td>0.000000</td>\n",
       "      <td>0.000000</td>\n",
       "    </tr>\n",
       "    <tr>\n",
       "      <th>75%</th>\n",
       "      <td>0.100833</td>\n",
       "      <td>0.010000</td>\n",
       "      <td>0.030000</td>\n",
       "      <td>0.015000</td>\n",
       "      <td>0.010000</td>\n",
       "      <td>0.000000</td>\n",
       "      <td>0.000000</td>\n",
       "      <td>0.000000</td>\n",
       "      <td>0.000000</td>\n",
       "      <td>0.000000</td>\n",
       "      <td>...</td>\n",
       "      <td>0.000000</td>\n",
       "      <td>0.000000</td>\n",
       "      <td>0.000000</td>\n",
       "      <td>0.000000</td>\n",
       "      <td>0.010000</td>\n",
       "      <td>0.020000</td>\n",
       "      <td>0.020000</td>\n",
       "      <td>0.040000</td>\n",
       "      <td>0.050000</td>\n",
       "      <td>0.066667</td>\n",
       "    </tr>\n",
       "    <tr>\n",
       "      <th>max</th>\n",
       "      <td>0.960000</td>\n",
       "      <td>0.953036</td>\n",
       "      <td>0.952500</td>\n",
       "      <td>0.890000</td>\n",
       "      <td>0.980000</td>\n",
       "      <td>0.700000</td>\n",
       "      <td>0.710000</td>\n",
       "      <td>0.880000</td>\n",
       "      <td>0.788000</td>\n",
       "      <td>0.670000</td>\n",
       "      <td>...</td>\n",
       "      <td>0.860000</td>\n",
       "      <td>0.880000</td>\n",
       "      <td>0.851167</td>\n",
       "      <td>0.910000</td>\n",
       "      <td>0.896667</td>\n",
       "      <td>0.890000</td>\n",
       "      <td>0.870000</td>\n",
       "      <td>0.963333</td>\n",
       "      <td>0.927500</td>\n",
       "      <td>0.940000</td>\n",
       "    </tr>\n",
       "  </tbody>\n",
       "</table>\n",
       "<p>8 rows × 24 columns</p>\n",
       "</div>"
      ],
      "text/plain": [
       "                0            1            2            3            4   \\\n",
       "count  1427.000000  1427.000000  1427.000000  1427.000000  1427.000000   \n",
       "mean      0.117934     0.056849     0.072860     0.056572     0.040319   \n",
       "std       0.228144     0.155438     0.171258     0.150282     0.127016   \n",
       "min       0.000000     0.000000     0.000000     0.000000     0.000000   \n",
       "25%       0.000000     0.000000     0.000000     0.000000     0.000000   \n",
       "50%       0.000000     0.000000     0.000000     0.000000     0.000000   \n",
       "75%       0.100833     0.010000     0.030000     0.015000     0.010000   \n",
       "max       0.960000     0.953036     0.952500     0.890000     0.980000   \n",
       "\n",
       "                5            6            7            8            9   ...  \\\n",
       "count  1427.000000  1427.000000  1427.000000  1427.000000  1427.000000  ...   \n",
       "mean      0.018949     0.013687     0.007638     0.007295     0.011102  ...   \n",
       "std       0.080562     0.072244     0.053799     0.050753     0.062267  ...   \n",
       "min       0.000000     0.000000     0.000000     0.000000     0.000000  ...   \n",
       "25%       0.000000     0.000000     0.000000     0.000000     0.000000  ...   \n",
       "50%       0.000000     0.000000     0.000000     0.000000     0.000000  ...   \n",
       "75%       0.000000     0.000000     0.000000     0.000000     0.000000  ...   \n",
       "max       0.700000     0.710000     0.880000     0.788000     0.670000  ...   \n",
       "\n",
       "                14           15           16           17           18  \\\n",
       "count  1427.000000  1427.000000  1427.000000  1427.000000  1427.000000   \n",
       "mean      0.029462     0.025944     0.029490     0.037572     0.048558   \n",
       "std       0.109806     0.100535     0.109811     0.127570     0.141340   \n",
       "min       0.000000     0.000000     0.000000     0.000000     0.000000   \n",
       "25%       0.000000     0.000000     0.000000     0.000000     0.000000   \n",
       "50%       0.000000     0.000000     0.000000     0.000000     0.000000   \n",
       "75%       0.000000     0.000000     0.000000     0.000000     0.010000   \n",
       "max       0.860000     0.880000     0.851167     0.910000     0.896667   \n",
       "\n",
       "                19           20           21           22           23  \n",
       "count  1427.000000  1427.000000  1427.000000  1427.000000  1427.000000  \n",
       "mean      0.053053     0.057244     0.073947     0.078086     0.097402  \n",
       "std       0.140967     0.146987     0.165100     0.173919     0.198296  \n",
       "min       0.000000     0.000000     0.000000     0.000000     0.000000  \n",
       "25%       0.000000     0.000000     0.000000     0.000000     0.000000  \n",
       "50%       0.000000     0.000000     0.000000     0.000000     0.000000  \n",
       "75%       0.020000     0.020000     0.040000     0.050000     0.066667  \n",
       "max       0.890000     0.870000     0.963333     0.927500     0.940000  \n",
       "\n",
       "[8 rows x 24 columns]"
      ]
     },
     "execution_count": 167,
     "metadata": {},
     "output_type": "execute_result"
    }
   ],
   "source": [
    "#get the day with the high mean of probability \n",
    "probabilities_df.describe(include='all')\n"
   ]
  }
 ],
 "metadata": {
  "kernelspec": {
   "display_name": "Python 3",
   "language": "python",
   "name": "python3"
  },
  "language_info": {
   "codemirror_mode": {
    "name": "ipython",
    "version": 3
   },
   "file_extension": ".py",
   "mimetype": "text/x-python",
   "name": "python",
   "nbconvert_exporter": "python",
   "pygments_lexer": "ipython3",
   "version": "3.7.2"
  },
  "orig_nbformat": 4
 },
 "nbformat": 4,
 "nbformat_minor": 2
}
