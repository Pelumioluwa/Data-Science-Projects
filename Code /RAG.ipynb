{
 "cells": [
  {
   "cell_type": "markdown",
   "metadata": {},
   "source": [
    "This is the workbook to train an NLP model for summarization and keywords identification on Standards of Finance Sustainable practice "
   ]
  },
  {
   "cell_type": "code",
   "execution_count": 11,
   "metadata": {},
   "outputs": [
    {
     "name": "stdout",
     "output_type": "stream",
     "text": [
      "Requirement already satisfied: Office365-REST-Python-Client in /Library/Frameworks/Python.framework/Versions/3.11/lib/python3.11/site-packages (2.5.5)\n",
      "Requirement already satisfied: requests in /Users/pelumioluwaabiola/Library/Python/3.11/lib/python/site-packages (from Office365-REST-Python-Client) (2.31.0)\n",
      "Requirement already satisfied: msal in /Library/Frameworks/Python.framework/Versions/3.11/lib/python3.11/site-packages (from Office365-REST-Python-Client) (1.26.0)\n",
      "Requirement already satisfied: pytz in /Library/Frameworks/Python.framework/Versions/3.11/lib/python3.11/site-packages (from Office365-REST-Python-Client) (2023.3.post1)\n",
      "Requirement already satisfied: typing-extensions>=4.0.0 in /Library/Frameworks/Python.framework/Versions/3.11/lib/python3.11/site-packages (from Office365-REST-Python-Client) (4.8.0)\n",
      "Requirement already satisfied: PyJWT[crypto]<3,>=1.0.0 in /Library/Frameworks/Python.framework/Versions/3.11/lib/python3.11/site-packages (from msal->Office365-REST-Python-Client) (2.8.0)\n",
      "Requirement already satisfied: cryptography<44,>=0.6 in /Library/Frameworks/Python.framework/Versions/3.11/lib/python3.11/site-packages (from msal->Office365-REST-Python-Client) (42.0.1)\n",
      "Requirement already satisfied: charset-normalizer<4,>=2 in /Users/pelumioluwaabiola/Library/Python/3.11/lib/python/site-packages (from requests->Office365-REST-Python-Client) (3.3.2)\n",
      "Requirement already satisfied: idna<4,>=2.5 in /Users/pelumioluwaabiola/Library/Python/3.11/lib/python/site-packages (from requests->Office365-REST-Python-Client) (3.4)\n",
      "Requirement already satisfied: urllib3<3,>=1.21.1 in /Users/pelumioluwaabiola/Library/Python/3.11/lib/python/site-packages (from requests->Office365-REST-Python-Client) (2.0.7)\n",
      "Requirement already satisfied: certifi>=2017.4.17 in /Users/pelumioluwaabiola/Library/Python/3.11/lib/python/site-packages (from requests->Office365-REST-Python-Client) (2023.7.22)\n",
      "Requirement already satisfied: cffi>=1.12 in /Users/pelumioluwaabiola/Library/Python/3.11/lib/python/site-packages (from cryptography<44,>=0.6->msal->Office365-REST-Python-Client) (1.16.0)\n",
      "Requirement already satisfied: pycparser in /Users/pelumioluwaabiola/Library/Python/3.11/lib/python/site-packages (from cffi>=1.12->cryptography<44,>=0.6->msal->Office365-REST-Python-Client) (2.21)\n",
      "\n",
      "\u001b[1m[\u001b[0m\u001b[34;49mnotice\u001b[0m\u001b[1;39;49m]\u001b[0m\u001b[39;49m A new release of pip is available: \u001b[0m\u001b[31;49m23.2.1\u001b[0m\u001b[39;49m -> \u001b[0m\u001b[32;49m23.3.2\u001b[0m\n",
      "\u001b[1m[\u001b[0m\u001b[34;49mnotice\u001b[0m\u001b[1;39;49m]\u001b[0m\u001b[39;49m To update, run: \u001b[0m\u001b[32;49mpip3 install --upgrade pip\u001b[0m\n",
      "Note: you may need to restart the kernel to use updated packages.\n"
     ]
    }
   ],
   "source": [
    "\n"
   ]
  },
  {
   "cell_type": "code",
   "execution_count": 14,
   "metadata": {},
   "outputs": [
    {
     "name": "stderr",
     "output_type": "stream",
     "text": [
      "An error occurred while retrieving token from XML response: AADSTS53003: Access has been blocked by Conditional Access policies. The access policy does not allow token issuance.\n"
     ]
    },
    {
     "ename": "ValueError",
     "evalue": "An error occurred while retrieving token from XML response: AADSTS53003: Access has been blocked by Conditional Access policies. The access policy does not allow token issuance.",
     "output_type": "error",
     "traceback": [
      "\u001b[0;31m---------------------------------------------------------------------------\u001b[0m",
      "\u001b[0;31mValueError\u001b[0m                                Traceback (most recent call last)",
      "Cell \u001b[0;32mIn[14], line 13\u001b[0m\n\u001b[1;32m     11\u001b[0m     web \u001b[38;5;241m=\u001b[39m ctx\u001b[38;5;241m.\u001b[39mweb\n\u001b[1;32m     12\u001b[0m     ctx\u001b[38;5;241m.\u001b[39mload(web)\n\u001b[0;32m---> 13\u001b[0m     \u001b[43mctx\u001b[49m\u001b[38;5;241;43m.\u001b[39;49m\u001b[43mexecute_query\u001b[49m\u001b[43m(\u001b[49m\u001b[43m)\u001b[49m\n\u001b[1;32m     14\u001b[0m     \u001b[38;5;28mprint\u001b[39m(\u001b[38;5;124m\"\u001b[39m\u001b[38;5;124mWeb title: \u001b[39m\u001b[38;5;132;01m{0}\u001b[39;00m\u001b[38;5;124m\"\u001b[39m\u001b[38;5;241m.\u001b[39mformat(web\u001b[38;5;241m.\u001b[39mproperties[\u001b[38;5;124m'\u001b[39m\u001b[38;5;124mTitle\u001b[39m\u001b[38;5;124m'\u001b[39m]))\n\u001b[1;32m     15\u001b[0m \u001b[38;5;28;01melse\u001b[39;00m:\n",
      "File \u001b[0;32m/Library/Frameworks/Python.framework/Versions/3.11/lib/python3.11/site-packages/office365/runtime/client_runtime_context.py:183\u001b[0m, in \u001b[0;36mClientRuntimeContext.execute_query\u001b[0;34m(self)\u001b[0m\n\u001b[1;32m    181\u001b[0m \u001b[38;5;28;01mwhile\u001b[39;00m \u001b[38;5;28mself\u001b[39m\u001b[38;5;241m.\u001b[39mhas_pending_request:\n\u001b[1;32m    182\u001b[0m     qry \u001b[38;5;241m=\u001b[39m \u001b[38;5;28mself\u001b[39m\u001b[38;5;241m.\u001b[39m_get_next_query()\n\u001b[0;32m--> 183\u001b[0m     \u001b[38;5;28;43mself\u001b[39;49m\u001b[38;5;241;43m.\u001b[39;49m\u001b[43mpending_request\u001b[49m\u001b[43m(\u001b[49m\u001b[43m)\u001b[49m\u001b[38;5;241;43m.\u001b[39;49m\u001b[43mexecute_query\u001b[49m\u001b[43m(\u001b[49m\u001b[43mqry\u001b[49m\u001b[43m)\u001b[49m\n\u001b[1;32m    184\u001b[0m \u001b[38;5;28;01mreturn\u001b[39;00m \u001b[38;5;28mself\u001b[39m\n",
      "File \u001b[0;32m/Library/Frameworks/Python.framework/Versions/3.11/lib/python3.11/site-packages/office365/runtime/client_request.py:37\u001b[0m, in \u001b[0;36mClientRequest.execute_query\u001b[0;34m(self, query)\u001b[0m\n\u001b[1;32m     35\u001b[0m \u001b[38;5;28;01mtry\u001b[39;00m:\n\u001b[1;32m     36\u001b[0m     request \u001b[38;5;241m=\u001b[39m \u001b[38;5;28mself\u001b[39m\u001b[38;5;241m.\u001b[39mbuild_request(query)\n\u001b[0;32m---> 37\u001b[0m     response \u001b[38;5;241m=\u001b[39m \u001b[38;5;28;43mself\u001b[39;49m\u001b[38;5;241;43m.\u001b[39;49m\u001b[43mexecute_request_direct\u001b[49m\u001b[43m(\u001b[49m\u001b[43mrequest\u001b[49m\u001b[43m)\u001b[49m\n\u001b[1;32m     38\u001b[0m     response\u001b[38;5;241m.\u001b[39mraise_for_status()\n\u001b[1;32m     39\u001b[0m     \u001b[38;5;28mself\u001b[39m\u001b[38;5;241m.\u001b[39mprocess_response(response, query)\n",
      "File \u001b[0;32m/Library/Frameworks/Python.framework/Versions/3.11/lib/python3.11/site-packages/office365/runtime/client_request.py:47\u001b[0m, in \u001b[0;36mClientRequest.execute_request_direct\u001b[0;34m(self, request)\u001b[0m\n\u001b[1;32m     44\u001b[0m \u001b[38;5;28;01mdef\u001b[39;00m \u001b[38;5;21mexecute_request_direct\u001b[39m(\u001b[38;5;28mself\u001b[39m, request):\n\u001b[1;32m     45\u001b[0m     \u001b[38;5;66;03m# type: (RequestOptions) -> requests.Response\u001b[39;00m\n\u001b[1;32m     46\u001b[0m \u001b[38;5;250m    \u001b[39m\u001b[38;5;124;03m\"\"\"Execute the client request\"\"\"\u001b[39;00m\n\u001b[0;32m---> 47\u001b[0m     \u001b[38;5;28;43mself\u001b[39;49m\u001b[38;5;241;43m.\u001b[39;49m\u001b[43mbeforeExecute\u001b[49m\u001b[38;5;241;43m.\u001b[39;49m\u001b[43mnotify\u001b[49m\u001b[43m(\u001b[49m\u001b[43mrequest\u001b[49m\u001b[43m)\u001b[49m\n\u001b[1;32m     48\u001b[0m     \u001b[38;5;28;01mif\u001b[39;00m request\u001b[38;5;241m.\u001b[39mmethod \u001b[38;5;241m==\u001b[39m HttpMethod\u001b[38;5;241m.\u001b[39mPost:\n\u001b[1;32m     49\u001b[0m         \u001b[38;5;28;01mif\u001b[39;00m request\u001b[38;5;241m.\u001b[39mis_bytes \u001b[38;5;129;01mor\u001b[39;00m request\u001b[38;5;241m.\u001b[39mis_file:\n",
      "File \u001b[0;32m/Library/Frameworks/Python.framework/Versions/3.11/lib/python3.11/site-packages/office365/runtime/types/event_handler.py:41\u001b[0m, in \u001b[0;36mEventHandler.notify\u001b[0;34m(self, *args, **kwargs)\u001b[0m\n\u001b[1;32m     39\u001b[0m \u001b[38;5;28;01mif\u001b[39;00m \u001b[38;5;28mself\u001b[39m\u001b[38;5;241m.\u001b[39m_once:\n\u001b[1;32m     40\u001b[0m     \u001b[38;5;28mself\u001b[39m\u001b[38;5;241m.\u001b[39m_listeners\u001b[38;5;241m.\u001b[39mremove(listener)\n\u001b[0;32m---> 41\u001b[0m \u001b[43mlistener\u001b[49m\u001b[43m(\u001b[49m\u001b[38;5;241;43m*\u001b[39;49m\u001b[43margs\u001b[49m\u001b[43m,\u001b[49m\u001b[43m \u001b[49m\u001b[38;5;241;43m*\u001b[39;49m\u001b[38;5;241;43m*\u001b[39;49m\u001b[43mkwargs\u001b[49m\u001b[43m)\u001b[49m\n",
      "File \u001b[0;32m/Library/Frameworks/Python.framework/Versions/3.11/lib/python3.11/site-packages/office365/sharepoint/client_context.py:281\u001b[0m, in \u001b[0;36mClientContext._authenticate_request\u001b[0;34m(self, request)\u001b[0m\n\u001b[1;32m    278\u001b[0m \u001b[38;5;28;01mdef\u001b[39;00m \u001b[38;5;21m_authenticate_request\u001b[39m(\u001b[38;5;28mself\u001b[39m, request):\n\u001b[1;32m    279\u001b[0m     \u001b[38;5;66;03m# type: (RequestOptions) -> None\u001b[39;00m\n\u001b[1;32m    280\u001b[0m \u001b[38;5;250m    \u001b[39m\u001b[38;5;124;03m\"\"\"Authenticate request\"\"\"\u001b[39;00m\n\u001b[0;32m--> 281\u001b[0m     \u001b[38;5;28;43mself\u001b[39;49m\u001b[38;5;241;43m.\u001b[39;49m\u001b[43mauthentication_context\u001b[49m\u001b[38;5;241;43m.\u001b[39;49m\u001b[43mauthenticate_request\u001b[49m\u001b[43m(\u001b[49m\u001b[43mrequest\u001b[49m\u001b[43m)\u001b[49m\n",
      "File \u001b[0;32m/Library/Frameworks/Python.framework/Versions/3.11/lib/python3.11/site-packages/office365/runtime/auth/authentication_context.py:239\u001b[0m, in \u001b[0;36mAuthenticationContext.authenticate_request\u001b[0;34m(self, request)\u001b[0m\n\u001b[1;32m    237\u001b[0m \u001b[38;5;28;01mif\u001b[39;00m \u001b[38;5;28mself\u001b[39m\u001b[38;5;241m.\u001b[39m_authenticate \u001b[38;5;129;01mis\u001b[39;00m \u001b[38;5;28;01mNone\u001b[39;00m:\n\u001b[1;32m    238\u001b[0m     \u001b[38;5;28;01mraise\u001b[39;00m \u001b[38;5;167;01mValueError\u001b[39;00m(\u001b[38;5;124m\"\u001b[39m\u001b[38;5;124mAuthentication credentials are missing or invalid\u001b[39m\u001b[38;5;124m\"\u001b[39m)\n\u001b[0;32m--> 239\u001b[0m \u001b[38;5;28;43mself\u001b[39;49m\u001b[38;5;241;43m.\u001b[39;49m\u001b[43m_authenticate\u001b[49m\u001b[43m(\u001b[49m\u001b[43mrequest\u001b[49m\u001b[43m)\u001b[49m\n",
      "File \u001b[0;32m/Library/Frameworks/Python.framework/Versions/3.11/lib/python3.11/site-packages/office365/runtime/auth/authentication_context.py:212\u001b[0m, in \u001b[0;36mAuthenticationContext.acquire_token_for_user.<locals>._authenticate\u001b[0;34m(request)\u001b[0m\n\u001b[1;32m    211\u001b[0m \u001b[38;5;28;01mdef\u001b[39;00m \u001b[38;5;21m_authenticate\u001b[39m(request):\n\u001b[0;32m--> 212\u001b[0m     \u001b[43mprovider\u001b[49m\u001b[38;5;241;43m.\u001b[39;49m\u001b[43mauthenticate_request\u001b[49m\u001b[43m(\u001b[49m\u001b[43mrequest\u001b[49m\u001b[43m)\u001b[49m\n",
      "File \u001b[0;32m/Library/Frameworks/Python.framework/Versions/3.11/lib/python3.11/site-packages/office365/runtime/auth/providers/saml_token_provider.py:85\u001b[0m, in \u001b[0;36mSamlTokenProvider.authenticate_request\u001b[0;34m(self, request)\u001b[0m\n\u001b[1;32m     81\u001b[0m \u001b[38;5;250m\u001b[39m\u001b[38;5;124;03m\"\"\"\u001b[39;00m\n\u001b[1;32m     82\u001b[0m \u001b[38;5;124;03mAuthenticate request handler\u001b[39;00m\n\u001b[1;32m     83\u001b[0m \u001b[38;5;124;03m\"\"\"\u001b[39;00m\n\u001b[1;32m     84\u001b[0m logger \u001b[38;5;241m=\u001b[39m \u001b[38;5;28mself\u001b[39m\u001b[38;5;241m.\u001b[39mlogger(\u001b[38;5;28mself\u001b[39m\u001b[38;5;241m.\u001b[39mauthenticate_request\u001b[38;5;241m.\u001b[39m\u001b[38;5;18m__name__\u001b[39m)\n\u001b[0;32m---> 85\u001b[0m \u001b[38;5;28;43mself\u001b[39;49m\u001b[38;5;241;43m.\u001b[39;49m\u001b[43mensure_authentication_cookie\u001b[49m\u001b[43m(\u001b[49m\u001b[43m)\u001b[49m\n\u001b[1;32m     86\u001b[0m logger\u001b[38;5;241m.\u001b[39mdebug_secrets(\u001b[38;5;28mself\u001b[39m\u001b[38;5;241m.\u001b[39m_cached_auth_cookies)\n\u001b[1;32m     87\u001b[0m cookie_header_value \u001b[38;5;241m=\u001b[39m \u001b[38;5;124m\"\u001b[39m\u001b[38;5;124m; \u001b[39m\u001b[38;5;124m\"\u001b[39m\u001b[38;5;241m.\u001b[39mjoin(\n\u001b[1;32m     88\u001b[0m     [\n\u001b[1;32m     89\u001b[0m         \u001b[38;5;124m\"\u001b[39m\u001b[38;5;124m=\u001b[39m\u001b[38;5;124m\"\u001b[39m\u001b[38;5;241m.\u001b[39mjoin([key, \u001b[38;5;28mstr\u001b[39m(val)])\n\u001b[1;32m     90\u001b[0m         \u001b[38;5;28;01mfor\u001b[39;00m key, val \u001b[38;5;129;01min\u001b[39;00m \u001b[38;5;28mself\u001b[39m\u001b[38;5;241m.\u001b[39m_cached_auth_cookies\u001b[38;5;241m.\u001b[39mitems()\n\u001b[1;32m     91\u001b[0m     ]\n\u001b[1;32m     92\u001b[0m )\n",
      "File \u001b[0;32m/Library/Frameworks/Python.framework/Versions/3.11/lib/python3.11/site-packages/office365/runtime/auth/providers/saml_token_provider.py:97\u001b[0m, in \u001b[0;36mSamlTokenProvider.ensure_authentication_cookie\u001b[0;34m(self)\u001b[0m\n\u001b[1;32m     95\u001b[0m \u001b[38;5;28;01mdef\u001b[39;00m \u001b[38;5;21mensure_authentication_cookie\u001b[39m(\u001b[38;5;28mself\u001b[39m):\n\u001b[1;32m     96\u001b[0m     \u001b[38;5;28;01mif\u001b[39;00m \u001b[38;5;28mself\u001b[39m\u001b[38;5;241m.\u001b[39m_cached_auth_cookies \u001b[38;5;129;01mis\u001b[39;00m \u001b[38;5;28;01mNone\u001b[39;00m:\n\u001b[0;32m---> 97\u001b[0m         \u001b[38;5;28mself\u001b[39m\u001b[38;5;241m.\u001b[39m_cached_auth_cookies \u001b[38;5;241m=\u001b[39m \u001b[38;5;28;43mself\u001b[39;49m\u001b[38;5;241;43m.\u001b[39;49m\u001b[43mget_authentication_cookie\u001b[49m\u001b[43m(\u001b[49m\u001b[43m)\u001b[49m\n\u001b[1;32m     98\u001b[0m     \u001b[38;5;28;01mreturn\u001b[39;00m \u001b[38;5;28;01mTrue\u001b[39;00m\n",
      "File \u001b[0;32m/Library/Frameworks/Python.framework/Versions/3.11/lib/python3.11/site-packages/office365/runtime/auth/providers/saml_token_provider.py:111\u001b[0m, in \u001b[0;36mSamlTokenProvider.get_authentication_cookie\u001b[0;34m(self)\u001b[0m\n\u001b[1;32m    109\u001b[0m         token \u001b[38;5;241m=\u001b[39m \u001b[38;5;28mself\u001b[39m\u001b[38;5;241m.\u001b[39m_acquire_service_token_from_adfs(user_realm\u001b[38;5;241m.\u001b[39mSTSAuthUrl)\n\u001b[1;32m    110\u001b[0m     \u001b[38;5;28;01melse\u001b[39;00m:\n\u001b[0;32m--> 111\u001b[0m         token \u001b[38;5;241m=\u001b[39m \u001b[38;5;28;43mself\u001b[39;49m\u001b[38;5;241;43m.\u001b[39;49m\u001b[43m_acquire_service_token\u001b[49m\u001b[43m(\u001b[49m\u001b[43m)\u001b[49m\n\u001b[1;32m    112\u001b[0m     \u001b[38;5;28;01mreturn\u001b[39;00m \u001b[38;5;28mself\u001b[39m\u001b[38;5;241m.\u001b[39m_get_authentication_cookie(token, user_realm\u001b[38;5;241m.\u001b[39mIsFederated)\n\u001b[1;32m    113\u001b[0m \u001b[38;5;28;01mexcept\u001b[39;00m requests\u001b[38;5;241m.\u001b[39mexceptions\u001b[38;5;241m.\u001b[39mRequestException \u001b[38;5;28;01mas\u001b[39;00m e:\n",
      "File \u001b[0;32m/Library/Frameworks/Python.framework/Versions/3.11/lib/python3.11/site-packages/office365/runtime/auth/providers/saml_token_provider.py:212\u001b[0m, in \u001b[0;36mSamlTokenProvider._acquire_service_token\u001b[0;34m(self)\u001b[0m\n\u001b[1;32m    206\u001b[0m logger\u001b[38;5;241m.\u001b[39mdebug_secrets(\u001b[38;5;124m\"\u001b[39m\u001b[38;5;124moptions: \u001b[39m\u001b[38;5;132;01m%s\u001b[39;00m\u001b[38;5;124m\"\u001b[39m, payload)\n\u001b[1;32m    207\u001b[0m response \u001b[38;5;241m=\u001b[39m requests\u001b[38;5;241m.\u001b[39mpost(\n\u001b[1;32m    208\u001b[0m     \u001b[38;5;28mself\u001b[39m\u001b[38;5;241m.\u001b[39m_sts_profile\u001b[38;5;241m.\u001b[39msecurity_token_service_url,\n\u001b[1;32m    209\u001b[0m     data\u001b[38;5;241m=\u001b[39mpayload,\n\u001b[1;32m    210\u001b[0m     headers\u001b[38;5;241m=\u001b[39m{\u001b[38;5;124m\"\u001b[39m\u001b[38;5;124mContent-Type\u001b[39m\u001b[38;5;124m\"\u001b[39m: \u001b[38;5;124m\"\u001b[39m\u001b[38;5;124mapplication/x-www-form-urlencoded\u001b[39m\u001b[38;5;124m\"\u001b[39m},\n\u001b[1;32m    211\u001b[0m )\n\u001b[0;32m--> 212\u001b[0m token \u001b[38;5;241m=\u001b[39m \u001b[38;5;28;43mself\u001b[39;49m\u001b[38;5;241;43m.\u001b[39;49m\u001b[43m_process_service_token_response\u001b[49m\u001b[43m(\u001b[49m\u001b[43mresponse\u001b[49m\u001b[43m)\u001b[49m\n\u001b[1;32m    213\u001b[0m logger\u001b[38;5;241m.\u001b[39mdebug_secrets(\u001b[38;5;124m\"\u001b[39m\u001b[38;5;124msecurity token: \u001b[39m\u001b[38;5;132;01m%s\u001b[39;00m\u001b[38;5;124m\"\u001b[39m, token)\n\u001b[1;32m    214\u001b[0m \u001b[38;5;28;01mreturn\u001b[39;00m token\n",
      "File \u001b[0;32m/Library/Frameworks/Python.framework/Versions/3.11/lib/python3.11/site-packages/office365/runtime/auth/providers/saml_token_provider.py:247\u001b[0m, in \u001b[0;36mSamlTokenProvider._process_service_token_response\u001b[0;34m(self, response)\u001b[0m\n\u001b[1;32m    243\u001b[0m         \u001b[38;5;28mself\u001b[39m\u001b[38;5;241m.\u001b[39merror \u001b[38;5;241m=\u001b[39m \u001b[38;5;124m\"\u001b[39m\u001b[38;5;124mAn error occurred while retrieving token from XML response: \u001b[39m\u001b[38;5;132;01m{0}\u001b[39;00m\u001b[38;5;124m\"\u001b[39m\u001b[38;5;241m.\u001b[39mformat(\n\u001b[1;32m    244\u001b[0m             error\u001b[38;5;241m.\u001b[39mtext\n\u001b[1;32m    245\u001b[0m         )\n\u001b[1;32m    246\u001b[0m     logger\u001b[38;5;241m.\u001b[39merror(\u001b[38;5;28mself\u001b[39m\u001b[38;5;241m.\u001b[39merror)\n\u001b[0;32m--> 247\u001b[0m     \u001b[38;5;28;01mraise\u001b[39;00m \u001b[38;5;167;01mValueError\u001b[39;00m(\u001b[38;5;28mself\u001b[39m\u001b[38;5;241m.\u001b[39merror)\n\u001b[1;32m    249\u001b[0m \u001b[38;5;66;03m# extract token\u001b[39;00m\n\u001b[1;32m    250\u001b[0m token \u001b[38;5;241m=\u001b[39m xml\u001b[38;5;241m.\u001b[39mfind(\n\u001b[1;32m    251\u001b[0m     \u001b[38;5;124m\"\u001b[39m\u001b[38;5;132;01m{0}\u001b[39;00m\u001b[38;5;124mBody/\u001b[39m\u001b[38;5;132;01m{1}\u001b[39;00m\u001b[38;5;124mRequestSecurityTokenResponse/\u001b[39m\u001b[38;5;132;01m{1}\u001b[39;00m\u001b[38;5;124mRequestedSecurityToken/\u001b[39m\u001b[38;5;132;01m{2}\u001b[39;00m\u001b[38;5;124mBinarySecurityToken\u001b[39m\u001b[38;5;124m\"\u001b[39m\u001b[38;5;241m.\u001b[39mformat(\n\u001b[1;32m    252\u001b[0m         \u001b[38;5;28mself\u001b[39m\u001b[38;5;241m.\u001b[39m__ns_prefixes[\u001b[38;5;124m\"\u001b[39m\u001b[38;5;124ms\u001b[39m\u001b[38;5;124m\"\u001b[39m],\n\u001b[0;32m   (...)\u001b[0m\n\u001b[1;32m    255\u001b[0m     )\n\u001b[1;32m    256\u001b[0m )\n",
      "\u001b[0;31mValueError\u001b[0m: An error occurred while retrieving token from XML response: AADSTS53003: Access has been blocked by Conditional Access policies. The access policy does not allow token issuance."
     ]
    }
   ],
   "source": [
    "from office365.runtime.auth.authentication_context import AuthenticationContext\n",
    "from office365.sharepoint.client_context import ClientContext\n",
    "\n",
    "site_url = 'https://yuoffice.sharepoint.com/'\n",
    "username = 'pelumi@yorku.ca'\n",
    "password = 'Foodcourt1234'\n",
    "\n",
    "context_auth = AuthenticationContext(url=site_url)\n",
    "if context_auth.acquire_token_for_user(username, password):\n",
    "    ctx = ClientContext(site_url, context_auth)\n",
    "    web = ctx.web\n",
    "    ctx.load(web)\n",
    "    ctx.execute_query()\n",
    "    print(\"Web title: {0}\".format(web.properties['Title']))\n",
    "else:\n",
    "    print(context_auth.get_last_error())"
   ]
  },
  {
   "cell_type": "code",
   "execution_count": null,
   "metadata": {},
   "outputs": [],
   "source": [
    "#convert pdf to txt file\n",
    "import PyPDF2\n",
    "\n",
    "def convert_pdf_to_txt(file_path):\n",
    "    # Open the PDF file in read-binary mode\n",
    "    with open(file_path, 'rb') as pdf_file:\n",
    "        # Create a PDF file reader object\n",
    "        pdf_reader = PyPDF2.PdfFileReader(pdf_file)\n",
    "\n",
    "        # Get the number of pages in the PDF\n",
    "        num_pages = pdf_reader.numPages\n",
    "\n",
    "        # Loop through each page and extract the text\n",
    "        text = ''\n",
    "        for page in range(num_pages):\n",
    "            text += pdf_reader.getPage(page).extractText()\n",
    "\n",
    "    # Write the extracted text to a new text file\n",
    "    with open('output.txt', 'w') as txt_file:\n",
    "        txt_file.write(text)\n",
    "\n",
    "# Call the function with the path to your PDF file\n",
    "convert_pdf_to_txt('path_to_your_pdf.pdf')"
   ]
  },
  {
   "cell_type": "code",
   "execution_count": null,
   "metadata": {},
   "outputs": [],
   "source": [
    "https://yuoffice-my.sharepoint.com/:b:/g/personal/pelumi_yorku_ca/EdU-EDHJj7ZLgeSuSM2G_bEBj8uNJVXvipSljVgyy7Z21w?e=olEVOg"
   ]
  }
 ],
 "metadata": {
  "kernelspec": {
   "display_name": "Python 3",
   "language": "python",
   "name": "python3"
  },
  "language_info": {
   "codemirror_mode": {
    "name": "ipython",
    "version": 3
   },
   "file_extension": ".py",
   "mimetype": "text/x-python",
   "name": "python",
   "nbconvert_exporter": "python",
   "pygments_lexer": "ipython3",
   "version": "3.11.5"
  }
 },
 "nbformat": 4,
 "nbformat_minor": 2
}
